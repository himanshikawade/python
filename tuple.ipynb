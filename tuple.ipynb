{
 "cells": [
  {
   "cell_type": "code",
   "execution_count": 1,
   "id": "d4985e12-5f9d-45b7-baee-f1557c14a2d3",
   "metadata": {},
   "outputs": [
    {
     "data": {
      "text/plain": [
       "tuple"
      ]
     },
     "execution_count": 1,
     "metadata": {},
     "output_type": "execute_result"
    }
   ],
   "source": [
    "t=()\n",
    "type(t)"
   ]
  },
  {
   "cell_type": "code",
   "execution_count": 2,
   "id": "b2e9f52d-d83c-4a29-9b49-7528e41eae56",
   "metadata": {},
   "outputs": [
    {
     "data": {
      "text/plain": [
       "(1, 2, 3, 4, 5, 6, 7, 8, 9, 'himanshi')"
      ]
     },
     "execution_count": 2,
     "metadata": {},
     "output_type": "execute_result"
    }
   ],
   "source": [
    "t1=(1,2,3,4,5,6,7,8,9,'himanshi')\n",
    "t1"
   ]
  },
  {
   "cell_type": "code",
   "execution_count": 3,
   "id": "08cf87f6-4a61-4a2b-a6eb-c47879f317f5",
   "metadata": {},
   "outputs": [
    {
     "data": {
      "text/plain": [
       "tuple"
      ]
     },
     "execution_count": 3,
     "metadata": {},
     "output_type": "execute_result"
    }
   ],
   "source": [
    "type(t1)"
   ]
  },
  {
   "cell_type": "code",
   "execution_count": 6,
   "id": "1267c780-0670-42a6-8f7d-6441e0379067",
   "metadata": {},
   "outputs": [
    {
     "data": {
      "text/plain": [
       "6"
      ]
     },
     "execution_count": 6,
     "metadata": {},
     "output_type": "execute_result"
    }
   ],
   "source": [
    "t1[5]"
   ]
  },
  {
   "cell_type": "code",
   "execution_count": 5,
   "id": "9d792f02-25bd-4e66-ba06-15902b26f634",
   "metadata": {},
   "outputs": [
    {
     "data": {
      "text/plain": [
       "2"
      ]
     },
     "execution_count": 5,
     "metadata": {},
     "output_type": "execute_result"
    }
   ],
   "source": [
    "t1[1]"
   ]
  },
  {
   "cell_type": "code",
   "execution_count": 7,
   "id": "038af5f6-b65c-4e89-8635-9f6c66e02db0",
   "metadata": {},
   "outputs": [
    {
     "data": {
      "text/plain": [
       "('himanshi', 9, 8, 7, 6, 5, 4, 3, 2, 1)"
      ]
     },
     "execution_count": 7,
     "metadata": {},
     "output_type": "execute_result"
    }
   ],
   "source": [
    "t1[::-1]"
   ]
  },
  {
   "cell_type": "code",
   "execution_count": 9,
   "id": "1f2a93bd-81c7-48da-829f-cae540bf02df",
   "metadata": {},
   "outputs": [
    {
     "data": {
      "text/plain": [
       "(1, 2, 3, 4, 5, 6, 7, 8, 9, 'himanshi')"
      ]
     },
     "execution_count": 9,
     "metadata": {},
     "output_type": "execute_result"
    }
   ],
   "source": [
    "t1[0:]"
   ]
  },
  {
   "cell_type": "code",
   "execution_count": 13,
   "id": "b7e5898d-e4bf-44f4-b12e-f6650da33e28",
   "metadata": {},
   "outputs": [
    {
     "data": {
      "text/plain": [
       "1"
      ]
     },
     "execution_count": 13,
     "metadata": {},
     "output_type": "execute_result"
    }
   ],
   "source": [
    "t1.count(4)"
   ]
  },
  {
   "cell_type": "code",
   "execution_count": 15,
   "id": "64c07fab-e758-4451-9dc0-e1f5e7cf99da",
   "metadata": {},
   "outputs": [
    {
     "data": {
      "text/plain": [
       "4"
      ]
     },
     "execution_count": 15,
     "metadata": {},
     "output_type": "execute_result"
    }
   ],
   "source": [
    "t1.index(5)"
   ]
  },
  {
   "cell_type": "code",
   "execution_count": 16,
   "id": "4f2bcc4a-6147-4d16-ac46-9a5209757482",
   "metadata": {},
   "outputs": [],
   "source": [
    "l=[1,2,3,4]\n"
   ]
  },
  {
   "cell_type": "code",
   "execution_count": 17,
   "id": "ce2aebbc-9fca-4fd2-9e5f-417169b88510",
   "metadata": {},
   "outputs": [
    {
     "data": {
      "text/plain": [
       "6"
      ]
     },
     "execution_count": 17,
     "metadata": {},
     "output_type": "execute_result"
    }
   ],
   "source": [
    "t1[5]"
   ]
  },
  {
   "cell_type": "code",
   "execution_count": 18,
   "id": "208f3563-00b5-4d76-aef9-93795c5436bf",
   "metadata": {},
   "outputs": [
    {
     "data": {
      "text/plain": [
       "3"
      ]
     },
     "execution_count": 18,
     "metadata": {},
     "output_type": "execute_result"
    }
   ],
   "source": [
    "l[2]"
   ]
  },
  {
   "cell_type": "code",
   "execution_count": 21,
   "id": "0b2c84bb-5e7b-4e57-b3c4-ead9a8bd5c9b",
   "metadata": {},
   "outputs": [
    {
     "data": {
      "text/plain": [
       "[1, 2, 3, 'kawade']"
      ]
     },
     "execution_count": 21,
     "metadata": {},
     "output_type": "execute_result"
    }
   ],
   "source": [
    "l[3]=\"kawade\"\n",
    "l"
   ]
  },
  {
   "cell_type": "code",
   "execution_count": 26,
   "id": "89e0bd1e-b840-4e79-893b-c2a53e49beb4",
   "metadata": {},
   "outputs": [
    {
     "name": "stdout",
     "output_type": "stream",
     "text": [
      "1 <class 'int'>\n",
      "2 <class 'int'>\n",
      "3 <class 'int'>\n",
      "4 <class 'int'>\n",
      "5 <class 'int'>\n",
      "6 <class 'int'>\n",
      "7 <class 'int'>\n",
      "8 <class 'int'>\n",
      "9 <class 'int'>\n",
      "himanshi <class 'str'>\n"
     ]
    }
   ],
   "source": [
    "for i in t1:\n",
    "    print(i,type(i))\n"
   ]
  },
  {
   "cell_type": "code",
   "execution_count": 27,
   "id": "572c4ffb-ca92-46de-80f1-a0f2ca7e34c2",
   "metadata": {},
   "outputs": [],
   "source": [
    "t2=(1,2,3,4,5,6,7,8,9,10)"
   ]
  },
  {
   "cell_type": "code",
   "execution_count": 31,
   "id": "1594703d-4c6b-41d6-ae88-e6fd599ccba2",
   "metadata": {},
   "outputs": [
    {
     "data": {
      "text/plain": [
       "(1, 2, 3, 4, 5, 6, 7, 8, 9, 10, 1, 2, 3, 4, 5, 6, 7, 8, 9, 10)"
      ]
     },
     "execution_count": 31,
     "metadata": {},
     "output_type": "execute_result"
    }
   ],
   "source": [
    "t2*2"
   ]
  },
  {
   "cell_type": "code",
   "execution_count": 33,
   "id": "203bb7ff-b1e3-46f6-880f-714232f3a0c2",
   "metadata": {},
   "outputs": [
    {
     "data": {
      "text/plain": [
       "10"
      ]
     },
     "execution_count": 33,
     "metadata": {},
     "output_type": "execute_result"
    }
   ],
   "source": [
    "max(t2)"
   ]
  },
  {
   "cell_type": "code",
   "execution_count": 34,
   "id": "65f6a3de-ea4d-4af1-9efd-708da1ba895e",
   "metadata": {},
   "outputs": [
    {
     "data": {
      "text/plain": [
       "1"
      ]
     },
     "execution_count": 34,
     "metadata": {},
     "output_type": "execute_result"
    }
   ],
   "source": [
    "min(t2)"
   ]
  },
  {
   "cell_type": "code",
   "execution_count": 35,
   "id": "5e48f38f-dd3b-4b8f-a231-d4332054e29e",
   "metadata": {},
   "outputs": [],
   "source": [
    "t1=(1,2,3,4,5)\n",
    "t2=(6,7,8,9,10)\n"
   ]
  },
  {
   "cell_type": "code",
   "execution_count": 36,
   "id": "c353797e-19b9-480d-a641-468d7ede513f",
   "metadata": {},
   "outputs": [
    {
     "data": {
      "text/plain": [
       "((1, 2, 3, 4, 5), (6, 7, 8, 9, 10))"
      ]
     },
     "execution_count": 36,
     "metadata": {},
     "output_type": "execute_result"
    }
   ],
   "source": [
    "t3=(t1,t2)\n",
    "t3"
   ]
  },
  {
   "cell_type": "code",
   "execution_count": 37,
   "id": "39598493-e595-48b1-bce3-3d29ab288a04",
   "metadata": {},
   "outputs": [],
   "source": [
    "del(t3)"
   ]
  },
  {
   "cell_type": "code",
   "execution_count": 39,
   "id": "86ac6c1d-fd99-4436-812a-7d62c0f2832d",
   "metadata": {},
   "outputs": [
    {
     "data": {
      "text/plain": [
       "(1, 2, 3, 4, 5, 6, 7, 8, 9, 10)"
      ]
     },
     "execution_count": 39,
     "metadata": {},
     "output_type": "execute_result"
    }
   ],
   "source": [
    "t4=t1+t2\n",
    "t4"
   ]
  },
  {
   "cell_type": "code",
   "execution_count": 40,
   "id": "03364cd0-6e2c-4a70-b4aa-b2e601ce9790",
   "metadata": {},
   "outputs": [
    {
     "data": {
      "text/plain": [
       "10"
      ]
     },
     "execution_count": 40,
     "metadata": {},
     "output_type": "execute_result"
    }
   ],
   "source": [
    "len(t4)"
   ]
  },
  {
   "cell_type": "code",
   "execution_count": 41,
   "id": "440fc2bf-8071-4b41-9404-5a561aa3076c",
   "metadata": {},
   "outputs": [
    {
     "data": {
      "text/plain": [
       "False"
      ]
     },
     "execution_count": 41,
     "metadata": {},
     "output_type": "execute_result"
    }
   ],
   "source": [
    "\"himanshi\" in t1"
   ]
  },
  {
   "cell_type": "code",
   "execution_count": 42,
   "id": "bf8f080b-824c-42e7-9654-3aeb73488ce3",
   "metadata": {},
   "outputs": [
    {
     "data": {
      "text/plain": [
       "6"
      ]
     },
     "execution_count": 42,
     "metadata": {},
     "output_type": "execute_result"
    }
   ],
   "source": [
    "t4[5]"
   ]
  },
  {
   "cell_type": "code",
   "execution_count": 43,
   "id": "0df5572f-6ae2-402c-b1cf-b1745aa7a5ce",
   "metadata": {},
   "outputs": [
    {
     "data": {
      "text/plain": [
       "True"
      ]
     },
     "execution_count": 43,
     "metadata": {},
     "output_type": "execute_result"
    }
   ],
   "source": [
    "2 in t4"
   ]
  },
  {
   "cell_type": "code",
   "execution_count": null,
   "id": "4679751b-726e-46bf-9aab-3e7807c2f08d",
   "metadata": {},
   "outputs": [],
   "source": []
  }
 ],
 "metadata": {
  "kernelspec": {
   "display_name": "Python 3 (ipykernel)",
   "language": "python",
   "name": "python3"
  },
  "language_info": {
   "codemirror_mode": {
    "name": "ipython",
    "version": 3
   },
   "file_extension": ".py",
   "mimetype": "text/x-python",
   "name": "python",
   "nbconvert_exporter": "python",
   "pygments_lexer": "ipython3",
   "version": "3.10.8"
  }
 },
 "nbformat": 4,
 "nbformat_minor": 5
}
