{
 "cells": [
  {
   "cell_type": "code",
   "execution_count": 1,
   "id": "c4b16567-5a97-40b2-aba5-d44492927693",
   "metadata": {},
   "outputs": [
    {
     "name": "stdout",
     "output_type": "stream",
     "text": [
      "division by zero\n"
     ]
    }
   ],
   "source": [
    "try:\n",
    "    10/0\n",
    "except Exception as e:\n",
    "    print(e)\n",
    "    "
   ]
  },
  {
   "cell_type": "code",
   "execution_count": 2,
   "id": "4710ca56-b25a-4e71-aa85-16d38ada816e",
   "metadata": {},
   "outputs": [
    {
     "name": "stdout",
     "output_type": "stream",
     "text": [
      "this is my zero division error\n"
     ]
    }
   ],
   "source": [
    "try:\n",
    "    10/0\n",
    "except ZeroDivisionError as e:\n",
    "    print(\"this is my zero division error\")"
   ]
  },
  {
   "cell_type": "code",
   "execution_count": 4,
   "id": "5b776949-3961-4dc1-83e7-4729b3a278a7",
   "metadata": {},
   "outputs": [],
   "source": [
    "import logging\n",
    "logging.basicConfig(filename=\"error.log\",level=logging.ERROR)\n",
    "try:\n",
    "    10/0\n",
    "except ZeroDivisionError as e:\n",
    "    logging.error(\"this is my zero division error {}\".format(e))"
   ]
  },
  {
   "cell_type": "code",
   "execution_count": 5,
   "id": "5d1b874f-e70b-4baa-aa35-2fd0de7a4581",
   "metadata": {},
   "outputs": [],
   "source": [
    "\n",
    "try:\n",
    "    10/0\n",
    "except FileNotFoundError as e:\n",
    "    logging.error(\"this is my file not found error {}\".format(e))\n",
    "except ZeroDivisionError as e:\n",
    "    logging.error(\"this is my zero division error {}\".format(e))\n",
    "except TypeError as e:\n",
    "     logging.error(\"this is my type error {}\".format(e))"
   ]
  },
  {
   "cell_type": "code",
   "execution_count": null,
   "id": "eb9f68ae-9da7-4703-9845-5dc4a9aa5949",
   "metadata": {},
   "outputs": [],
   "source": [
    "try:\n",
    "    with open(\"shihd.txt\",\"w\")as f:\n",
    "        f.write(\"this is my ms\n",
    "        "
   ]
  }
 ],
 "metadata": {
  "kernelspec": {
   "display_name": "Python 3 (ipykernel)",
   "language": "python",
   "name": "python3"
  },
  "language_info": {
   "codemirror_mode": {
    "name": "ipython",
    "version": 3
   },
   "file_extension": ".py",
   "mimetype": "text/x-python",
   "name": "python",
   "nbconvert_exporter": "python",
   "pygments_lexer": "ipython3",
   "version": "3.10.8"
  }
 },
 "nbformat": 4,
 "nbformat_minor": 5
}
