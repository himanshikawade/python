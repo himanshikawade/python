{
 "cells": [
  {
   "cell_type": "code",
   "execution_count": 1,
   "id": "84642532-4b39-4a0a-9fbd-046bb1987ddb",
   "metadata": {},
   "outputs": [],
   "source": [
    "def test(a,b):\n",
    "    return a+b"
   ]
  },
  {
   "cell_type": "code",
   "execution_count": 2,
   "id": "f7bf04ea-6b94-4e5a-81c3-1acb9db3b535",
   "metadata": {},
   "outputs": [
    {
     "data": {
      "text/plain": [
       "14"
      ]
     },
     "execution_count": 2,
     "metadata": {},
     "output_type": "execute_result"
    }
   ],
   "source": [
    "test(5,9)"
   ]
  },
  {
   "cell_type": "code",
   "execution_count": 4,
   "id": "bddad37b-3f92-486c-817e-3c6992754e35",
   "metadata": {},
   "outputs": [
    {
     "data": {
      "text/plain": [
       "'himanshi kawade'"
      ]
     },
     "execution_count": 4,
     "metadata": {},
     "output_type": "execute_result"
    }
   ],
   "source": [
    "test(\"himanshi \",\"kawade\")"
   ]
  },
  {
   "cell_type": "code",
   "execution_count": 5,
   "id": "e116ee2b-ba76-45d8-ab91-a2d3a799801e",
   "metadata": {},
   "outputs": [
    {
     "data": {
      "text/plain": [
       "[1, 2, 3, 4, 5, 6, 7, 8, 9, 10, 11]"
      ]
     },
     "execution_count": 5,
     "metadata": {},
     "output_type": "execute_result"
    }
   ],
   "source": [
    "test([1,2,3,4,5,6],[7,8,9,10,11])"
   ]
  },
  {
   "cell_type": "code",
   "execution_count": 17,
   "id": "42366d9f-e5d0-4efe-824c-709e641a385a",
   "metadata": {},
   "outputs": [],
   "source": [
    "class ds:\n",
    "    def syllabus(self):\n",
    "        print(\"this is method for data science syllabus\")"
   ]
  },
  {
   "cell_type": "code",
   "execution_count": 18,
   "id": "10759eed-17fc-4f08-8fea-e0d23ad667ea",
   "metadata": {},
   "outputs": [],
   "source": [
    "class web:\n",
    "    def syllabus(self):\n",
    "        print(\"this is my method for web syllabus\")"
   ]
  },
  {
   "cell_type": "code",
   "execution_count": 19,
   "id": "6f6d8b68-dbec-480b-ba63-1c13794b03a6",
   "metadata": {},
   "outputs": [],
   "source": [
    "def class_parcer(class_obj):\n",
    "    for i in class_obj:\n",
    "        i.syllabus()"
   ]
  },
  {
   "cell_type": "code",
   "execution_count": 20,
   "id": "677cc7b1-1e76-4f02-8f61-24787c7bfb07",
   "metadata": {},
   "outputs": [],
   "source": [
    "obj_ds=ds()"
   ]
  },
  {
   "cell_type": "code",
   "execution_count": 21,
   "id": "5943b90a-3a46-4549-9136-f20702371acf",
   "metadata": {},
   "outputs": [],
   "source": [
    "obj_web=web()"
   ]
  },
  {
   "cell_type": "code",
   "execution_count": 22,
   "id": "09ee1ff8-8e3e-4b2f-b943-e58eda9b05aa",
   "metadata": {},
   "outputs": [],
   "source": [
    "class_obj=[obj_ds,obj_web]"
   ]
  },
  {
   "cell_type": "code",
   "execution_count": 23,
   "id": "d87c8e46-ab36-4c43-a5dc-7414a70b5040",
   "metadata": {},
   "outputs": [
    {
     "name": "stdout",
     "output_type": "stream",
     "text": [
      "this is method for data science syllabus\n",
      "this is my method for web syllabus\n"
     ]
    }
   ],
   "source": [
    "class_parcer(class_obj)"
   ]
  },
  {
   "cell_type": "code",
   "execution_count": null,
   "id": "2fed4c5c-8010-4735-a532-94bbb6f497b6",
   "metadata": {},
   "outputs": [],
   "source": []
  }
 ],
 "metadata": {
  "kernelspec": {
   "display_name": "Python 3 (ipykernel)",
   "language": "python",
   "name": "python3"
  },
  "language_info": {
   "codemirror_mode": {
    "name": "ipython",
    "version": 3
   },
   "file_extension": ".py",
   "mimetype": "text/x-python",
   "name": "python",
   "nbconvert_exporter": "python",
   "pygments_lexer": "ipython3",
   "version": "3.10.8"
  }
 },
 "nbformat": 4,
 "nbformat_minor": 5
}
