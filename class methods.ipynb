{
 "cells": [
  {
   "cell_type": "code",
   "execution_count": 2,
   "id": "28f78c6f-3d45-45ee-8fe6-8070d5b15644",
   "metadata": {},
   "outputs": [],
   "source": [
    "class pwskills:\n",
    "    def __init__(self,name,email):\n",
    "        self.name=name\n",
    "        self.email=email\n",
    "        \n",
    "    def detail(self):\n",
    "        print(self.name,self.email)"
   ]
  },
  {
   "cell_type": "code",
   "execution_count": 3,
   "id": "e3fadddd-f0da-488d-ad08-299ee35dab19",
   "metadata": {},
   "outputs": [],
   "source": [
    "pw=pwskills(\"himsnshi\",\"hka@gmail.com\")"
   ]
  },
  {
   "cell_type": "code",
   "execution_count": 4,
   "id": "c41552cf-314e-4b88-940d-e550de33ed86",
   "metadata": {},
   "outputs": [
    {
     "data": {
      "text/plain": [
       "'himsnshi'"
      ]
     },
     "execution_count": 4,
     "metadata": {},
     "output_type": "execute_result"
    }
   ],
   "source": [
    "pw.name"
   ]
  },
  {
   "cell_type": "code",
   "execution_count": 5,
   "id": "61ecbed1-5660-49f5-a9a7-15d6a5c13763",
   "metadata": {},
   "outputs": [
    {
     "data": {
      "text/plain": [
       "'hka@gmail.com'"
      ]
     },
     "execution_count": 5,
     "metadata": {},
     "output_type": "execute_result"
    }
   ],
   "source": [
    "pw.email"
   ]
  },
  {
   "cell_type": "code",
   "execution_count": 6,
   "id": "5f8fafb3-cbdf-425c-a20d-d4180e46cb7c",
   "metadata": {},
   "outputs": [
    {
     "name": "stdout",
     "output_type": "stream",
     "text": [
      "himsnshi hka@gmail.com\n"
     ]
    }
   ],
   "source": [
    "pw.detail()"
   ]
  },
  {
   "cell_type": "code",
   "execution_count": 28,
   "id": "74fd5502-71f2-4dca-a2f0-61cbbe27ee09",
   "metadata": {},
   "outputs": [],
   "source": [
    "class pwskills1:\n",
    "    def __init__(self,name,email):\n",
    "        self.name=name\n",
    "        self.email=email\n",
    "    @classmethod\n",
    "    def ab(cls,name,email):\n",
    "        return cls(name,email)\n",
    "        \n",
    "        \n",
    "    def detail(self):\n",
    "        print(self.name,self.email)"
   ]
  },
  {
   "cell_type": "code",
   "execution_count": 29,
   "id": "4f090f76-a20e-480c-8494-8fb7b9e90103",
   "metadata": {},
   "outputs": [],
   "source": [
    "pw1=pwskills1.ab(\"hk\",\"hk@gmail.com\")"
   ]
  },
  {
   "cell_type": "code",
   "execution_count": 30,
   "id": "a34fdbe4-c27b-4af3-8e1f-1a2a1b61ea47",
   "metadata": {},
   "outputs": [
    {
     "data": {
      "text/plain": [
       "'hk'"
      ]
     },
     "execution_count": 30,
     "metadata": {},
     "output_type": "execute_result"
    }
   ],
   "source": [
    "pw1.name"
   ]
  },
  {
   "cell_type": "code",
   "execution_count": 31,
   "id": "2c347dee-d43c-4ab4-ab9f-1ad0b1f64ec7",
   "metadata": {},
   "outputs": [
    {
     "data": {
      "text/plain": [
       "'hk@gmail.com'"
      ]
     },
     "execution_count": 31,
     "metadata": {},
     "output_type": "execute_result"
    }
   ],
   "source": [
    "pw1.email"
   ]
  },
  {
   "cell_type": "code",
   "execution_count": 33,
   "id": "454fc825-3180-4d3d-8943-c2fa9438aeaf",
   "metadata": {},
   "outputs": [
    {
     "name": "stdout",
     "output_type": "stream",
     "text": [
      "hk hk@gmail.com\n"
     ]
    }
   ],
   "source": [
    "pw1.detail()"
   ]
  },
  {
   "cell_type": "code",
   "execution_count": 42,
   "id": "10f0afe9-fc74-4916-ad7e-4acff4a7f927",
   "metadata": {},
   "outputs": [],
   "source": [
    "class pwskills3:\n",
    "    mobile=9745681257\n",
    "    def __init__(self,name,email):\n",
    "        self.name=name\n",
    "        self.email=email\n",
    "        \n",
    "    @classmethod\n",
    "    def changeno(cls,mobileno):\n",
    "        pwskills3.mobile=mobileno\n",
    "        \n",
    "        \n",
    "    @classmethod\n",
    "    def ab(cls,name,email):\n",
    "        return cls(name,email)\n",
    "        \n",
    "        \n",
    "    def detail(self):\n",
    "        print(self.name,self.email,pwskills3.mobile)"
   ]
  },
  {
   "cell_type": "code",
   "execution_count": 43,
   "id": "6c156e43-1e80-4566-9401-ed8171759498",
   "metadata": {},
   "outputs": [
    {
     "data": {
      "text/plain": [
       "9745681257"
      ]
     },
     "execution_count": 43,
     "metadata": {},
     "output_type": "execute_result"
    }
   ],
   "source": [
    "pwskills3.mobile"
   ]
  },
  {
   "cell_type": "code",
   "execution_count": 44,
   "id": "1447f98c-d266-4774-b9f1-bbd172063804",
   "metadata": {},
   "outputs": [],
   "source": [
    "pw2=pwskills3.ab(\"hk\",\"hk@gmail.com\")"
   ]
  },
  {
   "cell_type": "code",
   "execution_count": 45,
   "id": "8ad4ead8-184f-4738-808c-6422f6790d5a",
   "metadata": {},
   "outputs": [
    {
     "name": "stdout",
     "output_type": "stream",
     "text": [
      "hk hk@gmail.com 9745681257\n"
     ]
    }
   ],
   "source": [
    "pw2.detail()"
   ]
  },
  {
   "cell_type": "code",
   "execution_count": 46,
   "id": "509c8dac-1489-4a3a-98c1-0d53c3c2fd4c",
   "metadata": {},
   "outputs": [],
   "source": [
    "pwskills3.changeno(920145620000)"
   ]
  },
  {
   "cell_type": "code",
   "execution_count": 47,
   "id": "38c34104-8d1a-4782-a4b6-c7e0c70a9c08",
   "metadata": {},
   "outputs": [
    {
     "data": {
      "text/plain": [
       "920145620000"
      ]
     },
     "execution_count": 47,
     "metadata": {},
     "output_type": "execute_result"
    }
   ],
   "source": [
    "pwskills3.mobile"
   ]
  },
  {
   "cell_type": "code",
   "execution_count": 48,
   "id": "76450bdb-6f0a-4a99-83ef-4fa3c5c32d26",
   "metadata": {},
   "outputs": [],
   "source": [
    "pw3_obj=pwskills3(\"lokesh\",\"lokeshk@gmail.com\")"
   ]
  },
  {
   "cell_type": "code",
   "execution_count": 49,
   "id": "fcdf8bbe-b388-4242-aed1-863c966b7406",
   "metadata": {},
   "outputs": [
    {
     "name": "stdout",
     "output_type": "stream",
     "text": [
      "lokesh lokeshk@gmail.com 920145620000\n"
     ]
    }
   ],
   "source": [
    "pw3_obj.detail()"
   ]
  },
  {
   "cell_type": "code",
   "execution_count": 50,
   "id": "5c206872-5256-416e-8cdc-882886bf5941",
   "metadata": {},
   "outputs": [
    {
     "data": {
      "text/plain": [
       "<__main__.pwskills3 at 0x7f693c13efb0>"
      ]
     },
     "execution_count": 50,
     "metadata": {},
     "output_type": "execute_result"
    }
   ],
   "source": [
    "pw3_obj.ab(\"himanshi\",\"hk@gmail.con\")"
   ]
  },
  {
   "cell_type": "code",
   "execution_count": 51,
   "id": "125657db-e81d-4274-ada5-4bdb1f659154",
   "metadata": {},
   "outputs": [
    {
     "data": {
      "text/plain": [
       "'lokesh'"
      ]
     },
     "execution_count": 51,
     "metadata": {},
     "output_type": "execute_result"
    }
   ],
   "source": [
    "pw3_obj.name"
   ]
  },
  {
   "cell_type": "code",
   "execution_count": 52,
   "id": "74b7c59d-a4ce-4f9a-8b5b-74cb88b79169",
   "metadata": {},
   "outputs": [],
   "source": [
    "class pwskills4:\n",
    "    mobile=9745681257\n",
    "    def __init__(self,name,email):\n",
    "        self.name=name\n",
    "        self.email=email\n",
    "        \n",
    "    @classmethod\n",
    "    def changeno(cls,mobileno):\n",
    "        pwskills3.mobile=mobileno\n",
    "        \n",
    "        \n",
    "    @classmethod\n",
    "    def ab(cls,name,email):\n",
    "        return cls(name,email)\n",
    "        \n",
    "        \n",
    "    def detail(self):\n",
    "        print(self.name,self.email,pwskills3.mobile)"
   ]
  },
  {
   "cell_type": "code",
   "execution_count": 53,
   "id": "de320f51-3d69-460a-a2ae-da88795139a4",
   "metadata": {},
   "outputs": [],
   "source": [
    "def course(cls,name):\n",
    "    print(\"Course details\",name)"
   ]
  },
  {
   "cell_type": "code",
   "execution_count": 54,
   "id": "5bf9ce63-7d6f-4ed1-9dde-abf03862161a",
   "metadata": {},
   "outputs": [],
   "source": [
    "pwskills4.course=classmethod(course)"
   ]
  },
  {
   "cell_type": "code",
   "execution_count": 57,
   "id": "7cd14fc3-6415-4556-95df-4cf5a048ce31",
   "metadata": {},
   "outputs": [
    {
     "name": "stdout",
     "output_type": "stream",
     "text": [
      "Course details Data Science Master 2.0\n"
     ]
    }
   ],
   "source": [
    "pwskills4.course(\"Data Science Master 2.0\")"
   ]
  },
  {
   "cell_type": "code",
   "execution_count": 58,
   "id": "8b046e92-86d6-4304-a52b-bae3d7a0b457",
   "metadata": {},
   "outputs": [],
   "source": [
    "pw4=pwskills4(\"himanshi\",\"hk@gmail.com\")"
   ]
  },
  {
   "cell_type": "code",
   "execution_count": 59,
   "id": "e302b211-2ca1-432f-aa83-74ba0ac4930f",
   "metadata": {},
   "outputs": [
    {
     "name": "stdout",
     "output_type": "stream",
     "text": [
      "Course details web dev\n"
     ]
    }
   ],
   "source": [
    "pw4.course(\"web dev\")"
   ]
  },
  {
   "cell_type": "code",
   "execution_count": 61,
   "id": "91ceb158-5ccb-4f87-8cdf-2c327c592949",
   "metadata": {},
   "outputs": [],
   "source": [
    "del pwskills4.changeno"
   ]
  },
  {
   "cell_type": "code",
   "execution_count": 63,
   "id": "4c52cc31-6e4f-411e-b33d-9e711363ac08",
   "metadata": {},
   "outputs": [
    {
     "data": {
      "text/plain": [
       "9745681257"
      ]
     },
     "execution_count": 63,
     "metadata": {},
     "output_type": "execute_result"
    }
   ],
   "source": [
    "pwskills4.mobile"
   ]
  },
  {
   "cell_type": "code",
   "execution_count": 65,
   "id": "36e4af86-f436-4d03-a953-91ad95ee5515",
   "metadata": {},
   "outputs": [],
   "source": [
    "delattr(pwskills4,\"detail\")"
   ]
  },
  {
   "cell_type": "code",
   "execution_count": null,
   "id": "2230f95b-567b-4db1-98c9-c2b11da5e6b1",
   "metadata": {},
   "outputs": [],
   "source": []
  }
 ],
 "metadata": {
  "kernelspec": {
   "display_name": "Python 3 (ipykernel)",
   "language": "python",
   "name": "python3"
  },
  "language_info": {
   "codemirror_mode": {
    "name": "ipython",
    "version": 3
   },
   "file_extension": ".py",
   "mimetype": "text/x-python",
   "name": "python",
   "nbconvert_exporter": "python",
   "pygments_lexer": "ipython3",
   "version": "3.10.8"
  }
 },
 "nbformat": 4,
 "nbformat_minor": 5
}
