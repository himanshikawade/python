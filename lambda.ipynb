{
 "cells": [
  {
   "cell_type": "code",
   "execution_count": 1,
   "id": "c02593e8-4a40-471b-b327-6dac9e80a164",
   "metadata": {},
   "outputs": [],
   "source": [
    "n=3\n",
    "p=2"
   ]
  },
  {
   "cell_type": "code",
   "execution_count": 4,
   "id": "ff839bb8-c58f-40ef-9b1f-24dea34911fe",
   "metadata": {},
   "outputs": [],
   "source": [
    "def test(n,p):\n",
    "    return n**p"
   ]
  },
  {
   "cell_type": "code",
   "execution_count": 5,
   "id": "fe65457f-5054-4583-8096-b33c4ebd1b9c",
   "metadata": {},
   "outputs": [
    {
     "data": {
      "text/plain": [
       "9"
      ]
     },
     "execution_count": 5,
     "metadata": {},
     "output_type": "execute_result"
    }
   ],
   "source": [
    "test(3,2)"
   ]
  },
  {
   "cell_type": "code",
   "execution_count": 8,
   "id": "eb618225-64fe-407c-a71d-1eaf3a05610d",
   "metadata": {},
   "outputs": [],
   "source": [
    "a=lambda n,p:n**p"
   ]
  },
  {
   "cell_type": "code",
   "execution_count": 10,
   "id": "228cad78-3557-4197-8b57-878971d3795a",
   "metadata": {},
   "outputs": [
    {
     "data": {
      "text/plain": [
       "43046721"
      ]
     },
     "execution_count": 10,
     "metadata": {},
     "output_type": "execute_result"
    }
   ],
   "source": [
    "a(9,8)"
   ]
  },
  {
   "cell_type": "code",
   "execution_count": 11,
   "id": "971935a4-5197-4a9a-affe-6ce2ac42a1b4",
   "metadata": {},
   "outputs": [],
   "source": [
    "add= lambda a,b:a+b\n"
   ]
  },
  {
   "cell_type": "code",
   "execution_count": 12,
   "id": "0f83358b-b758-4da9-a24f-15b89f82f2f4",
   "metadata": {},
   "outputs": [
    {
     "data": {
      "text/plain": [
       "27"
      ]
     },
     "execution_count": 12,
     "metadata": {},
     "output_type": "execute_result"
    }
   ],
   "source": [
    "add(12,15)"
   ]
  },
  {
   "cell_type": "code",
   "execution_count": 13,
   "id": "79de8cb8-63c5-44a6-bca5-518fcd025cff",
   "metadata": {},
   "outputs": [],
   "source": [
    "ctof=lambda c: (9/5)*c+32"
   ]
  },
  {
   "cell_type": "code",
   "execution_count": 14,
   "id": "26cec6d1-10df-4e80-baf1-59de677c126c",
   "metadata": {},
   "outputs": [
    {
     "data": {
      "text/plain": [
       "93.2"
      ]
     },
     "execution_count": 14,
     "metadata": {},
     "output_type": "execute_result"
    }
   ],
   "source": [
    "ctof(34)"
   ]
  },
  {
   "cell_type": "code",
   "execution_count": 15,
   "id": "2eae387a-72f0-4902-bbb7-ced783c65755",
   "metadata": {},
   "outputs": [],
   "source": [
    "max=lambda x,y: x if x>y else y"
   ]
  },
  {
   "cell_type": "code",
   "execution_count": 16,
   "id": "88e881f1-d20a-4d6a-a39e-0ab390117b3d",
   "metadata": {},
   "outputs": [
    {
     "data": {
      "text/plain": [
       "92"
      ]
     },
     "execution_count": 16,
     "metadata": {},
     "output_type": "execute_result"
    }
   ],
   "source": [
    "max(31,92)"
   ]
  },
  {
   "cell_type": "code",
   "execution_count": 17,
   "id": "83f01468-d351-4087-a7d6-16703f364cb5",
   "metadata": {},
   "outputs": [],
   "source": [
    "s=\"himanshikawade\"\n",
    "lens=lambda s: len(s)"
   ]
  },
  {
   "cell_type": "code",
   "execution_count": 18,
   "id": "7b885529-e25e-41ac-8731-a28c51dbc142",
   "metadata": {},
   "outputs": [
    {
     "data": {
      "text/plain": [
       "14"
      ]
     },
     "execution_count": 18,
     "metadata": {},
     "output_type": "execute_result"
    }
   ],
   "source": [
    "lens(s)"
   ]
  },
  {
   "cell_type": "code",
   "execution_count": 19,
   "id": "47335a30-81dd-4049-ac62-19fdf3c5c25f",
   "metadata": {},
   "outputs": [
    {
     "name": "stdout",
     "output_type": "stream",
     "text": [
      "[2, 4]\n"
     ]
    }
   ],
   "source": [
    "numbers = [1, 2, 3, 4, 5]\n",
    "\n",
    "even_numbers = filter(lambda x: x%2 == 0, numbers)\n",
    "\n",
    "print(list(even_numbers))"
   ]
  },
  {
   "cell_type": "code",
   "execution_count": 21,
   "id": "86ae3350-0751-41f4-9c62-867effd00fe8",
   "metadata": {},
   "outputs": [
    {
     "name": "stdout",
     "output_type": "stream",
     "text": [
      "120\n"
     ]
    }
   ],
   "source": [
    "numbers = [1, 2, 3, 4, 5]\n",
    "from functools import reduce\n",
    "product = reduce(lambda x, y: x*y, numbers)\n",
    "\n",
    "print(product)"
   ]
  },
  {
   "cell_type": "code",
   "execution_count": 22,
   "id": "f4e142e4-9f06-4acb-a4c5-afe662d6d257",
   "metadata": {},
   "outputs": [
    {
     "name": "stdout",
     "output_type": "stream",
     "text": [
      "[1, 4, 9, 16, 25]\n"
     ]
    }
   ],
   "source": [
    "\n",
    "numbers = [1, 2, 3, 4, 5]\n",
    "\n",
    "squared_numbers = map(lambda x: x**2, numbers)\n",
    "\n",
    "print(list(squared_numbers))"
   ]
  },
  {
   "cell_type": "code",
   "execution_count": null,
   "id": "a2c0d1c9-6a18-4470-964f-5389c8dcb985",
   "metadata": {},
   "outputs": [],
   "source": []
  }
 ],
 "metadata": {
  "kernelspec": {
   "display_name": "Python 3 (ipykernel)",
   "language": "python",
   "name": "python3"
  },
  "language_info": {
   "codemirror_mode": {
    "name": "ipython",
    "version": 3
   },
   "file_extension": ".py",
   "mimetype": "text/x-python",
   "name": "python",
   "nbconvert_exporter": "python",
   "pygments_lexer": "ipython3",
   "version": "3.10.8"
  }
 },
 "nbformat": 4,
 "nbformat_minor": 5
}
