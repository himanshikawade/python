{
 "cells": [
  {
   "cell_type": "code",
   "execution_count": 15,
   "id": "ab5ddf82-13e8-413e-93ef-bbf0fcbd85d7",
   "metadata": {},
   "outputs": [],
   "source": [
    "import abc\n",
    "\n",
    "class pwskilss:\n",
    "    \n",
    "    @abc.abstractmethod\n",
    "    def student_details(self):\n",
    "        pass\n",
    "    \n",
    "    @abc.abstractmethod\n",
    "    def student_assignment(self):\n",
    "        pass\n",
    "    \n",
    "    @abc.abstractmethod\n",
    "    def student_marks(self):\n",
    "        pass"
   ]
  },
  {
   "cell_type": "code",
   "execution_count": 16,
   "id": "ee51d05c-79e5-467a-b91f-14f414791500",
   "metadata": {},
   "outputs": [],
   "source": [
    "class ds(pwskilss):\n",
    "    \n",
    "    def student_details(self):\n",
    "        return \"it will try to give detilas of students od data science\"\n",
    "    \n",
    "    def student_assignment(self):\n",
    "        return \"it will give the assignment of Data sciecnec student\""
   ]
  },
  {
   "cell_type": "code",
   "execution_count": 17,
   "id": "17985b56-2814-46d4-9def-99050e0fd28d",
   "metadata": {},
   "outputs": [],
   "source": [
    "class wd(pwskilss):\n",
    "    \n",
    "    def student_details(self):\n",
    "        return \"it will try to give detilas of students od web devlopment\"\n",
    "    \n",
    "    def student_assignment(self):\n",
    "        return \"it will give the assignment of web development student\"\n",
    "    \n",
    "    "
   ]
  },
  {
   "cell_type": "code",
   "execution_count": 6,
   "id": "13576a8a-f5a1-47e1-809c-32fccfd9d366",
   "metadata": {},
   "outputs": [],
   "source": [
    "obj_ds=ds()\n"
   ]
  },
  {
   "cell_type": "code",
   "execution_count": 18,
   "id": "52eced8d-0594-491f-9dce-11c78e74f043",
   "metadata": {},
   "outputs": [
    {
     "data": {
      "text/plain": [
       "'it will give the assignment of Data sciecnec student'"
      ]
     },
     "execution_count": 18,
     "metadata": {},
     "output_type": "execute_result"
    }
   ],
   "source": [
    "\n",
    "obj_ds.student_assignment()"
   ]
  },
  {
   "cell_type": "code",
   "execution_count": 19,
   "id": "20e45210-ca8a-4eca-98ac-239911d893b5",
   "metadata": {},
   "outputs": [
    {
     "data": {
      "text/plain": [
       "'it will try to give detilas of students od data science'"
      ]
     },
     "execution_count": 19,
     "metadata": {},
     "output_type": "execute_result"
    }
   ],
   "source": [
    "obj_ds.student_details()"
   ]
  },
  {
   "cell_type": "code",
   "execution_count": null,
   "id": "32df6eba-3e89-45f6-874d-e686f50b8740",
   "metadata": {},
   "outputs": [],
   "source": []
  }
 ],
 "metadata": {
  "kernelspec": {
   "display_name": "Python 3 (ipykernel)",
   "language": "python",
   "name": "python3"
  },
  "language_info": {
   "codemirror_mode": {
    "name": "ipython",
    "version": 3
   },
   "file_extension": ".py",
   "mimetype": "text/x-python",
   "name": "python",
   "nbconvert_exporter": "python",
   "pygments_lexer": "ipython3",
   "version": "3.10.8"
  }
 },
 "nbformat": 4,
 "nbformat_minor": 5
}
