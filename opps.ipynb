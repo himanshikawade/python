{
 "cells": [
  {
   "cell_type": "code",
   "execution_count": 1,
   "id": "3d13ead3-d2bf-48a1-ab2c-e1857cbfcdfc",
   "metadata": {},
   "outputs": [],
   "source": [
    "a=10\n"
   ]
  },
  {
   "cell_type": "code",
   "execution_count": 2,
   "id": "da46a645-4d8d-4db8-895d-3cf40af89f3a",
   "metadata": {},
   "outputs": [
    {
     "name": "stdout",
     "output_type": "stream",
     "text": [
      "<class 'int'>\n"
     ]
    }
   ],
   "source": [
    "print(type(a))"
   ]
  },
  {
   "cell_type": "code",
   "execution_count": 3,
   "id": "d3bbde13-6f0d-4a0d-9e49-957e205388cb",
   "metadata": {},
   "outputs": [
    {
     "name": "stdout",
     "output_type": "stream",
     "text": [
      "<class 'str'>\n"
     ]
    }
   ],
   "source": [
    "print(type(\"pwskills\"))"
   ]
  },
  {
   "cell_type": "code",
   "execution_count": 4,
   "id": "4758fe13-95d2-4b14-9651-933fb1dc01f2",
   "metadata": {},
   "outputs": [],
   "source": [
    "class test:\n",
    "    pass\n",
    "    "
   ]
  },
  {
   "cell_type": "code",
   "execution_count": 5,
   "id": "0b336a48-856f-4d27-ad2f-62aef20cd09d",
   "metadata": {},
   "outputs": [],
   "source": [
    "a=test()"
   ]
  },
  {
   "cell_type": "code",
   "execution_count": 7,
   "id": "d72990f5-b314-46e6-b975-3492a7bcb7a5",
   "metadata": {},
   "outputs": [
    {
     "name": "stdout",
     "output_type": "stream",
     "text": [
      "<class '__main__.test'>\n"
     ]
    }
   ],
   "source": [
    "print(type(a))"
   ]
  },
  {
   "cell_type": "code",
   "execution_count": 14,
   "id": "07bef14a-9516-4362-b039-94f116d57736",
   "metadata": {},
   "outputs": [],
   "source": [
    "class pwskills:\n",
    "    \n",
    "    def welcome(self):\n",
    "        print(\"welcome to pw skills\")"
   ]
  },
  {
   "cell_type": "code",
   "execution_count": 15,
   "id": "a1e2cebd-3cdc-4037-be86-439d6b4e6d63",
   "metadata": {},
   "outputs": [],
   "source": [
    "rohan=pwskills()\n"
   ]
  },
  {
   "cell_type": "code",
   "execution_count": 16,
   "id": "c5728158-71c0-41a2-a0ac-46be85de975c",
   "metadata": {},
   "outputs": [
    {
     "name": "stdout",
     "output_type": "stream",
     "text": [
      "welcome to pw skills\n"
     ]
    }
   ],
   "source": [
    "rohan.welcome()"
   ]
  },
  {
   "cell_type": "code",
   "execution_count": 17,
   "id": "88fbc7c9-7d71-4587-bf27-05179300eaae",
   "metadata": {},
   "outputs": [],
   "source": [
    "diya=pwskills()"
   ]
  },
  {
   "cell_type": "code",
   "execution_count": 18,
   "id": "a12055c0-5b02-4e05-8e9b-aa5b470513c2",
   "metadata": {},
   "outputs": [
    {
     "name": "stdout",
     "output_type": "stream",
     "text": [
      "welcome to pw skills\n"
     ]
    }
   ],
   "source": [
    "diya.welcome()"
   ]
  },
  {
   "cell_type": "code",
   "execution_count": 19,
   "id": "74ffbad3-580f-49d6-90e3-e845382a653f",
   "metadata": {},
   "outputs": [],
   "source": [
    "a=1"
   ]
  },
  {
   "cell_type": "code",
   "execution_count": 20,
   "id": "cf5d4150-816a-4e08-babc-2cc3332c864b",
   "metadata": {},
   "outputs": [],
   "source": [
    "b=2"
   ]
  },
  {
   "cell_type": "code",
   "execution_count": 21,
   "id": "62abb57c-c3d3-4462-ad56-adbe00f23e99",
   "metadata": {},
   "outputs": [
    {
     "data": {
      "text/plain": [
       "1"
      ]
     },
     "execution_count": 21,
     "metadata": {},
     "output_type": "execute_result"
    }
   ],
   "source": [
    "a"
   ]
  },
  {
   "cell_type": "code",
   "execution_count": 22,
   "id": "52944380-667c-4f8f-925f-dbb0e65696eb",
   "metadata": {},
   "outputs": [
    {
     "data": {
      "text/plain": [
       "2"
      ]
     },
     "execution_count": 22,
     "metadata": {},
     "output_type": "execute_result"
    }
   ],
   "source": [
    "b"
   ]
  },
  {
   "cell_type": "code",
   "execution_count": 1,
   "id": "af5a81ae-bbcf-4ff4-a9ee-6fa7b98c1fde",
   "metadata": {},
   "outputs": [],
   "source": [
    "class pwskills:\n",
    "    \n",
    "    def __init__(self,name,phoneno,email,id):\n",
    "        self.name=name\n",
    "        self.phoneno=phoneno\n",
    "        self.email=email\n",
    "        self.id=id\n",
    "        \n",
    "    def return_student(self):\n",
    "        return self.name,self.phoneno,self.email,self.id\n",
    "    \n",
    "    \n",
    "        \n",
    "    "
   ]
  },
  {
   "cell_type": "code",
   "execution_count": 2,
   "id": "8c1d0b24-f1f8-4718-ac42-b5318ab8427f",
   "metadata": {},
   "outputs": [],
   "source": [
    "hk=pwskills(\"Himanshi\",9874563218,\"hk@gmail.com\",978)"
   ]
  },
  {
   "cell_type": "code",
   "execution_count": 3,
   "id": "cbed89af-d42c-4a13-8edd-778cabc59521",
   "metadata": {},
   "outputs": [
    {
     "data": {
      "text/plain": [
       "<__main__.pwskills at 0x7f5627656fb0>"
      ]
     },
     "execution_count": 3,
     "metadata": {},
     "output_type": "execute_result"
    }
   ],
   "source": [
    "hk"
   ]
  },
  {
   "cell_type": "code",
   "execution_count": null,
   "id": "c28c3928-5749-464d-99d5-3b3e400b804f",
   "metadata": {},
   "outputs": [
    {
     "data": {
      "text/plain": [
       "9874563218"
      ]
     },
     "execution_count": 5,
     "metadata": {},
     "output_type": "execute_result"
    }
   ],
   "source": [
    "hk.phoneno"
   ]
  },
  {
   "cell_type": "code",
   "execution_count": 6,
   "id": "824cfcd2-2f65-4894-81b3-60d38bd881f9",
   "metadata": {},
   "outputs": [
    {
     "data": {
      "text/plain": [
       "'hk@gmail.com'"
      ]
     },
     "execution_count": 6,
     "metadata": {},
     "output_type": "execute_result"
    }
   ],
   "source": [
    "hk.email"
   ]
  },
  {
   "cell_type": "code",
   "execution_count": 7,
   "id": "636e75b0-cc33-4263-b849-429ea02fff23",
   "metadata": {},
   "outputs": [
    {
     "data": {
      "text/plain": [
       "978"
      ]
     },
     "execution_count": 7,
     "metadata": {},
     "output_type": "execute_result"
    }
   ],
   "source": [
    "hk.id"
   ]
  },
  {
   "cell_type": "code",
   "execution_count": 8,
   "id": "bed8f9c3-c27c-47e5-843d-b7d3e294cf73",
   "metadata": {},
   "outputs": [
    {
     "data": {
      "text/plain": [
       "'Himanshi'"
      ]
     },
     "execution_count": 8,
     "metadata": {},
     "output_type": "execute_result"
    }
   ],
   "source": [
    "hk.name"
   ]
  },
  {
   "cell_type": "code",
   "execution_count": 10,
   "id": "85582a1f-a0fa-4450-b692-1efdc10f0aee",
   "metadata": {},
   "outputs": [
    {
     "data": {
      "text/plain": [
       "('Himanshi', 9874563218, 'hk@gmail.com', 978)"
      ]
     },
     "execution_count": 10,
     "metadata": {},
     "output_type": "execute_result"
    }
   ],
   "source": [
    "hk.return_student()"
   ]
  },
  {
   "cell_type": "code",
   "execution_count": null,
   "id": "a2ac3718-40e8-498c-b0d7-1130fbaa5de6",
   "metadata": {},
   "outputs": [],
   "source": []
  }
 ],
 "metadata": {
  "kernelspec": {
   "display_name": "Python 3 (ipykernel)",
   "language": "python",
   "name": "python3"
  },
  "language_info": {
   "codemirror_mode": {
    "name": "ipython",
    "version": 3
   },
   "file_extension": ".py",
   "mimetype": "text/x-python",
   "name": "python",
   "nbconvert_exporter": "python",
   "pygments_lexer": "ipython3",
   "version": "3.10.8"
  }
 },
 "nbformat": 4,
 "nbformat_minor": 5
}
