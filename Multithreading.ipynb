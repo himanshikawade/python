{
 "cells": [
  {
   "cell_type": "code",
   "execution_count": 35,
   "id": "65295db6-a3de-4c9f-a9af-22e4bcb4d552",
   "metadata": {},
   "outputs": [],
   "source": [
    "import threading\n"
   ]
  },
  {
   "cell_type": "code",
   "execution_count": 36,
   "id": "ee4e9d04-42dd-4127-a44b-1cdd1103f0e5",
   "metadata": {},
   "outputs": [],
   "source": [
    "def test(id):\n",
    "    print(\"this is my test id %d\"%id)"
   ]
  },
  {
   "cell_type": "code",
   "execution_count": 37,
   "id": "e021010b-a915-4ae7-b7f6-192681ce35e7",
   "metadata": {},
   "outputs": [
    {
     "name": "stdout",
     "output_type": "stream",
     "text": [
      "this is my test id 45\n"
     ]
    }
   ],
   "source": [
    "test(45)"
   ]
  },
  {
   "cell_type": "code",
   "execution_count": 38,
   "id": "88f4a80a-bafd-400e-be7d-87ef3466d1f7",
   "metadata": {},
   "outputs": [],
   "source": [
    "thred=[threading.Thread(target=test,args=(i,)) for i in[10,1,3]]"
   ]
  },
  {
   "cell_type": "code",
   "execution_count": 39,
   "id": "994624c3-3023-4f97-b88c-6a7f99d6d94a",
   "metadata": {},
   "outputs": [
    {
     "data": {
      "text/plain": [
       "[<Thread(Thread-8 (test), initial)>,\n",
       " <Thread(Thread-9 (test), initial)>,\n",
       " <Thread(Thread-10 (test), initial)>]"
      ]
     },
     "execution_count": 39,
     "metadata": {},
     "output_type": "execute_result"
    }
   ],
   "source": [
    "thred"
   ]
  },
  {
   "cell_type": "code",
   "execution_count": 40,
   "id": "17b141f6-13f7-41db-8807-861897a30a10",
   "metadata": {},
   "outputs": [
    {
     "name": "stdout",
     "output_type": "stream",
     "text": [
      "this is my test id 10\n",
      "this is my test id 1\n",
      "this is my test id 3\n"
     ]
    }
   ],
   "source": [
    "for t in thred:\n",
    "    t.start()"
   ]
  },
  {
   "cell_type": "code",
   "execution_count": 71,
   "id": "99bead5b-147e-4d74-9e1d-490e62eecd0f",
   "metadata": {},
   "outputs": [],
   "source": [
    "import urllib.request"
   ]
  },
  {
   "cell_type": "code",
   "execution_count": 72,
   "id": "06ae6767-76ca-4b1a-979f-18bdd581d356",
   "metadata": {},
   "outputs": [],
   "source": [
    "def file_download(url,filename):\n",
    "    urlib.request.urlretriever(url,filename)"
   ]
  },
  {
   "cell_type": "code",
   "execution_count": 73,
   "id": "98202ae9-4844-42e9-9b76-27f920072c51",
   "metadata": {},
   "outputs": [],
   "source": [
    "def file_download(url,filename):\n",
    "    urlib.request.urlretriever(url,filename)"
   ]
  },
  {
   "cell_type": "code",
   "execution_count": 76,
   "id": "0225f5cf-1b0f-4883-aa52-e8f6b6e74f9e",
   "metadata": {},
   "outputs": [],
   "source": [
    "import urllib.request"
   ]
  },
  {
   "cell_type": "code",
   "execution_count": 77,
   "id": "862b0ca8-f0dc-47be-a8a1-2b7b9c77ad93",
   "metadata": {},
   "outputs": [],
   "source": [
    "def file_download(url,filename):\n",
    "    urllib.request.urlretrieve(url,filename)"
   ]
  },
  {
   "cell_type": "code",
   "execution_count": 88,
   "id": "cb0770df-4369-47b2-8b67-b093c5bf1151",
   "metadata": {},
   "outputs": [],
   "source": [
    "file_download('https://raw.githubusercontent.com/itsfoss/text-files/master/agatha.txt',\"lkij.txt\")"
   ]
  },
  {
   "cell_type": "code",
   "execution_count": 89,
   "id": "383ea6d3-5bba-46a4-b627-034fbff43700",
   "metadata": {},
   "outputs": [],
   "source": [
    "url_list=['https://raw.githubusercontent.com/itsfoss/text-files/master/agatha.txt','https://raw.githubusercontent.com/itsfoss/text-files/master/sherlock.txt','https://raw.githubusercontent.com/itsfoss/text-files/master/sample_log_file']"
   ]
  },
  {
   "cell_type": "code",
   "execution_count": 90,
   "id": "15f0b124-d077-44a7-a565-61ddd237bb07",
   "metadata": {},
   "outputs": [
    {
     "data": {
      "text/plain": [
       "['https://raw.githubusercontent.com/itsfoss/text-files/master/agatha.txt',\n",
       " 'https://raw.githubusercontent.com/itsfoss/text-files/master/sherlock.txt',\n",
       " 'https://raw.githubusercontent.com/itsfoss/text-files/master/sample_log_file']"
      ]
     },
     "execution_count": 90,
     "metadata": {},
     "output_type": "execute_result"
    }
   ],
   "source": [
    "url_list"
   ]
  },
  {
   "cell_type": "code",
   "execution_count": 91,
   "id": "6ce1ac0a-8edd-4cce-8766-b9f0b1e87163",
   "metadata": {},
   "outputs": [],
   "source": [
    "data_file_list=[\"data2.txt\",\"data4.txt\",\"data3.txt\"]"
   ]
  },
  {
   "cell_type": "code",
   "execution_count": 92,
   "id": "4c508d55-9c8b-40dd-a47d-7f5aa6ba1030",
   "metadata": {},
   "outputs": [
    {
     "data": {
      "text/plain": [
       "['data2.txt', 'data4.txt', 'data3.txt']"
      ]
     },
     "execution_count": 92,
     "metadata": {},
     "output_type": "execute_result"
    }
   ],
   "source": [
    "data_file_list"
   ]
  },
  {
   "cell_type": "code",
   "execution_count": 93,
   "id": "bd047907-8c4e-4dfe-8c1a-cdf95922a9c3",
   "metadata": {},
   "outputs": [],
   "source": [
    "thred1=[threading.Thread(target=file_download,args=(url_list[i],data_file_list[i]))for i in range(len(url_list))]"
   ]
  },
  {
   "cell_type": "code",
   "execution_count": 100,
   "id": "27f8eca4-3c81-4c8b-9ab5-922ae41a14ac",
   "metadata": {},
   "outputs": [
    {
     "data": {
      "text/plain": [
       "[<Thread(Thread-26 (file_download), stopped 140343517357632)>,\n",
       " <Thread(Thread-27 (file_download), stopped 140343156667968)>,\n",
       " <Thread(Thread-28 (file_download), stopped 140343148275264)>]"
      ]
     },
     "execution_count": 100,
     "metadata": {},
     "output_type": "execute_result"
    }
   ],
   "source": [
    "thred1"
   ]
  },
  {
   "cell_type": "code",
   "execution_count": 106,
   "id": "7caa66ff-54d3-41f7-8cd6-508665a7cbd8",
   "metadata": {},
   "outputs": [
    {
     "ename": "RuntimeError",
     "evalue": "threads can only be started once",
     "output_type": "error",
     "traceback": [
      "\u001b[0;31m---------------------------------------------------------------------------\u001b[0m",
      "\u001b[0;31mRuntimeError\u001b[0m                              Traceback (most recent call last)",
      "Cell \u001b[0;32mIn[106], line 2\u001b[0m\n\u001b[1;32m      1\u001b[0m \u001b[38;5;28;01mfor\u001b[39;00m t1 \u001b[38;5;129;01min\u001b[39;00m thred1:\n\u001b[0;32m----> 2\u001b[0m     \u001b[43mt1\u001b[49m\u001b[38;5;241;43m.\u001b[39;49m\u001b[43mstart\u001b[49m\u001b[43m(\u001b[49m\u001b[43m)\u001b[49m\n",
      "File \u001b[0;32m/opt/conda/lib/python3.10/threading.py:930\u001b[0m, in \u001b[0;36mThread.start\u001b[0;34m(self)\u001b[0m\n\u001b[1;32m    927\u001b[0m     \u001b[38;5;28;01mraise\u001b[39;00m \u001b[38;5;167;01mRuntimeError\u001b[39;00m(\u001b[38;5;124m\"\u001b[39m\u001b[38;5;124mthread.__init__() not called\u001b[39m\u001b[38;5;124m\"\u001b[39m)\n\u001b[1;32m    929\u001b[0m \u001b[38;5;28;01mif\u001b[39;00m \u001b[38;5;28mself\u001b[39m\u001b[38;5;241m.\u001b[39m_started\u001b[38;5;241m.\u001b[39mis_set():\n\u001b[0;32m--> 930\u001b[0m     \u001b[38;5;28;01mraise\u001b[39;00m \u001b[38;5;167;01mRuntimeError\u001b[39;00m(\u001b[38;5;124m\"\u001b[39m\u001b[38;5;124mthreads can only be started once\u001b[39m\u001b[38;5;124m\"\u001b[39m)\n\u001b[1;32m    932\u001b[0m \u001b[38;5;28;01mwith\u001b[39;00m _active_limbo_lock:\n\u001b[1;32m    933\u001b[0m     _limbo[\u001b[38;5;28mself\u001b[39m] \u001b[38;5;241m=\u001b[39m \u001b[38;5;28mself\u001b[39m\n",
      "\u001b[0;31mRuntimeError\u001b[0m: threads can only be started once"
     ]
    }
   ],
   "source": [
    "for t1 in thred1:\n",
    "    t1.start()\n",
    "   "
   ]
  },
  {
   "cell_type": "code",
   "execution_count": 96,
   "id": "73861fe7-6107-4e1f-8eca-36ca4411d9a3",
   "metadata": {},
   "outputs": [],
   "source": [
    "import time"
   ]
  },
  {
   "cell_type": "code",
   "execution_count": 107,
   "id": "454e0e2b-5bab-4f44-86f2-1905fdeffe08",
   "metadata": {},
   "outputs": [],
   "source": [
    "def test2(x) : \n",
    "    for i in range(10) : \n",
    "        print(\" test1 print the value of x %d and print the value of i %d \" %(x,i))"
   ]
  },
  {
   "cell_type": "code",
   "execution_count": 108,
   "id": "80a2d4b5-6d2b-416f-a335-387cbab0b885",
   "metadata": {},
   "outputs": [
    {
     "name": "stdout",
     "output_type": "stream",
     "text": [
      " test1 print the value of x 12 and print the value of i 0 \n",
      " test1 print the value of x 12 and print the value of i 1 \n",
      " test1 print the value of x 12 and print the value of i 2 \n",
      " test1 print the value of x 12 and print the value of i 3 \n",
      " test1 print the value of x 12 and print the value of i 4 \n",
      " test1 print the value of x 12 and print the value of i 5 \n",
      " test1 print the value of x 12 and print the value of i 6 \n",
      " test1 print the value of x 12 and print the value of i 7 \n",
      " test1 print the value of x 12 and print the value of i 8 \n",
      " test1 print the value of x 12 and print the value of i 9 \n"
     ]
    }
   ],
   "source": [
    "test2(12)"
   ]
  },
  {
   "cell_type": "code",
   "execution_count": 109,
   "id": "c87fecfb-baf2-4bb8-881e-076d02d45324",
   "metadata": {},
   "outputs": [
    {
     "name": "stdout",
     "output_type": "stream",
     "text": [
      " test1 print the value of x 452 and print the value of i 0 \n",
      " test1 print the value of x 452 and print the value of i 1 \n",
      " test1 print the value of x 452 and print the value of i 2 \n",
      " test1 print the value of x 452 and print the value of i 3 \n",
      " test1 print the value of x 452 and print the value of i 4 \n",
      " test1 print the value of x 452 and print the value of i 5 \n",
      " test1 print the value of x 452 and print the value of i 6 \n",
      " test1 print the value of x 452 and print the value of i 7 \n",
      " test1 print the value of x 452 and print the value of i 8 \n",
      " test1 print the value of x 452 and print the value of i 9 \n"
     ]
    }
   ],
   "source": [
    "test2(452)"
   ]
  },
  {
   "cell_type": "code",
   "execution_count": 97,
   "id": "9caadba7-1b06-4c45-b4df-b1807746515d",
   "metadata": {},
   "outputs": [],
   "source": [
    "def test2(x) : \n",
    "    for i in range(10) : \n",
    "        print(\" test1 print the value of x %d and print the value of i %d \" %(x,i))\n",
    "        time.sleep(1)"
   ]
  },
  {
   "cell_type": "code",
   "execution_count": null,
   "id": "c5e50730-73ad-4a2f-82c1-20540a887a01",
   "metadata": {},
   "outputs": [],
   "source": []
  },
  {
   "cell_type": "code",
   "execution_count": 98,
   "id": "fbdb3195-ebe4-4ff4-b8b6-1e60959fa7b3",
   "metadata": {},
   "outputs": [],
   "source": [
    "thread2 = [threading.Thread(target=test2 , args=(i,)) for i in [100 , 10,20,5]]"
   ]
  },
  {
   "cell_type": "code",
   "execution_count": 99,
   "id": "d9538846-67a0-48e1-b177-9a01397458b1",
   "metadata": {},
   "outputs": [
    {
     "name": "stdout",
     "output_type": "stream",
     "text": [
      " test1 print the value of x 100 and print the value of i 0 \n",
      " test1 print the value of x 10 and print the value of i 0 \n",
      " test1 print the value of x 20 and print the value of i 0 \n",
      " test1 print the value of x 5 and print the value of i 0 \n",
      " test1 print the value of x 10 and print the value of i 1 \n",
      " test1 print the value of x 5 and print the value of i 1 \n",
      " test1 print the value of x 100 and print the value of i 1 \n",
      " test1 print the value of x 20 and print the value of i 1 \n",
      " test1 print the value of x 10 and print the value of i 2  test1 print the value of x 5 and print the value of i 2 \n",
      " test1 print the value of x 100 and print the value of i 2 \n",
      "\n",
      " test1 print the value of x 20 and print the value of i 2 \n",
      " test1 print the value of x 20 and print the value of i 3 \n",
      " test1 print the value of x 5 and print the value of i 3 \n",
      " test1 print the value of x 10 and print the value of i 3 \n",
      " test1 print the value of x 100 and print the value of i 3 \n",
      " test1 print the value of x 20 and print the value of i 4 \n",
      " test1 print the value of x 10 and print the value of i 4 \n",
      " test1 print the value of x 100 and print the value of i 4 \n",
      " test1 print the value of x 5 and print the value of i 4 \n",
      " test1 print the value of x 100 and print the value of i 5  test1 print the value of x 20 and print the value of i 5 \n",
      "\n",
      " test1 print the value of x 10 and print the value of i 5 \n",
      " test1 print the value of x 5 and print the value of i 5 \n",
      " test1 print the value of x 20 and print the value of i 6  test1 print the value of x 10 and print the value of i 6 \n",
      " test1 print the value of x 100 and print the value of i 6 \n",
      "\n",
      " test1 print the value of x 5 and print the value of i 6 \n",
      " test1 print the value of x 10 and print the value of i 7  test1 print the value of x 100 and print the value of i 7 \n",
      " test1 print the value of x 20 and print the value of i 7 \n",
      "\n",
      " test1 print the value of x 5 and print the value of i 7 \n",
      " test1 print the value of x 100 and print the value of i 8 \n",
      " test1 print the value of x 20 and print the value of i 8 \n",
      " test1 print the value of x 10 and print the value of i 8 \n",
      " test1 print the value of x 5 and print the value of i 8 \n",
      " test1 print the value of x 100 and print the value of i 9 \n",
      " test1 print the value of x 5 and print the value of i 9 \n",
      " test1 print the value of x 20 and print the value of i 9 \n",
      " test1 print the value of x 10 and print the value of i 9 \n"
     ]
    }
   ],
   "source": [
    "for t in thread2:\n",
    "    t.start()"
   ]
  },
  {
   "cell_type": "code",
   "execution_count": 120,
   "id": "66b7ac94-cf3d-4641-b31d-0f438784b52a",
   "metadata": {},
   "outputs": [
    {
     "name": "stdout",
     "output_type": "stream",
     "text": [
      "value of x 1 and value of shared_var 1\n",
      "value of x 2 and value of shared_var 2\n",
      "value of x 3 and value of shared_var 3\n",
      "value of x 4 and value of shared_var 4\n",
      "value of x 5 and value of shared_var 5\n",
      "value of x 6 and value of shared_var 6\n"
     ]
    }
   ],
   "source": [
    "shared_var=0\n",
    "lock_var=threading.Lock()\n",
    "def test3(x):\n",
    "    global shared_var\n",
    "    with lock_var:\n",
    "        shared_var=shared_var+1\n",
    "        print(\"value of x %d and value of shared_var %d\"%(x,shared_var))\n",
    "        time.sleep(1)\n",
    "\n",
    "thred3=[threading.Thread(target=test3 , args=(i,))for i in[1,2,3,4,5,6]]\n",
    "for t in thred3:\n",
    "    t.start()"
   ]
  },
  {
   "cell_type": "code",
   "execution_count": 117,
   "id": "06e3add7-7a64-4f32-8fd4-5f45eb60538f",
   "metadata": {},
   "outputs": [
    {
     "name": "stdout",
     "output_type": "stream",
     "text": [
      "value of x 45 and value of shared_var 1\n"
     ]
    }
   ],
   "source": [
    "test3(45)"
   ]
  },
  {
   "cell_type": "code",
   "execution_count": 118,
   "id": "d953eea6-a6e1-46ab-b748-981817d05952",
   "metadata": {},
   "outputs": [
    {
     "name": "stdout",
     "output_type": "stream",
     "text": [
      "value of x 5 and value of shared_var 2\n"
     ]
    }
   ],
   "source": [
    "test3(5)"
   ]
  },
  {
   "cell_type": "code",
   "execution_count": null,
   "id": "0a0e7083-4b35-47ea-aef9-cad517d22162",
   "metadata": {},
   "outputs": [],
   "source": []
  }
 ],
 "metadata": {
  "kernelspec": {
   "display_name": "Python 3 (ipykernel)",
   "language": "python",
   "name": "python3"
  },
  "language_info": {
   "codemirror_mode": {
    "name": "ipython",
    "version": 3
   },
   "file_extension": ".py",
   "mimetype": "text/x-python",
   "name": "python",
   "nbconvert_exporter": "python",
   "pygments_lexer": "ipython3",
   "version": "3.10.8"
  }
 },
 "nbformat": 4,
 "nbformat_minor": 5
}
