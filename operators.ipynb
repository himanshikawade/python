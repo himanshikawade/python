{
 "cells": [
  {
   "cell_type": "markdown",
   "id": "60cea873-faa8-4de2-b10f-7b898115d01a",
   "metadata": {},
   "source": [
    "## logical Operators\n",
    "1.And\n",
    "2.or\n",
    "3.not\n"
   ]
  },
  {
   "cell_type": "code",
   "execution_count": 1,
   "id": "fbaa12e2-e5cb-468f-9ffb-0222588869e1",
   "metadata": {},
   "outputs": [
    {
     "data": {
      "text/plain": [
       "True"
      ]
     },
     "execution_count": 1,
     "metadata": {},
     "output_type": "execute_result"
    }
   ],
   "source": [
    "True and True"
   ]
  },
  {
   "cell_type": "code",
   "execution_count": 2,
   "id": "a6391a00-1e73-44d2-bfb9-2c942637f6ca",
   "metadata": {},
   "outputs": [
    {
     "data": {
      "text/plain": [
       "True"
      ]
     },
     "execution_count": 2,
     "metadata": {},
     "output_type": "execute_result"
    }
   ],
   "source": [
    "True or False\n"
   ]
  },
  {
   "cell_type": "code",
   "execution_count": 3,
   "id": "aa443c22-0c19-4ee9-b913-139a3d14db3a",
   "metadata": {},
   "outputs": [
    {
     "data": {
      "text/plain": [
       "False"
      ]
     },
     "execution_count": 3,
     "metadata": {},
     "output_type": "execute_result"
    }
   ],
   "source": [
    "False and False"
   ]
  },
  {
   "cell_type": "code",
   "execution_count": 4,
   "id": "16d3c090-ee2b-48fd-a664-efaa02745148",
   "metadata": {},
   "outputs": [
    {
     "data": {
      "text/plain": [
       "True"
      ]
     },
     "execution_count": 4,
     "metadata": {},
     "output_type": "execute_result"
    }
   ],
   "source": [
    "Start=True\n",
    "Stop=False\n",
    "Start\n",
    "Stop\n",
    "not Start\n",
    "not Stop"
   ]
  },
  {
   "cell_type": "code",
   "execution_count": 5,
   "id": "fd112486-e516-497c-8adc-955e2b8499b0",
   "metadata": {},
   "outputs": [
    {
     "data": {
      "text/plain": [
       "True"
      ]
     },
     "execution_count": 5,
     "metadata": {},
     "output_type": "execute_result"
    }
   ],
   "source": [
    "not bool(0)"
   ]
  },
  {
   "cell_type": "code",
   "execution_count": 7,
   "id": "4a9fea2d-d0b9-46c7-addc-7c6cd87667e8",
   "metadata": {},
   "outputs": [
    {
     "data": {
      "text/plain": [
       "0"
      ]
     },
     "execution_count": 7,
     "metadata": {},
     "output_type": "execute_result"
    }
   ],
   "source": [
    "int(bool(0))"
   ]
  },
  {
   "cell_type": "code",
   "execution_count": 8,
   "id": "363b70be-f53a-4154-8ff8-8126f2a75d2a",
   "metadata": {},
   "outputs": [
    {
     "data": {
      "text/plain": [
       "True"
      ]
     },
     "execution_count": 8,
     "metadata": {},
     "output_type": "execute_result"
    }
   ],
   "source": [
    "bool(1)"
   ]
  },
  {
   "cell_type": "code",
   "execution_count": 9,
   "id": "4bba411a-e23d-43c4-9179-e7e258442f01",
   "metadata": {},
   "outputs": [
    {
     "data": {
      "text/plain": [
       "True"
      ]
     },
     "execution_count": 9,
     "metadata": {},
     "output_type": "execute_result"
    }
   ],
   "source": [
    "bool(-5)"
   ]
  },
  {
   "cell_type": "code",
   "execution_count": 10,
   "id": "db2028a9-cb0e-47f9-b165-ccc5726994b3",
   "metadata": {},
   "outputs": [
    {
     "data": {
      "text/plain": [
       "True"
      ]
     },
     "execution_count": 10,
     "metadata": {},
     "output_type": "execute_result"
    }
   ],
   "source": [
    "bool(5)"
   ]
  },
  {
   "cell_type": "code",
   "execution_count": 11,
   "id": "26a371d5-d3a7-46b8-9c28-1addf2858507",
   "metadata": {},
   "outputs": [
    {
     "data": {
      "text/plain": [
       "False"
      ]
     },
     "execution_count": 11,
     "metadata": {},
     "output_type": "execute_result"
    }
   ],
   "source": [
    "not(bool(-5))"
   ]
  },
  {
   "cell_type": "markdown",
   "id": "1590a6bf-3a8e-4c21-9aef-a522baf172a1",
   "metadata": {
    "tags": []
   },
   "source": [
    "## Logical And"
   ]
  },
  {
   "cell_type": "code",
   "execution_count": 12,
   "id": "6774dc97-a670-40da-83f0-404cc7442b7c",
   "metadata": {},
   "outputs": [
    {
     "data": {
      "text/plain": [
       "False"
      ]
     },
     "execution_count": 12,
     "metadata": {},
     "output_type": "execute_result"
    }
   ],
   "source": [
    "vegetable=True\n",
    "salt=False\n",
    "dish=vegetable and salt\n",
    "dish"
   ]
  },
  {
   "cell_type": "code",
   "execution_count": 13,
   "id": "3335b4ea-1a0d-41bd-950a-ca2a1540a60b",
   "metadata": {},
   "outputs": [
    {
     "data": {
      "text/plain": [
       "0"
      ]
     },
     "execution_count": 13,
     "metadata": {},
     "output_type": "execute_result"
    }
   ],
   "source": [
    "True*False"
   ]
  },
  {
   "cell_type": "code",
   "execution_count": 14,
   "id": "6747a8a4-8e33-4f9a-9ce3-fab6f5e2d1c6",
   "metadata": {},
   "outputs": [
    {
     "data": {
      "text/plain": [
       "6"
      ]
     },
     "execution_count": 14,
     "metadata": {},
     "output_type": "execute_result"
    }
   ],
   "source": [
    "1*2*3"
   ]
  },
  {
   "cell_type": "code",
   "execution_count": 15,
   "id": "1920ecb4-7b5f-41cc-acec-46d965956562",
   "metadata": {},
   "outputs": [
    {
     "data": {
      "text/plain": [
       "7"
      ]
     },
     "execution_count": 15,
     "metadata": {},
     "output_type": "execute_result"
    }
   ],
   "source": [
    "1+2*3   #BODMASS RULE"
   ]
  },
  {
   "cell_type": "code",
   "execution_count": 16,
   "id": "a57ff86b-37f8-4605-8812-61effae92318",
   "metadata": {},
   "outputs": [
    {
     "data": {
      "text/plain": [
       "14.0"
      ]
     },
     "execution_count": 16,
     "metadata": {},
     "output_type": "execute_result"
    }
   ],
   "source": [
    "2*3+40/5"
   ]
  },
  {
   "cell_type": "code",
   "execution_count": 29,
   "id": "08d6ef04-014e-4d32-8d56-49697418dfe7",
   "metadata": {},
   "outputs": [],
   "source": [
    "list_a=[1,2,3,4]\n",
    "list_b=[1,2,3,4]\n"
   ]
  },
  {
   "cell_type": "code",
   "execution_count": 30,
   "id": "5c9ae814-7c2e-4509-bf89-a9ac229b2bbe",
   "metadata": {},
   "outputs": [
    {
     "data": {
      "text/plain": [
       "139883208462912"
      ]
     },
     "execution_count": 30,
     "metadata": {},
     "output_type": "execute_result"
    }
   ],
   "source": [
    "id(list_a)"
   ]
  },
  {
   "cell_type": "code",
   "execution_count": 31,
   "id": "293c7bb5-ac3b-43ce-80ee-4f5a6f1001d2",
   "metadata": {},
   "outputs": [
    {
     "data": {
      "text/plain": [
       "139883208651456"
      ]
     },
     "execution_count": 31,
     "metadata": {},
     "output_type": "execute_result"
    }
   ],
   "source": [
    "id(list_b)"
   ]
  },
  {
   "cell_type": "code",
   "execution_count": 32,
   "id": "f322daa1-69e4-4e04-bb49-9ca79e79302e",
   "metadata": {},
   "outputs": [
    {
     "data": {
      "text/plain": [
       "True"
      ]
     },
     "execution_count": 32,
     "metadata": {},
     "output_type": "execute_result"
    }
   ],
   "source": [
    "list_a is not list_b"
   ]
  },
  {
   "cell_type": "code",
   "execution_count": 22,
   "id": "fd16346d-0f89-482b-bed2-54d584e2b633",
   "metadata": {},
   "outputs": [],
   "source": [
    "list_a=[1,2,3,4]\n",
    "list_b=list_a\n"
   ]
  },
  {
   "cell_type": "code",
   "execution_count": 24,
   "id": "e13a253c-ceea-44d8-9ea4-1664465b8c20",
   "metadata": {},
   "outputs": [
    {
     "data": {
      "text/plain": [
       "139883508625792"
      ]
     },
     "execution_count": 24,
     "metadata": {},
     "output_type": "execute_result"
    }
   ],
   "source": [
    "id(list_a)"
   ]
  },
  {
   "cell_type": "code",
   "execution_count": 25,
   "id": "dc3586d5-f397-487f-90cc-068353dfa182",
   "metadata": {},
   "outputs": [
    {
     "data": {
      "text/plain": [
       "139883508625792"
      ]
     },
     "execution_count": 25,
     "metadata": {},
     "output_type": "execute_result"
    }
   ],
   "source": [
    "id(list_b)"
   ]
  },
  {
   "cell_type": "code",
   "execution_count": 26,
   "id": "4cab52f7-8742-401f-88bd-4c7722b6bd8d",
   "metadata": {},
   "outputs": [
    {
     "data": {
      "text/plain": [
       "True"
      ]
     },
     "execution_count": 26,
     "metadata": {},
     "output_type": "execute_result"
    }
   ],
   "source": [
    "list_a is list_b"
   ]
  },
  {
   "cell_type": "code",
   "execution_count": 34,
   "id": "eabefb5b-a146-4167-b3a1-6394350ca904",
   "metadata": {},
   "outputs": [
    {
     "data": {
      "text/plain": [
       "True"
      ]
     },
     "execution_count": 34,
     "metadata": {},
     "output_type": "execute_result"
    }
   ],
   "source": [
    "list_a==list_b"
   ]
  },
  {
   "cell_type": "code",
   "execution_count": 35,
   "id": "4a87c6e5-bf56-48d1-89d4-b07f18e74838",
   "metadata": {},
   "outputs": [],
   "source": [
    "h='himu'\n",
    "i='himu'\n"
   ]
  },
  {
   "cell_type": "code",
   "execution_count": 36,
   "id": "a933e916-1707-4326-8a08-15ec68a502a9",
   "metadata": {},
   "outputs": [
    {
     "data": {
      "text/plain": [
       "True"
      ]
     },
     "execution_count": 36,
     "metadata": {},
     "output_type": "execute_result"
    }
   ],
   "source": [
    "h==i"
   ]
  },
  {
   "cell_type": "code",
   "execution_count": 37,
   "id": "b3603c1b-3fec-4182-9062-f189d9499afa",
   "metadata": {},
   "outputs": [
    {
     "data": {
      "text/plain": [
       "True"
      ]
     },
     "execution_count": 37,
     "metadata": {},
     "output_type": "execute_result"
    }
   ],
   "source": [
    "h is i"
   ]
  },
  {
   "cell_type": "code",
   "execution_count": 38,
   "id": "4fe9f98a-8bb1-4d5f-b351-23ddec7258da",
   "metadata": {},
   "outputs": [
    {
     "data": {
      "text/plain": [
       "139883208917360"
      ]
     },
     "execution_count": 38,
     "metadata": {},
     "output_type": "execute_result"
    }
   ],
   "source": [
    "id(h)"
   ]
  },
  {
   "cell_type": "code",
   "execution_count": 39,
   "id": "fa710fa3-b6e8-488f-87cb-1932b1b95691",
   "metadata": {},
   "outputs": [
    {
     "data": {
      "text/plain": [
       "139883208917360"
      ]
     },
     "execution_count": 39,
     "metadata": {},
     "output_type": "execute_result"
    }
   ],
   "source": [
    "id(i)"
   ]
  },
  {
   "cell_type": "code",
   "execution_count": 41,
   "id": "5c50a339-8f3a-4d14-a23f-5b9daafcd269",
   "metadata": {},
   "outputs": [
    {
     "data": {
      "text/plain": [
       "1"
      ]
     },
     "execution_count": 41,
     "metadata": {},
     "output_type": "execute_result"
    }
   ],
   "source": [
    "list_a[0]"
   ]
  },
  {
   "cell_type": "code",
   "execution_count": 42,
   "id": "eca26eb9-a002-476b-9f45-3ae4b64f5ba0",
   "metadata": {},
   "outputs": [],
   "source": [
    "list_a[0]=10"
   ]
  },
  {
   "cell_type": "code",
   "execution_count": 43,
   "id": "e40e87ae-49aa-4358-bead-21f91f7b2c02",
   "metadata": {},
   "outputs": [
    {
     "data": {
      "text/plain": [
       "[10, 2, 3, 4]"
      ]
     },
     "execution_count": 43,
     "metadata": {},
     "output_type": "execute_result"
    }
   ],
   "source": [
    "list_a"
   ]
  },
  {
   "cell_type": "code",
   "execution_count": 44,
   "id": "508b0bf5-3fe8-4118-9290-fc0999f53221",
   "metadata": {},
   "outputs": [],
   "source": [
    "a=150\n",
    "b=200"
   ]
  },
  {
   "cell_type": "code",
   "execution_count": 45,
   "id": "b43d4bb5-e3c7-413b-9682-265834ae8518",
   "metadata": {},
   "outputs": [
    {
     "data": {
      "text/plain": [
       "False"
      ]
     },
     "execution_count": 45,
     "metadata": {},
     "output_type": "execute_result"
    }
   ],
   "source": [
    "a>b"
   ]
  },
  {
   "cell_type": "code",
   "execution_count": 46,
   "id": "b271b8d0-cce5-4da6-a506-63d1ae526ac3",
   "metadata": {},
   "outputs": [
    {
     "data": {
      "text/plain": [
       "False"
      ]
     },
     "execution_count": 46,
     "metadata": {},
     "output_type": "execute_result"
    }
   ],
   "source": [
    "a==b"
   ]
  },
  {
   "cell_type": "code",
   "execution_count": 47,
   "id": "32a3fa1c-bf2b-4c32-a2cb-054cc3f912ee",
   "metadata": {},
   "outputs": [
    {
     "data": {
      "text/plain": [
       "True"
      ]
     },
     "execution_count": 47,
     "metadata": {},
     "output_type": "execute_result"
    }
   ],
   "source": [
    "b>a"
   ]
  },
  {
   "cell_type": "code",
   "execution_count": 48,
   "id": "b0e340a0-834c-4ff5-a0d2-6e8d99bf8f8e",
   "metadata": {},
   "outputs": [],
   "source": [
    "a=25\n",
    "b=101"
   ]
  },
  {
   "cell_type": "code",
   "execution_count": 49,
   "id": "4b9211c2-a1b1-43d0-8dc6-df51108c617e",
   "metadata": {},
   "outputs": [
    {
     "data": {
      "text/plain": [
       "0"
      ]
     },
     "execution_count": 49,
     "metadata": {},
     "output_type": "execute_result"
    }
   ],
   "source": [
    "a//b"
   ]
  },
  {
   "cell_type": "code",
   "execution_count": 50,
   "id": "33b4070c-369e-4fcd-8f0d-b7d1fd19f926",
   "metadata": {},
   "outputs": [
    {
     "data": {
      "text/plain": [
       "0.24752475247524752"
      ]
     },
     "execution_count": 50,
     "metadata": {},
     "output_type": "execute_result"
    }
   ],
   "source": [
    "a/b"
   ]
  },
  {
   "cell_type": "code",
   "execution_count": 51,
   "id": "ddf3faac-b5a5-4941-b4d5-937a9b1ccbaf",
   "metadata": {},
   "outputs": [
    {
     "data": {
      "text/plain": [
       "4"
      ]
     },
     "execution_count": 51,
     "metadata": {},
     "output_type": "execute_result"
    }
   ],
   "source": [
    "b//a"
   ]
  },
  {
   "cell_type": "markdown",
   "id": "7545cad8-1245-468f-9377-6a4f0b3f73e5",
   "metadata": {},
   "source": [
    "Strings"
   ]
  },
  {
   "cell_type": "code",
   "execution_count": 52,
   "id": "ab82408b-d0ad-45ab-8404-d752cdea5fa8",
   "metadata": {},
   "outputs": [
    {
     "data": {
      "text/plain": [
       "'welcome to data science masters 2.0'"
      ]
     },
     "execution_count": 52,
     "metadata": {},
     "output_type": "execute_result"
    }
   ],
   "source": [
    "'himanshi'\n",
    "\"welcome to data science masters 2.0\"\n"
   ]
  },
  {
   "cell_type": "code",
   "execution_count": 53,
   "id": "087544d8-a2ce-4c83-809f-52f9b3b2471e",
   "metadata": {},
   "outputs": [],
   "source": [
    "str1=\"welcome to data science masters 2.0\""
   ]
  },
  {
   "cell_type": "code",
   "execution_count": 54,
   "id": "2fdd1c6d-484c-4ef3-9f46-d377f07971e2",
   "metadata": {},
   "outputs": [
    {
     "data": {
      "text/plain": [
       "str"
      ]
     },
     "execution_count": 54,
     "metadata": {},
     "output_type": "execute_result"
    }
   ],
   "source": [
    "type(str1)"
   ]
  },
  {
   "cell_type": "code",
   "execution_count": 55,
   "id": "3c27bdaa-e41e-444b-bdba-cdbbef0aa2c7",
   "metadata": {},
   "outputs": [
    {
     "data": {
      "text/plain": [
       "'w'"
      ]
     },
     "execution_count": 55,
     "metadata": {},
     "output_type": "execute_result"
    }
   ],
   "source": [
    "str1[0]"
   ]
  },
  {
   "cell_type": "code",
   "execution_count": 56,
   "id": "6becfe43-4b93-43b1-a9d3-0d966720550f",
   "metadata": {},
   "outputs": [
    {
     "data": {
      "text/plain": [
       "'himanshi kawade'"
      ]
     },
     "execution_count": 56,
     "metadata": {},
     "output_type": "execute_result"
    }
   ],
   "source": [
    "str1=\"himanshi kawade\"\n",
    "str1"
   ]
  },
  {
   "cell_type": "code",
   "execution_count": 58,
   "id": "9ad3d4cd-71d8-4663-8367-3dd4781e405b",
   "metadata": {},
   "outputs": [
    {
     "name": "stdout",
     "output_type": "stream",
     "text": [
      "h\n",
      "i\n",
      "m\n",
      "a\n",
      "n\n",
      "s\n",
      "h\n",
      "i\n",
      " \n",
      "k\n",
      "a\n",
      "w\n",
      "a\n",
      "d\n",
      "e\n"
     ]
    }
   ],
   "source": [
    "for i in str1:\n",
    "    print(i)"
   ]
  },
  {
   "cell_type": "code",
   "execution_count": 59,
   "id": "068d91e0-9657-46b3-867f-74666eb08fb0",
   "metadata": {},
   "outputs": [
    {
     "data": {
      "text/plain": [
       "'shi kawade'"
      ]
     },
     "execution_count": 59,
     "metadata": {},
     "output_type": "execute_result"
    }
   ],
   "source": [
    "str1[5:]"
   ]
  },
  {
   "cell_type": "code",
   "execution_count": 64,
   "id": "c5fe9a91-d2cc-4e35-abcb-9a68ec009cc5",
   "metadata": {},
   "outputs": [
    {
     "data": {
      "text/plain": [
       "'himanshi kawade'"
      ]
     },
     "execution_count": 64,
     "metadata": {},
     "output_type": "execute_result"
    }
   ],
   "source": [
    "str1[:]"
   ]
  },
  {
   "cell_type": "code",
   "execution_count": 65,
   "id": "edc61d34-b533-42dc-b8bf-01b638122371",
   "metadata": {},
   "outputs": [
    {
     "data": {
      "text/plain": [
       "'imanshi kawade'"
      ]
     },
     "execution_count": 65,
     "metadata": {},
     "output_type": "execute_result"
    }
   ],
   "source": [
    "str1[1::]"
   ]
  },
  {
   "cell_type": "code",
   "execution_count": 66,
   "id": "8ce6f38a-93cc-4b1e-8c08-39b722813f3f",
   "metadata": {},
   "outputs": [
    {
     "data": {
      "text/plain": [
       "''"
      ]
     },
     "execution_count": 66,
     "metadata": {},
     "output_type": "execute_result"
    }
   ],
   "source": [
    "str1[-5:4]"
   ]
  },
  {
   "cell_type": "code",
   "execution_count": 67,
   "id": "5472aedc-50d5-461b-b315-8cf30dd5ba9b",
   "metadata": {},
   "outputs": [
    {
     "data": {
      "text/plain": [
       "'edawak ihsnamih'"
      ]
     },
     "execution_count": 67,
     "metadata": {},
     "output_type": "execute_result"
    }
   ],
   "source": [
    "str1[::-1]  # reverse string"
   ]
  },
  {
   "cell_type": "code",
   "execution_count": 69,
   "id": "3e0faafd-0ce0-4ea9-9e89-d7414ede7597",
   "metadata": {},
   "outputs": [
    {
     "data": {
      "text/plain": [
       "'ew sm'"
      ]
     },
     "execution_count": 69,
     "metadata": {},
     "output_type": "execute_result"
    }
   ],
   "source": [
    "str1[::-3]"
   ]
  },
  {
   "cell_type": "code",
   "execution_count": 70,
   "id": "3aacc86b-7443-4187-94af-eabd6a6fa455",
   "metadata": {},
   "outputs": [
    {
     "data": {
      "text/plain": [
       "'himanshi kawade'"
      ]
     },
     "execution_count": 70,
     "metadata": {},
     "output_type": "execute_result"
    }
   ],
   "source": [
    "str1"
   ]
  },
  {
   "cell_type": "code",
   "execution_count": 71,
   "id": "e28a4a61-8eaa-4131-8baf-3223769330cc",
   "metadata": {},
   "outputs": [
    {
     "data": {
      "text/plain": [
       "'namih'"
      ]
     },
     "execution_count": 71,
     "metadata": {},
     "output_type": "execute_result"
    }
   ],
   "source": [
    "str1[4::-1]"
   ]
  },
  {
   "cell_type": "code",
   "execution_count": 73,
   "id": "991194e6-acfe-44aa-8c39-7ee60bd4e1f0",
   "metadata": {},
   "outputs": [
    {
     "data": {
      "text/plain": [
       "'am'"
      ]
     },
     "execution_count": 73,
     "metadata": {},
     "output_type": "execute_result"
    }
   ],
   "source": [
    "str1[3:1:-1]"
   ]
  },
  {
   "cell_type": "code",
   "execution_count": 74,
   "id": "46ef3464-deb7-4e21-905b-e85a32b87b6a",
   "metadata": {},
   "outputs": [],
   "source": [
    "course=\"Data Science Master\""
   ]
  },
  {
   "cell_type": "code",
   "execution_count": 77,
   "id": "0ff6a6ef-15ef-40a5-8134-df713f72d19a",
   "metadata": {},
   "outputs": [
    {
     "data": {
      "text/plain": [
       "'Science'"
      ]
     },
     "execution_count": 77,
     "metadata": {},
     "output_type": "execute_result"
    }
   ],
   "source": [
    "course[5:12]"
   ]
  },
  {
   "cell_type": "code",
   "execution_count": 81,
   "id": "2b861794-0fe5-484f-844b-bbba5c253fef",
   "metadata": {},
   "outputs": [
    {
     "data": {
      "text/plain": [
       "'ecneicS'"
      ]
     },
     "execution_count": 81,
     "metadata": {},
     "output_type": "execute_result"
    }
   ],
   "source": [
    "course[11:4:-1]"
   ]
  },
  {
   "cell_type": "code",
   "execution_count": 82,
   "id": "6c91c271-ea6b-47e0-a9ee-64e47d12c9ed",
   "metadata": {},
   "outputs": [
    {
     "data": {
      "text/plain": [
       "'Data Science MasterData Science MasterData Science MasterData Science MasterData Science Master'"
      ]
     },
     "execution_count": 82,
     "metadata": {},
     "output_type": "execute_result"
    }
   ],
   "source": [
    "course*5"
   ]
  },
  {
   "cell_type": "code",
   "execution_count": 83,
   "id": "978a3738-21e9-46e3-ad4b-264741cd2d4d",
   "metadata": {},
   "outputs": [
    {
     "data": {
      "text/plain": [
       "19"
      ]
     },
     "execution_count": 83,
     "metadata": {},
     "output_type": "execute_result"
    }
   ],
   "source": [
    "len(course)"
   ]
  },
  {
   "cell_type": "code",
   "execution_count": 84,
   "id": "ae0c8f65-cd78-46d3-9593-d539c88be60f",
   "metadata": {},
   "outputs": [
    {
     "data": {
      "text/plain": [
       "9"
      ]
     },
     "execution_count": 84,
     "metadata": {},
     "output_type": "execute_result"
    }
   ],
   "source": [
    "course.find(\"n\")"
   ]
  },
  {
   "cell_type": "code",
   "execution_count": 85,
   "id": "b15a3945-8675-47d5-bf0e-7de0901cc074",
   "metadata": {},
   "outputs": [
    {
     "data": {
      "text/plain": [
       "3"
      ]
     },
     "execution_count": 85,
     "metadata": {},
     "output_type": "execute_result"
    }
   ],
   "source": [
    "course.find(\"a\",2,10)"
   ]
  },
  {
   "cell_type": "code",
   "execution_count": 86,
   "id": "cf2501ec-f207-4d04-8e65-ef9f27f6c476",
   "metadata": {},
   "outputs": [
    {
     "data": {
      "text/plain": [
       "3"
      ]
     },
     "execution_count": 86,
     "metadata": {},
     "output_type": "execute_result"
    }
   ],
   "source": [
    "course.count(\"a\")"
   ]
  },
  {
   "cell_type": "code",
   "execution_count": 89,
   "id": "77ab9f31-7726-4c8f-8f20-d6b3775c3182",
   "metadata": {},
   "outputs": [
    {
     "data": {
      "text/plain": [
       "20"
      ]
     },
     "execution_count": 89,
     "metadata": {},
     "output_type": "execute_result"
    }
   ],
   "source": [
    "course.count(\"\")"
   ]
  },
  {
   "cell_type": "code",
   "execution_count": 88,
   "id": "4114944c-9561-46e9-b8de-46fd3683b0ed",
   "metadata": {},
   "outputs": [
    {
     "data": {
      "text/plain": [
       "['Data', 'Science', 'Master']"
      ]
     },
     "execution_count": 88,
     "metadata": {},
     "output_type": "execute_result"
    }
   ],
   "source": [
    "course.split(\" \")"
   ]
  },
  {
   "cell_type": "code",
   "execution_count": 90,
   "id": "d72d30f7-afcc-48de-bd99-2d34cdd8fcc3",
   "metadata": {},
   "outputs": [
    {
     "data": {
      "text/plain": [
       "('Data ', 'S', 'cience Master')"
      ]
     },
     "execution_count": 90,
     "metadata": {},
     "output_type": "execute_result"
    }
   ],
   "source": [
    "course.partition('S')"
   ]
  },
  {
   "cell_type": "code",
   "execution_count": 91,
   "id": "54d7e1be-a5f5-4433-add8-7bbf8178854c",
   "metadata": {},
   "outputs": [
    {
     "data": {
      "text/plain": [
       "'DATA SCIENCE MASTER'"
      ]
     },
     "execution_count": 91,
     "metadata": {},
     "output_type": "execute_result"
    }
   ],
   "source": [
    "course.upper()"
   ]
  },
  {
   "cell_type": "code",
   "execution_count": 92,
   "id": "0c0b2a6b-36bf-482c-a44c-89c887234a28",
   "metadata": {},
   "outputs": [
    {
     "data": {
      "text/plain": [
       "'data science master'"
      ]
     },
     "execution_count": 92,
     "metadata": {},
     "output_type": "execute_result"
    }
   ],
   "source": [
    "course.lower()"
   ]
  },
  {
   "cell_type": "code",
   "execution_count": 93,
   "id": "703f9959-453b-4dd3-8ab2-44939ea63e5e",
   "metadata": {},
   "outputs": [
    {
     "data": {
      "text/plain": [
       "'dATA sCIENCE mASTER'"
      ]
     },
     "execution_count": 93,
     "metadata": {},
     "output_type": "execute_result"
    }
   ],
   "source": [
    "course.swapcase()"
   ]
  },
  {
   "cell_type": "code",
   "execution_count": 94,
   "id": "3d3ffd91-f317-4207-8355-29be86255c43",
   "metadata": {},
   "outputs": [
    {
     "data": {
      "text/plain": [
       "'Data Science Master'"
      ]
     },
     "execution_count": 94,
     "metadata": {},
     "output_type": "execute_result"
    }
   ],
   "source": [
    "course.title()"
   ]
  },
  {
   "cell_type": "code",
   "execution_count": 95,
   "id": "4131102c-f618-48c4-a91f-86da1f4b137f",
   "metadata": {},
   "outputs": [
    {
     "name": "stdout",
     "output_type": "stream",
     "text": [
      "*\n",
      "**\n",
      "***\n",
      "****\n",
      "*****\n",
      "******\n",
      "*******\n"
     ]
    }
   ],
   "source": [
    "n=7\n",
    "for i in range(0,n):\n",
    "    for j in range(0,i+1):\n",
    "        print(\"*\",end=\"\")\n",
    "    print(\"\\r\")"
   ]
  },
  {
   "cell_type": "code",
   "execution_count": null,
   "id": "6f3a22d3-3fea-4d64-9e14-6ec1bfa9ca01",
   "metadata": {},
   "outputs": [],
   "source": []
  }
 ],
 "metadata": {
  "kernelspec": {
   "display_name": "Python 3 (ipykernel)",
   "language": "python",
   "name": "python3"
  },
  "language_info": {
   "codemirror_mode": {
    "name": "ipython",
    "version": 3
   },
   "file_extension": ".py",
   "mimetype": "text/x-python",
   "name": "python",
   "nbconvert_exporter": "python",
   "pygments_lexer": "ipython3",
   "version": "3.10.8"
  }
 },
 "nbformat": 4,
 "nbformat_minor": 5
}
