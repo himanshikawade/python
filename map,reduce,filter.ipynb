{
 "cells": [
  {
   "cell_type": "code",
   "execution_count": 4,
   "id": "f47bd745-d614-4f97-bd0d-96ea8403fc08",
   "metadata": {},
   "outputs": [],
   "source": [
    "l=[1,2,3,4,5]"
   ]
  },
  {
   "cell_type": "code",
   "execution_count": 10,
   "id": "6c01d17d-ccd3-478b-a455-44d08a351da3",
   "metadata": {},
   "outputs": [],
   "source": [
    "def test(l):\n",
    "    l1=[]\n",
    "    for i in l:\n",
    "        l1.append(i**2)\n",
    "    return(l1)"
   ]
  },
  {
   "cell_type": "code",
   "execution_count": 11,
   "id": "479fc804-6d06-4594-a764-b39b06adc1e2",
   "metadata": {},
   "outputs": [
    {
     "data": {
      "text/plain": [
       "[1, 4, 9, 16, 25]"
      ]
     },
     "execution_count": 11,
     "metadata": {},
     "output_type": "execute_result"
    }
   ],
   "source": [
    "test(l)"
   ]
  },
  {
   "cell_type": "code",
   "execution_count": 22,
   "id": "17ccf05b-6716-4b59-ab8a-767cf8dac8f2",
   "metadata": {},
   "outputs": [],
   "source": [
    "def sq(x):\n",
    "    return x**2"
   ]
  },
  {
   "cell_type": "code",
   "execution_count": 23,
   "id": "21473aa7-62e3-4749-b645-5064e9fcc8a6",
   "metadata": {},
   "outputs": [
    {
     "data": {
      "text/plain": [
       "1"
      ]
     },
     "execution_count": 23,
     "metadata": {},
     "output_type": "execute_result"
    }
   ],
   "source": [
    "sq(1)"
   ]
  },
  {
   "cell_type": "code",
   "execution_count": 44,
   "id": "f6552902-757e-4349-a9d4-c1c572c68393",
   "metadata": {},
   "outputs": [
    {
     "data": {
      "text/plain": [
       "<map at 0x7fea095111e0>"
      ]
     },
     "execution_count": 44,
     "metadata": {},
     "output_type": "execute_result"
    }
   ],
   "source": [
    "n=(1,2,3,4,5)\n",
    "map(sq,n)"
   ]
  },
  {
   "cell_type": "code",
   "execution_count": 45,
   "id": "8bff0a88-848a-4673-82d8-eb4b3286c5db",
   "metadata": {},
   "outputs": [
    {
     "data": {
      "text/plain": [
       "[1, 4, 9, 16, 25]"
      ]
     },
     "execution_count": 45,
     "metadata": {},
     "output_type": "execute_result"
    }
   ],
   "source": [
    "\n",
    "list(map(lambda x:x**2 , n))"
   ]
  },
  {
   "cell_type": "code",
   "execution_count": 47,
   "id": "36042e8c-0a89-49b5-a362-7bc047bc3235",
   "metadata": {},
   "outputs": [
    {
     "data": {
      "text/plain": [
       "[1, 4, 9, 16, 25]"
      ]
     },
     "execution_count": 47,
     "metadata": {},
     "output_type": "execute_result"
    }
   ],
   "source": [
    "list(map( lambda x:x**2, n))\n"
   ]
  },
  {
   "cell_type": "code",
   "execution_count": 48,
   "id": "682ace75-ca59-41b9-b770-29d0adb0b9c8",
   "metadata": {},
   "outputs": [
    {
     "data": {
      "text/plain": [
       "[11, 12, 13, 14, 15]"
      ]
     },
     "execution_count": 48,
     "metadata": {},
     "output_type": "execute_result"
    }
   ],
   "source": [
    "list(map( lambda x:x+10, n))\n"
   ]
  },
  {
   "cell_type": "code",
   "execution_count": 49,
   "id": "ebc656f8-3153-46e8-a036-931299cf5c8f",
   "metadata": {},
   "outputs": [
    {
     "data": {
      "text/plain": [
       "['1', '2', '3', '4', '5']"
      ]
     },
     "execution_count": 49,
     "metadata": {},
     "output_type": "execute_result"
    }
   ],
   "source": [
    "list(map(lambda x: str(x),n))\n"
   ]
  },
  {
   "cell_type": "code",
   "execution_count": 2,
   "id": "d782aff6-dddf-4537-9fa5-8f05259f4698",
   "metadata": {
    "jp-MarkdownHeadingCollapsed": true,
    "tags": []
   },
   "outputs": [],
   "source": [
    "l1=[1,2,3,4,5]\n",
    "l2=[6,7,8,9,10]"
   ]
  },
  {
   "cell_type": "code",
   "execution_count": 53,
   "id": "f2236f73-8832-4576-b446-a6fe3d1b5919",
   "metadata": {},
   "outputs": [
    {
     "data": {
      "text/plain": [
       "[7, 9, 11, 13, 15]"
      ]
     },
     "execution_count": 53,
     "metadata": {},
     "output_type": "execute_result"
    }
   ],
   "source": [
    "list(map(lambda x,y:x+y,l1,l2))"
   ]
  },
  {
   "cell_type": "code",
   "execution_count": 1,
   "id": "33b8e760-2a95-4548-9ceb-0920ac2efd06",
   "metadata": {},
   "outputs": [],
   "source": [
    "f=lambda x,y:x+y"
   ]
  },
  {
   "cell_type": "code",
   "execution_count": 3,
   "id": "41a00405-8b81-4a0b-9ed6-4569f07e6038",
   "metadata": {},
   "outputs": [
    {
     "data": {
      "text/plain": [
       "[7, 9, 11, 13, 15]"
      ]
     },
     "execution_count": 3,
     "metadata": {},
     "output_type": "execute_result"
    }
   ],
   "source": [
    "list(map(f,l1,l2))"
   ]
  },
  {
   "cell_type": "code",
   "execution_count": 4,
   "id": "bc19b5af-8ed8-4df2-b518-2016720b2205",
   "metadata": {},
   "outputs": [],
   "source": [
    "s=\"pwskills\""
   ]
  },
  {
   "cell_type": "code",
   "execution_count": 5,
   "id": "82995d64-7a71-46d0-833a-84f86fc08c84",
   "metadata": {},
   "outputs": [
    {
     "data": {
      "text/plain": [
       "['P', 'W', 'S', 'K', 'I', 'L', 'L', 'S']"
      ]
     },
     "execution_count": 5,
     "metadata": {},
     "output_type": "execute_result"
    }
   ],
   "source": [
    "list(map(lambda x:x.upper(),s))"
   ]
  },
  {
   "cell_type": "code",
   "execution_count": 6,
   "id": "89d1a73c-26ef-44c0-b3f3-04256ef2fd3a",
   "metadata": {},
   "outputs": [],
   "source": [
    "from functools import reduce"
   ]
  },
  {
   "cell_type": "code",
   "execution_count": 7,
   "id": "461f38b5-c4e8-4ec6-8ae0-d7bb7f03dcb2",
   "metadata": {},
   "outputs": [],
   "source": [
    "l=[1,2,3,4,5,6]"
   ]
  },
  {
   "cell_type": "code",
   "execution_count": 8,
   "id": "87664348-1589-4a7b-9b0c-4d8c6a3a07ff",
   "metadata": {},
   "outputs": [
    {
     "data": {
      "text/plain": [
       "21"
      ]
     },
     "execution_count": 8,
     "metadata": {},
     "output_type": "execute_result"
    }
   ],
   "source": [
    "reduce(lambda x,y:x+y,l)"
   ]
  },
  {
   "cell_type": "code",
   "execution_count": 9,
   "id": "7a90484d-1c6b-4588-8448-5568e6baab68",
   "metadata": {},
   "outputs": [],
   "source": [
    "def add(x,y):\n",
    "    return x+y"
   ]
  },
  {
   "cell_type": "code",
   "execution_count": 10,
   "id": "40864fb7-77a1-4605-8c6f-4e9f50503e13",
   "metadata": {},
   "outputs": [
    {
     "data": {
      "text/plain": [
       "21"
      ]
     },
     "execution_count": 10,
     "metadata": {},
     "output_type": "execute_result"
    }
   ],
   "source": [
    "reduce(add,l)"
   ]
  },
  {
   "cell_type": "code",
   "execution_count": 11,
   "id": "ad62b0f1-0b64-4fa0-8991-de0490b32616",
   "metadata": {},
   "outputs": [
    {
     "data": {
      "text/plain": [
       "1"
      ]
     },
     "execution_count": 11,
     "metadata": {},
     "output_type": "execute_result"
    }
   ],
   "source": [
    "reduce(lambda x,y:x+y,[1])"
   ]
  },
  {
   "cell_type": "code",
   "execution_count": 12,
   "id": "52761117-6ee0-4db3-8536-9ff8f611c731",
   "metadata": {},
   "outputs": [
    {
     "data": {
      "text/plain": [
       "[1, 2, 3, 4, 5, 6]"
      ]
     },
     "execution_count": 12,
     "metadata": {},
     "output_type": "execute_result"
    }
   ],
   "source": [
    "l"
   ]
  },
  {
   "cell_type": "code",
   "execution_count": 15,
   "id": "b277f332-e65d-494b-adcc-40b99dfade07",
   "metadata": {},
   "outputs": [
    {
     "data": {
      "text/plain": [
       "6"
      ]
     },
     "execution_count": 15,
     "metadata": {},
     "output_type": "execute_result"
    }
   ],
   "source": [
    "reduce(lambda x,y:x if x>y else y,l)"
   ]
  },
  {
   "cell_type": "code",
   "execution_count": 16,
   "id": "275d9eb7-c638-47b6-bb5d-4101a9b62a16",
   "metadata": {},
   "outputs": [],
   "source": [
    "l=[1,2,3,4,5,6,7,8,9]"
   ]
  },
  {
   "cell_type": "code",
   "execution_count": 22,
   "id": "d1e76c58-4023-4e05-8689-611067fb44cb",
   "metadata": {},
   "outputs": [
    {
     "data": {
      "text/plain": [
       "[2, 4, 6, 8]"
      ]
     },
     "execution_count": 22,
     "metadata": {},
     "output_type": "execute_result"
    }
   ],
   "source": [
    "list(filter(lambda x:  x%2==0 ,l))"
   ]
  },
  {
   "cell_type": "code",
   "execution_count": 23,
   "id": "7ab2826b-d7b6-40f4-85be-c35486a7f5c0",
   "metadata": {},
   "outputs": [
    {
     "data": {
      "text/plain": [
       "[1, 3, 5, 7, 9]"
      ]
     },
     "execution_count": 23,
     "metadata": {},
     "output_type": "execute_result"
    }
   ],
   "source": [
    "list(filter(lambda x:  x%2!=0 ,l))"
   ]
  },
  {
   "cell_type": "code",
   "execution_count": 24,
   "id": "311ef7d8-1cce-4f03-8988-10fecb0eabee",
   "metadata": {},
   "outputs": [],
   "source": [
    "l1=[-2,-9,-57,86,95,65]"
   ]
  },
  {
   "cell_type": "code",
   "execution_count": 25,
   "id": "9fd3e363-bb3c-4781-a2ec-3770d6c355be",
   "metadata": {},
   "outputs": [
    {
     "data": {
      "text/plain": [
       "[86, 95, 65]"
      ]
     },
     "execution_count": 25,
     "metadata": {},
     "output_type": "execute_result"
    }
   ],
   "source": [
    "list(filter(lambda x: x>0,l1))"
   ]
  },
  {
   "cell_type": "code",
   "execution_count": 26,
   "id": "b59194dc-bdda-45b6-accd-919042276f1c",
   "metadata": {},
   "outputs": [
    {
     "data": {
      "text/plain": [
       "[-2, -9, -57]"
      ]
     },
     "execution_count": 26,
     "metadata": {},
     "output_type": "execute_result"
    }
   ],
   "source": [
    "list(filter(lambda x: x<0,l1))"
   ]
  },
  {
   "cell_type": "code",
   "execution_count": 27,
   "id": "5d50c371-5cd3-4fdb-b354-029b4d7f1a1f",
   "metadata": {},
   "outputs": [],
   "source": [
    "l2=[\"himanshi\",\"pwskills\",\"narendra\",\"nagpur\",\"kawade\"]"
   ]
  },
  {
   "cell_type": "code",
   "execution_count": 30,
   "id": "b2557948-83e0-4dda-b4d2-94c02cc430c0",
   "metadata": {},
   "outputs": [
    {
     "data": {
      "text/plain": [
       "['nagpur', 'kawade']"
      ]
     },
     "execution_count": 30,
     "metadata": {},
     "output_type": "execute_result"
    }
   ],
   "source": [
    "list(filter(lambda x: len(x)<8,l2))"
   ]
  },
  {
   "cell_type": "code",
   "execution_count": null,
   "id": "915c5cc0-c17d-4382-96c1-10db15fab07a",
   "metadata": {},
   "outputs": [],
   "source": [
    "filter"
   ]
  }
 ],
 "metadata": {
  "kernelspec": {
   "display_name": "Python 3 (ipykernel)",
   "language": "python",
   "name": "python3"
  },
  "language_info": {
   "codemirror_mode": {
    "name": "ipython",
    "version": 3
   },
   "file_extension": ".py",
   "mimetype": "text/x-python",
   "name": "python",
   "nbconvert_exporter": "python",
   "pygments_lexer": "ipython3",
   "version": "3.10.8"
  }
 },
 "nbformat": 4,
 "nbformat_minor": 5
}
