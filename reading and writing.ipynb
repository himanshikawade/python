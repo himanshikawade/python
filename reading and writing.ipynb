{
 "cells": [
  {
   "cell_type": "code",
   "execution_count": 1,
   "id": "6b879321-4530-483e-8394-98376a7c9372",
   "metadata": {},
   "outputs": [],
   "source": [
    "data={\n",
    "    \"name\":\"himanshi\",\n",
    "    \"mail_id\":\"hk@gmail.com\",\n",
    "    \"phone_no\":96478958484,\n",
    "    \"subject\":[\"Data Science\",\"DAA\",\"JAVA\",\"Data analytics\"]\n",
    "}"
   ]
  },
  {
   "cell_type": "code",
   "execution_count": 2,
   "id": "e50a0f81-6097-4541-9555-36facc0e4786",
   "metadata": {},
   "outputs": [],
   "source": [
    "import json"
   ]
  },
  {
   "cell_type": "code",
   "execution_count": 3,
   "id": "785b959a-f2a8-4c57-ab87-1cb17eba4eab",
   "metadata": {},
   "outputs": [],
   "source": [
    "with open(\"test1.txt\",\"w\")as f:\n",
    "    json.dump(data,f)"
   ]
  },
  {
   "cell_type": "code",
   "execution_count": 17,
   "id": "9a96ba85-110c-46da-92b4-ba395743d1a4",
   "metadata": {},
   "outputs": [
    {
     "data": {
      "text/plain": [
       "{'name': 'himanshi',\n",
       " 'mail_id': 'hk@gmail.com',\n",
       " 'phone_no': 96478958484,\n",
       " 'subject': ['Data Science', 'DAA', 'JAVA', 'Data analytics']}"
      ]
     },
     "execution_count": 17,
     "metadata": {},
     "output_type": "execute_result"
    }
   ],
   "source": [
    "data1"
   ]
  },
  {
   "cell_type": "code",
   "execution_count": 20,
   "id": "3d2e4063-2d86-4857-b0ab-e43b2acf7ed0",
   "metadata": {},
   "outputs": [
    {
     "data": {
      "text/plain": [
       "['Data Science', 'DAA', 'JAVA', 'Data analytics']"
      ]
     },
     "execution_count": 20,
     "metadata": {},
     "output_type": "execute_result"
    }
   ],
   "source": [
    "data1[\"subject\"]"
   ]
  },
  {
   "cell_type": "code",
   "execution_count": 23,
   "id": "1459985b-046b-4bc1-b8cb-200951e090d4",
   "metadata": {},
   "outputs": [],
   "source": [
    "data=[ [\"name\",\"email\",\"gender\"],\n",
    "       [\"himanshi\",\"hk@gmail.com\",\"Female\"],\n",
    "       [\"Lokesh\",\"lk#gmail.com\",\"Male\"]\n",
    "     ]"
   ]
  },
  {
   "cell_type": "code",
   "execution_count": 25,
   "id": "01caf748-502e-42aa-8d7c-e2cea4beef53",
   "metadata": {},
   "outputs": [],
   "source": [
    "import csv"
   ]
  },
  {
   "cell_type": "code",
   "execution_count": 27,
   "id": "c11a7398-ceef-412a-b4a9-ef6cc9f502bf",
   "metadata": {},
   "outputs": [],
   "source": [
    "with open(\"test3.csv\",\"w\") as f:\n",
    "    w=csv.writer(f)\n",
    "    for i in data:\n",
    "        w.writerow(i)"
   ]
  },
  {
   "cell_type": "code",
   "execution_count": 29,
   "id": "8fc11817-dc51-4986-b579-6482253852e6",
   "metadata": {},
   "outputs": [
    {
     "name": "stdout",
     "output_type": "stream",
     "text": [
      "['name', 'email', 'gender']\n",
      "['himanshi', 'hk@gmail.com', 'Female']\n",
      "['Lokesh', 'lk#gmail.com', 'Male']\n"
     ]
    }
   ],
   "source": [
    "with open(\"test3.csv\",\"r\") as f:\n",
    "    read=csv.reader(f)\n",
    "    for i in read:\n",
    "        print(i)"
   ]
  },
  {
   "cell_type": "code",
   "execution_count": 31,
   "id": "0b57dd29-2803-43ec-9fcd-43e1d63bf75e",
   "metadata": {},
   "outputs": [],
   "source": [
    "with open(\"test4.bin\",\"wb\") as f:\n",
    "    f.write(b\"\\x01\\x02\\x03\")"
   ]
  },
  {
   "cell_type": "code",
   "execution_count": 32,
   "id": "709d49c3-d323-4f68-9b6c-662dd74636ac",
   "metadata": {},
   "outputs": [
    {
     "name": "stdout",
     "output_type": "stream",
     "text": [
      "b'\\x01\\x02\\x03'\n"
     ]
    }
   ],
   "source": [
    "with open(\"test4.bin\",\"rb\") as f:\n",
    "    print(f.read())"
   ]
  },
  {
   "cell_type": "code",
   "execution_count": null,
   "id": "53697814-a3a5-4837-a0f4-5d4bd3588560",
   "metadata": {},
   "outputs": [],
   "source": []
  }
 ],
 "metadata": {
  "kernelspec": {
   "display_name": "Python 3 (ipykernel)",
   "language": "python",
   "name": "python3"
  },
  "language_info": {
   "codemirror_mode": {
    "name": "ipython",
    "version": 3
   },
   "file_extension": ".py",
   "mimetype": "text/x-python",
   "name": "python",
   "nbconvert_exporter": "python",
   "pygments_lexer": "ipython3",
   "version": "3.10.8"
  }
 },
 "nbformat": 4,
 "nbformat_minor": 5
}
