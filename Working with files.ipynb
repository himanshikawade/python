{
 "cells": [
  {
   "cell_type": "code",
   "execution_count": 49,
   "id": "f1de1379-0245-4982-a656-455ec448bebb",
   "metadata": {},
   "outputs": [],
   "source": [
    "f=open(\"test.txt\",'w')"
   ]
  },
  {
   "cell_type": "code",
   "execution_count": 50,
   "id": "89853538-9370-4169-b1df-426e2ec0da0e",
   "metadata": {},
   "outputs": [
    {
     "data": {
      "text/plain": [
       "'/home/jovyan/work'"
      ]
     },
     "execution_count": 50,
     "metadata": {},
     "output_type": "execute_result"
    }
   ],
   "source": [
    "pwd"
   ]
  },
  {
   "cell_type": "code",
   "execution_count": 51,
   "id": "cb9abf4f-7340-4aa6-a32a-a48357ae8be1",
   "metadata": {},
   "outputs": [
    {
     "name": "stdout",
     "output_type": "stream",
     "text": [
      "'reading and writing.ipynb'   test1.txt  'Working with files.ipynb'\n",
      " README.md                    test3.csv\n",
      " sample-code.ipynb            test.txt\n"
     ]
    }
   ],
   "source": [
    "ls"
   ]
  },
  {
   "cell_type": "code",
   "execution_count": 52,
   "id": "340410ec-8f81-44d0-b19f-89c800a7887f",
   "metadata": {},
   "outputs": [
    {
     "data": {
      "text/plain": [
       "314"
      ]
     },
     "execution_count": 52,
     "metadata": {},
     "output_type": "execute_result"
    }
   ],
   "source": [
    "f.write(\"Actual bandwidth needs may be higher depending upon number of users and whether you are using shared or dedicated Internet access. For businesses interested in VoIP or to use bandwidth for critical applications, we recommend you check internet speed and assess the overall quality of your bandwidth connection usin\")"
   ]
  },
  {
   "cell_type": "code",
   "execution_count": 53,
   "id": "4fb92732-bdb2-4240-b37a-a7ac6ff66023",
   "metadata": {},
   "outputs": [],
   "source": [
    "f.close()"
   ]
  },
  {
   "cell_type": "code",
   "execution_count": 54,
   "id": "9fff4b5a-03ea-4d94-9f5a-8885868ef466",
   "metadata": {},
   "outputs": [],
   "source": [
    "data=open(\"test.txt\",\"r\")\n"
   ]
  },
  {
   "cell_type": "code",
   "execution_count": 55,
   "id": "8d1086ab-2fd1-4d40-8353-65741c861303",
   "metadata": {},
   "outputs": [
    {
     "data": {
      "text/plain": [
       "'Actual bandwidth needs may be higher depending upon number of users and whether you are using shared or dedicated Internet access. For businesses interested in VoIP or to use bandwidth for critical applications, we recommend you check internet speed and assess the overall quality of your bandwidth connection usin'"
      ]
     },
     "execution_count": 55,
     "metadata": {},
     "output_type": "execute_result"
    }
   ],
   "source": [
    "data.read()"
   ]
  },
  {
   "cell_type": "code",
   "execution_count": 56,
   "id": "bdff61c9-bf9d-43e8-8539-f3432a7657da",
   "metadata": {},
   "outputs": [
    {
     "data": {
      "text/plain": [
       "0"
      ]
     },
     "execution_count": 56,
     "metadata": {},
     "output_type": "execute_result"
    }
   ],
   "source": [
    "data.seek(0)"
   ]
  },
  {
   "cell_type": "code",
   "execution_count": 57,
   "id": "4d499b47-99d2-42ae-87eb-72efc009afd3",
   "metadata": {},
   "outputs": [
    {
     "data": {
      "text/plain": [
       "'Actual bandwidth needs may be higher depending upon number of users and whether you are using shared or dedicated Internet access. For businesses interested in VoIP or to use bandwidth for critical applications, we recommend you check internet speed and assess the overall quality of your bandwidth connection usin'"
      ]
     },
     "execution_count": 57,
     "metadata": {},
     "output_type": "execute_result"
    }
   ],
   "source": [
    "data.read()"
   ]
  },
  {
   "cell_type": "code",
   "execution_count": 58,
   "id": "65cb5d3d-ffc2-4d2d-b25a-01eafaee6876",
   "metadata": {},
   "outputs": [],
   "source": [
    "data1=open(\"test.txt\",\"r\")"
   ]
  },
  {
   "cell_type": "code",
   "execution_count": 59,
   "id": "f409ed94-8056-44cc-a144-eb1926f2239e",
   "metadata": {},
   "outputs": [
    {
     "name": "stdout",
     "output_type": "stream",
     "text": [
      "Actual bandwidth needs may be higher depending upon number of users and whether you are using shared or dedicated Internet access. For businesses interested in VoIP or to use bandwidth for critical applications, we recommend you check internet speed and assess the overall quality of your bandwidth connection usin\n"
     ]
    }
   ],
   "source": [
    "for i in data1:\n",
    "    print(i)"
   ]
  },
  {
   "cell_type": "code",
   "execution_count": 60,
   "id": "0adc3031-05c0-49a3-9f17-e84614119a93",
   "metadata": {},
   "outputs": [],
   "source": [
    "import os"
   ]
  },
  {
   "cell_type": "code",
   "execution_count": 61,
   "id": "1037ee43-5868-4271-bb15-150c389668ac",
   "metadata": {},
   "outputs": [
    {
     "data": {
      "text/plain": [
       "314"
      ]
     },
     "execution_count": 61,
     "metadata": {},
     "output_type": "execute_result"
    }
   ],
   "source": [
    "os.path.getsize(\"test.txt\")"
   ]
  },
  {
   "cell_type": "code",
   "execution_count": 62,
   "id": "50b4b77b-820d-444f-a68f-4c9281d96ec3",
   "metadata": {},
   "outputs": [
    {
     "data": {
      "text/plain": [
       "'new_test.txt'"
      ]
     },
     "execution_count": 62,
     "metadata": {},
     "output_type": "execute_result"
    }
   ],
   "source": [
    "shutil.copy(\"test.txt\",\"new_test.txt\")"
   ]
  },
  {
   "cell_type": "code",
   "execution_count": 63,
   "id": "40d37978-a2f3-467e-9c5f-0d293b09cfcd",
   "metadata": {},
   "outputs": [],
   "source": [
    "import shutil"
   ]
  },
  {
   "cell_type": "code",
   "execution_count": 64,
   "id": "9f9c5653-d543-41d2-9b5a-705fef4089d3",
   "metadata": {},
   "outputs": [],
   "source": [
    "os.remove(\"test.txt\")"
   ]
  },
  {
   "cell_type": "code",
   "execution_count": null,
   "id": "b6c0a496-c6c6-4c61-91ce-29adb388f13f",
   "metadata": {},
   "outputs": [],
   "source": []
  }
 ],
 "metadata": {
  "kernelspec": {
   "display_name": "Python 3 (ipykernel)",
   "language": "python",
   "name": "python3"
  },
  "language_info": {
   "codemirror_mode": {
    "name": "ipython",
    "version": 3
   },
   "file_extension": ".py",
   "mimetype": "text/x-python",
   "name": "python",
   "nbconvert_exporter": "python",
   "pygments_lexer": "ipython3",
   "version": "3.10.8"
  }
 },
 "nbformat": 4,
 "nbformat_minor": 5
}
