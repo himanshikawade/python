{
 "cells": [
  {
   "cell_type": "code",
   "execution_count": 1,
   "id": "a2b4afdf-4bd9-4afe-849d-401b53b3a1a4",
   "metadata": {},
   "outputs": [],
   "source": [
    "class parent:\n",
    "    def test(self):\n",
    "        print(\"this is my parent class\")"
   ]
  },
  {
   "cell_type": "code",
   "execution_count": 2,
   "id": "dc425477-fd01-4e3a-a2f8-da853bf357b3",
   "metadata": {},
   "outputs": [],
   "source": [
    "class child(parent):\n",
    "    pass"
   ]
  },
  {
   "cell_type": "code",
   "execution_count": 3,
   "id": "6aafd5ee-b73b-4740-a576-0e25a2125268",
   "metadata": {},
   "outputs": [],
   "source": [
    "child_obj=child()"
   ]
  },
  {
   "cell_type": "code",
   "execution_count": 7,
   "id": "d84f7771-6b3b-4ff2-8de5-81e0a7c532bd",
   "metadata": {},
   "outputs": [
    {
     "name": "stdout",
     "output_type": "stream",
     "text": [
      "this is my parent class\n"
     ]
    }
   ],
   "source": [
    "child_obj.test()"
   ]
  },
  {
   "cell_type": "code",
   "execution_count": 14,
   "id": "4ccf93f9-2187-4db1-8349-3a091011ba5b",
   "metadata": {},
   "outputs": [],
   "source": [
    "class class1:\n",
    "    def test_class1(self):\n",
    "        print(\"this is my class 1\")"
   ]
  },
  {
   "cell_type": "code",
   "execution_count": 15,
   "id": "8617c153-48d4-4d35-a047-aa0a23c72973",
   "metadata": {},
   "outputs": [],
   "source": [
    "class class2(class1):\n",
    "    def test_class2(self):\n",
    "        print(\"this is my class 2\")"
   ]
  },
  {
   "cell_type": "code",
   "execution_count": 19,
   "id": "2291d05f-7bfe-4785-a90f-020ffc7ff74d",
   "metadata": {},
   "outputs": [],
   "source": [
    "class class3(class2):\n",
    "    def test_class3(self):\n",
    "        print(\"this is my class 3\")"
   ]
  },
  {
   "cell_type": "code",
   "execution_count": 20,
   "id": "05fcf10f-6bfa-47bd-9d4f-84844ccb74d6",
   "metadata": {},
   "outputs": [],
   "source": [
    "obj_class=class3()"
   ]
  },
  {
   "cell_type": "code",
   "execution_count": 22,
   "id": "6814514d-493d-4590-b756-ab02d0a7e1c8",
   "metadata": {},
   "outputs": [
    {
     "name": "stdout",
     "output_type": "stream",
     "text": [
      "this is my class 3\n"
     ]
    }
   ],
   "source": [
    "obj_class.test_class3()"
   ]
  },
  {
   "cell_type": "code",
   "execution_count": 23,
   "id": "f96ada9f-5adb-4066-8b2d-1ab76b9fb087",
   "metadata": {},
   "outputs": [
    {
     "name": "stdout",
     "output_type": "stream",
     "text": [
      "this is my class 1\n"
     ]
    }
   ],
   "source": [
    "obj_class.test_class1()"
   ]
  },
  {
   "cell_type": "code",
   "execution_count": 24,
   "id": "a0e032e5-88b9-409b-ab43-d3f39d7ac47a",
   "metadata": {},
   "outputs": [
    {
     "name": "stdout",
     "output_type": "stream",
     "text": [
      "this is my class 2\n"
     ]
    }
   ],
   "source": [
    "obj_class.test_class2()"
   ]
  },
  {
   "cell_type": "code",
   "execution_count": 25,
   "id": "447c4c5b-0d50-4b8d-9c5f-c7cd33e1969b",
   "metadata": {},
   "outputs": [],
   "source": [
    "class A:\n",
    "    def test_A(self):\n",
    "        print(\"this is my class A\")"
   ]
  },
  {
   "cell_type": "code",
   "execution_count": 26,
   "id": "fb4f8d2b-fe4b-4387-8284-3af9ddb826fd",
   "metadata": {},
   "outputs": [],
   "source": [
    "class B:\n",
    "    def test_B(self):\n",
    "        print(\"this is my class B\")"
   ]
  },
  {
   "cell_type": "code",
   "execution_count": 28,
   "id": "96054c96-1915-4bd5-b17f-25ddb7200f87",
   "metadata": {},
   "outputs": [],
   "source": [
    "class C( A,B):\n",
    "    def test_C(self):\n",
    "        print(\"this is my class C\")"
   ]
  },
  {
   "cell_type": "code",
   "execution_count": 29,
   "id": "f284c9f6-587b-4e77-a1ed-7b2e1cc00e5f",
   "metadata": {},
   "outputs": [],
   "source": [
    "obj_C=C()"
   ]
  },
  {
   "cell_type": "code",
   "execution_count": 30,
   "id": "3d4cc3f2-54b7-4e46-92ba-4f223b0e5e8b",
   "metadata": {},
   "outputs": [
    {
     "name": "stdout",
     "output_type": "stream",
     "text": [
      "this is my class C\n"
     ]
    }
   ],
   "source": [
    "obj_C.test_C()"
   ]
  },
  {
   "cell_type": "code",
   "execution_count": 31,
   "id": "89feccfc-2eec-4b23-97e4-a6aef29a2abc",
   "metadata": {},
   "outputs": [
    {
     "name": "stdout",
     "output_type": "stream",
     "text": [
      "this is my class A\n"
     ]
    }
   ],
   "source": [
    "obj_C.test_A()"
   ]
  },
  {
   "cell_type": "code",
   "execution_count": 32,
   "id": "54bae369-45e4-495c-9a74-8257eb999029",
   "metadata": {},
   "outputs": [
    {
     "name": "stdout",
     "output_type": "stream",
     "text": [
      "this is my class B\n"
     ]
    }
   ],
   "source": [
    "obj_C.test_B()"
   ]
  },
  {
   "cell_type": "code",
   "execution_count": null,
   "id": "6bdb523f-4fcc-483a-b2be-72fac74711b9",
   "metadata": {},
   "outputs": [],
   "source": []
  }
 ],
 "metadata": {
  "kernelspec": {
   "display_name": "Python 3 (ipykernel)",
   "language": "python",
   "name": "python3"
  },
  "language_info": {
   "codemirror_mode": {
    "name": "ipython",
    "version": 3
   },
   "file_extension": ".py",
   "mimetype": "text/x-python",
   "name": "python",
   "nbconvert_exporter": "python",
   "pygments_lexer": "ipython3",
   "version": "3.10.8"
  }
 },
 "nbformat": 4,
 "nbformat_minor": 5
}
