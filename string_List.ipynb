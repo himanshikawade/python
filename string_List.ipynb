{
 "cells": [
  {
   "cell_type": "code",
   "execution_count": 1,
   "id": "841a9b42-fbbb-4887-a4f4-907abc2a33d7",
   "metadata": {},
   "outputs": [],
   "source": [
    "name=\"Pw Skills Data Science Masters 2.0\""
   ]
  },
  {
   "cell_type": "code",
   "execution_count": 2,
   "id": "f02acabb-8b0a-416b-9b2e-61abc2d7adf4",
   "metadata": {},
   "outputs": [
    {
     "data": {
      "text/plain": [
       "'0 . 2   s r e t s a M   e c n e i c S   a t a D   s l l i k S   w P'"
      ]
     },
     "execution_count": 2,
     "metadata": {},
     "output_type": "execute_result"
    }
   ],
   "source": [
    "' '.join(reversed(name))"
   ]
  },
  {
   "cell_type": "code",
   "execution_count": 3,
   "id": "99a02fce-9964-480a-b390-617bf16733bb",
   "metadata": {},
   "outputs": [
    {
     "data": {
      "text/plain": [
       "'Pw Skills Data Science Masters 2.0'"
      ]
     },
     "execution_count": 3,
     "metadata": {},
     "output_type": "execute_result"
    }
   ],
   "source": [
    "name.strip(\" \")"
   ]
  },
  {
   "cell_type": "code",
   "execution_count": 4,
   "id": "5ae299a3-6bcf-4ff9-ae8e-8daa5e9b5e2b",
   "metadata": {},
   "outputs": [
    {
     "data": {
      "text/plain": [
       "'Pw Skills Data Science Masters 2.0'"
      ]
     },
     "execution_count": 4,
     "metadata": {},
     "output_type": "execute_result"
    }
   ],
   "source": [
    "name.lstrip(\" \")"
   ]
  },
  {
   "cell_type": "code",
   "execution_count": 6,
   "id": "da132c98-b691-4bec-a1db-87dc89b02d59",
   "metadata": {},
   "outputs": [
    {
     "data": {
      "text/plain": [
       "'Pw Skills Data Science Masters 2.0'"
      ]
     },
     "execution_count": 6,
     "metadata": {},
     "output_type": "execute_result"
    }
   ],
   "source": [
    "name.rstrip(\" \")"
   ]
  },
  {
   "cell_type": "code",
   "execution_count": 7,
   "id": "7743d848-a21e-4b24-a443-6eff0578e1d2",
   "metadata": {},
   "outputs": [
    {
     "data": {
      "text/plain": [
       "'Pw Skills Data Science Master 2.0'"
      ]
     },
     "execution_count": 7,
     "metadata": {},
     "output_type": "execute_result"
    }
   ],
   "source": [
    "name.replace(\"Masters\",\"Master\")"
   ]
  },
  {
   "cell_type": "code",
   "execution_count": 8,
   "id": "9ebc36f3-9190-4be9-ad91-a664a320a13c",
   "metadata": {},
   "outputs": [],
   "source": [
    "str1=\"welcome to pwskills welcome to dat cience masters\""
   ]
  },
  {
   "cell_type": "code",
   "execution_count": 9,
   "id": "d8913fc4-98c4-4276-95d3-7a381b769e93",
   "metadata": {},
   "outputs": [
    {
     "data": {
      "text/plain": [
       "'welcome to pwskills welcome to Data Science masters'"
      ]
     },
     "execution_count": 9,
     "metadata": {},
     "output_type": "execute_result"
    }
   ],
   "source": [
    "str1.replace(\"dat\",\"Data\").replace(\"cience\",\"Science\")"
   ]
  },
  {
   "cell_type": "code",
   "execution_count": 10,
   "id": "f7b041f7-e34e-4f7d-ac69-79b02a6d48be",
   "metadata": {},
   "outputs": [
    {
     "data": {
      "text/plain": [
       "False"
      ]
     },
     "execution_count": 10,
     "metadata": {},
     "output_type": "execute_result"
    }
   ],
   "source": [
    "str1.isupper()"
   ]
  },
  {
   "cell_type": "code",
   "execution_count": 11,
   "id": "07047363-0ee4-466a-a853-8776a9241c6b",
   "metadata": {},
   "outputs": [
    {
     "data": {
      "text/plain": [
       "True"
      ]
     },
     "execution_count": 11,
     "metadata": {},
     "output_type": "execute_result"
    }
   ],
   "source": [
    "a=\"abcd1234\"\n",
    "a.isalnum()"
   ]
  },
  {
   "cell_type": "code",
   "execution_count": 14,
   "id": "160c57de-3034-4d45-b44f-4d79b2050ff5",
   "metadata": {},
   "outputs": [
    {
     "name": "stdout",
     "output_type": "stream",
     "text": [
      "49\n"
     ]
    }
   ],
   "source": [
    "count=0\n",
    "for i in str1:\n",
    "    count=count+1\n",
    "print(count)"
   ]
  },
  {
   "cell_type": "code",
   "execution_count": 15,
   "id": "5739750e-7528-40f7-a4bb-e34a88539cb7",
   "metadata": {},
   "outputs": [
    {
     "name": "stdout",
     "output_type": "stream",
     "text": [
      "w\n",
      "e\n",
      "l\n",
      "c\n",
      "o\n",
      "m\n",
      "e\n",
      " \n",
      "t\n",
      "o\n",
      " \n",
      "p\n",
      "w\n",
      "s\n",
      "k\n",
      "i\n",
      "l\n",
      "l\n",
      "s\n",
      " \n",
      "w\n",
      "e\n",
      "l\n",
      "c\n",
      "o\n",
      "m\n",
      "e\n",
      " \n",
      "t\n",
      "o\n",
      " \n",
      "d\n",
      "a\n",
      "t\n",
      " \n",
      "c\n",
      "i\n",
      "e\n",
      "n\n",
      "c\n",
      "e\n",
      " \n",
      "m\n",
      "a\n",
      "s\n",
      "t\n",
      "e\n",
      "r\n",
      "s\n"
     ]
    }
   ],
   "source": [
    "for i in str1:\n",
    "    print(i)"
   ]
  },
  {
   "cell_type": "code",
   "execution_count": 19,
   "id": "a59259d1-56f5-47b3-82ce-de07a07d6e6a",
   "metadata": {},
   "outputs": [
    {
     "name": "stdout",
     "output_type": "stream",
     "text": [
      "0 = w\n",
      "1 = e\n",
      "2 = l\n",
      "3 = c\n",
      "4 = o\n",
      "5 = m\n",
      "6 = e\n",
      "7 =  \n",
      "8 = t\n",
      "9 = o\n",
      "10 =  \n",
      "11 = p\n",
      "12 = w\n",
      "13 = s\n",
      "14 = k\n",
      "15 = i\n",
      "16 = l\n",
      "17 = l\n",
      "18 = s\n",
      "19 =  \n",
      "20 = w\n",
      "21 = e\n",
      "22 = l\n",
      "23 = c\n",
      "24 = o\n",
      "25 = m\n",
      "26 = e\n",
      "27 =  \n",
      "28 = t\n",
      "29 = o\n",
      "30 =  \n",
      "31 = d\n",
      "32 = a\n",
      "33 = t\n",
      "34 =  \n",
      "35 = c\n",
      "36 = i\n",
      "37 = e\n",
      "38 = n\n",
      "39 = c\n",
      "40 = e\n",
      "41 =  \n",
      "42 = m\n",
      "43 = a\n",
      "44 = s\n",
      "45 = t\n",
      "46 = e\n",
      "47 = r\n",
      "48 = s\n"
     ]
    }
   ],
   "source": [
    "for i in range(len(str1)):\n",
    "    print(i,\"=\",str1[i])"
   ]
  },
  {
   "cell_type": "code",
   "execution_count": 21,
   "id": "a5008c5b-ce49-43c3-ac24-c3aee1b330fa",
   "metadata": {},
   "outputs": [
    {
     "name": "stdout",
     "output_type": "stream",
     "text": [
      "sretsam ecneic tad ot emoclew sllikswp ot emoclew\n"
     ]
    }
   ],
   "source": [
    "\n",
    " print(str1[::-1])"
   ]
  },
  {
   "cell_type": "code",
   "execution_count": 26,
   "id": "bff14ca4-f4b3-48ac-9097-e6514301202f",
   "metadata": {},
   "outputs": [
    {
     "name": "stdout",
     "output_type": "stream",
     "text": [
      "s\n",
      "r\n",
      "e\n",
      "t\n",
      "s\n",
      "a\n",
      "m\n",
      " \n",
      "e\n",
      "c\n",
      "n\n",
      "e\n",
      "i\n",
      "c\n",
      " \n",
      "t\n",
      "a\n",
      "d\n",
      " \n",
      "o\n",
      "t\n",
      " \n",
      "e\n",
      "m\n",
      "o\n",
      "c\n",
      "l\n",
      "e\n",
      "w\n",
      " \n",
      "s\n",
      "l\n",
      "l\n",
      "i\n",
      "k\n",
      "s\n",
      "w\n",
      "p\n",
      " \n",
      "o\n",
      "t\n",
      " \n",
      "e\n",
      "m\n",
      "o\n",
      "c\n",
      "l\n",
      "e\n",
      "w\n"
     ]
    }
   ],
   "source": [
    "v=len(str1)-1\n",
    "while v>=0:\n",
    "    print(str1[v])\n",
    "    v=v-1"
   ]
  },
  {
   "cell_type": "code",
   "execution_count": 27,
   "id": "f681bc0c-ca7f-476c-a6f1-854f1e5c4a0f",
   "metadata": {},
   "outputs": [],
   "source": [
    "name=\"Himanshi\"\n",
    "vowels=\"AEIOUaeiou\""
   ]
  },
  {
   "cell_type": "code",
   "execution_count": 29,
   "id": "01af405a-7bc4-4587-beae-186be46e2f4b",
   "metadata": {},
   "outputs": [
    {
     "name": "stdout",
     "output_type": "stream",
     "text": [
      "i\n",
      "a\n",
      "i\n"
     ]
    }
   ],
   "source": [
    "for ch in name:\n",
    "    if ch in vowels:\n",
    "          print(ch)\n",
    "        \n",
    "  "
   ]
  },
  {
   "cell_type": "code",
   "execution_count": null,
   "id": "57eb3007-5e10-435d-9591-03123036c4aa",
   "metadata": {},
   "outputs": [],
   "source": []
  }
 ],
 "metadata": {
  "kernelspec": {
   "display_name": "Python 3 (ipykernel)",
   "language": "python",
   "name": "python3"
  },
  "language_info": {
   "codemirror_mode": {
    "name": "ipython",
    "version": 3
   },
   "file_extension": ".py",
   "mimetype": "text/x-python",
   "name": "python",
   "nbconvert_exporter": "python",
   "pygments_lexer": "ipython3",
   "version": "3.10.8"
  }
 },
 "nbformat": 4,
 "nbformat_minor": 5
}
