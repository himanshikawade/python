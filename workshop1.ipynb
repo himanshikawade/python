{
  "nbformat": 4,
  "nbformat_minor": 0,
  "metadata": {
    "colab": {
      "provenance": []
    },
    "kernelspec": {
      "name": "python3",
      "display_name": "Python 3"
    },
    "language_info": {
      "name": "python"
    }
  },
  "cells": [
    {
      "cell_type": "code",
      "execution_count": null,
      "metadata": {
        "colab": {
          "base_uri": "https://localhost:8080/"
        },
        "id": "fujvWCl0agPj",
        "outputId": "02c4ec5e-edfd-4c71-e9f6-9dde97664bbf"
      },
      "outputs": [
        {
          "output_type": "execute_result",
          "data": {
            "text/plain": [
              "int"
            ]
          },
          "metadata": {},
          "execution_count": 3
        }
      ],
      "source": [
        "age=35\n",
        "type(age)\n"
      ]
    },
    {
      "cell_type": "code",
      "source": [
        "age='hk'\n",
        "type(age)"
      ],
      "metadata": {
        "colab": {
          "base_uri": "https://localhost:8080/"
        },
        "id": "fzYSOrbwdHNh",
        "outputId": "7fb44b69-9807-4749-d632-4e7fe47df5d3"
      },
      "execution_count": null,
      "outputs": [
        {
          "output_type": "execute_result",
          "data": {
            "text/plain": [
              "str"
            ]
          },
          "metadata": {},
          "execution_count": 4
        }
      ]
    },
    {
      "cell_type": "code",
      "source": [
        "data=[1,2,3,'himanshi','kawade','o+',['1542679','4522997452'],False,5.2]\n"
      ],
      "metadata": {
        "id": "GzNBGcTmdT9K"
      },
      "execution_count": null,
      "outputs": []
    },
    {
      "cell_type": "code",
      "source": [
        "data[5]\n",
        "data[1:6]\n",
        "data[0:8]\n",
        "data[-2]\n",
        "data.insert(4,'narendra')\n",
        "data\n"
      ],
      "metadata": {
        "colab": {
          "base_uri": "https://localhost:8080/"
        },
        "id": "O1rtz3B7d9rx",
        "outputId": "dc169ac7-f6e2-442c-fe6b-7989bdd0f4d5"
      },
      "execution_count": null,
      "outputs": [
        {
          "output_type": "execute_result",
          "data": {
            "text/plain": [
              "[1,\n",
              " 2,\n",
              " 3,\n",
              " 'himanshi',\n",
              " 'narendra',\n",
              " 'kawade',\n",
              " 'o+',\n",
              " ['1542679', '4522997452'],\n",
              " False,\n",
              " 5.2]"
            ]
          },
          "metadata": {},
          "execution_count": 38
        }
      ]
    },
    {
      "cell_type": "code",
      "source": [
        "names={'himanshi','divyani','tanishka','pravjya','vanshika','sumit','tejas'}\n",
        "names.add('vaishnavi')"
      ],
      "metadata": {
        "id": "DN6Kj37_kIo9"
      },
      "execution_count": null,
      "outputs": []
    },
    {
      "cell_type": "code",
      "source": [
        "cricket={'aman','rajesh','rahul','sumit','tejas'}\n",
        "football={'rohan','manish','john','makus'}\n",
        "\n"
      ],
      "metadata": {
        "id": "UMlsNRyumeXd"
      },
      "execution_count": null,
      "outputs": []
    },
    {
      "cell_type": "code",
      "source": [
        "cricket.union(football)\n",
        "cricket.intersection(football)"
      ],
      "metadata": {
        "colab": {
          "base_uri": "https://localhost:8080/"
        },
        "id": "hyfgLszEnUNo",
        "outputId": "5c37d8a5-7ddb-4dba-9391-862aed7ce716"
      },
      "execution_count": null,
      "outputs": [
        {
          "output_type": "execute_result",
          "data": {
            "text/plain": [
              "set()"
            ]
          },
          "metadata": {},
          "execution_count": 34
        }
      ]
    },
    {
      "cell_type": "code",
      "source": [
        "marks=[89,96,92,91,90,84]\n"
      ],
      "metadata": {
        "id": "_GY6DQh2oIQg"
      },
      "execution_count": null,
      "outputs": []
    },
    {
      "cell_type": "code",
      "source": [
        "marks={'maths':96,'history':85,'english':90}\n",
        "marks['maths']"
      ],
      "metadata": {
        "colab": {
          "base_uri": "https://localhost:8080/"
        },
        "id": "YVHZarOpqnCG",
        "outputId": "08256038-c422-4e0d-a02a-6a723bc59440"
      },
      "execution_count": null,
      "outputs": [
        {
          "output_type": "execute_result",
          "data": {
            "text/plain": [
              "96"
            ]
          },
          "metadata": {},
          "execution_count": 42
        }
      ]
    },
    {
      "cell_type": "code",
      "source": [
        "marks['geography']=86\n",
        "marks"
      ],
      "metadata": {
        "colab": {
          "base_uri": "https://localhost:8080/"
        },
        "id": "RgJMPDuFsvQ2",
        "outputId": "536e7193-2125-4cb6-af36-9e2f804558a2"
      },
      "execution_count": null,
      "outputs": [
        {
          "output_type": "execute_result",
          "data": {
            "text/plain": [
              "{'maths': 96, 'history': 85, 'english': 90, 'geography': 86}"
            ]
          },
          "metadata": {},
          "execution_count": 44
        }
      ]
    },
    {
      "cell_type": "code",
      "source": [
        "age=19\n",
        "if age >=18:\n",
        "  print(\"you can apply for Dl\")\n",
        "else:\n",
        "  print(\"you can not apply for Dl\")\n",
        "\n",
        "\n"
      ],
      "metadata": {
        "colab": {
          "base_uri": "https://localhost:8080/"
        },
        "id": "NwEZZd9mvcBd",
        "outputId": "634fb198-5b01-4bef-ff5e-0e042e370859"
      },
      "execution_count": null,
      "outputs": [
        {
          "output_type": "stream",
          "name": "stdout",
          "text": [
            "you can apply for Dl\n"
          ]
        }
      ]
    },
    {
      "cell_type": "code",
      "source": [
        "for _ in range(0,10):\n",
        "  print(\"hello\")"
      ],
      "metadata": {
        "colab": {
          "base_uri": "https://localhost:8080/"
        },
        "id": "p25IYWzJy7nW",
        "outputId": "4623dd8a-8471-4489-aa7b-4c9e2aae48e5"
      },
      "execution_count": null,
      "outputs": [
        {
          "output_type": "stream",
          "name": "stdout",
          "text": [
            "hello\n",
            "hello\n",
            "hello\n",
            "hello\n",
            "hello\n",
            "hello\n",
            "hello\n",
            "hello\n",
            "hello\n",
            "hello\n"
          ]
        }
      ]
    },
    {
      "cell_type": "code",
      "source": [
        "list(range(0,10))"
      ],
      "metadata": {
        "colab": {
          "base_uri": "https://localhost:8080/"
        },
        "id": "GU4dyynYzde9",
        "outputId": "0922dce6-0dc2-4d0a-f2ea-a9951f3f9900"
      },
      "execution_count": null,
      "outputs": [
        {
          "output_type": "execute_result",
          "data": {
            "text/plain": [
              "[0, 1, 2, 3, 4, 5, 6, 7, 8, 9]"
            ]
          },
          "metadata": {},
          "execution_count": 2
        }
      ]
    },
    {
      "cell_type": "code",
      "source": [
        "for i in names:\n",
        "  print('**************')\n",
        "  print(i)\n",
        "\n"
      ],
      "metadata": {
        "colab": {
          "base_uri": "https://localhost:8080/"
        },
        "id": "uoZSnV3pzsxm",
        "outputId": "a91a9c5e-ae4f-4ee0-9c41-297868cde13f"
      },
      "execution_count": null,
      "outputs": [
        {
          "output_type": "stream",
          "name": "stdout",
          "text": [
            "**************\n",
            "tanishka\n",
            "**************\n",
            "divyani\n",
            "**************\n",
            "vaishnavi\n",
            "**************\n",
            "sumit\n",
            "**************\n",
            "himanshi\n",
            "**************\n",
            "pravjya\n",
            "**************\n",
            "tejas\n",
            "**************\n",
            "vanshika\n"
          ]
        }
      ]
    },
    {
      "cell_type": "code",
      "source": [
        "names=('himanshi','divyani','tanishka','pravjya','vanshika','sumit','tejas')\n",
        "a=input(\"enter the name:\")\n",
        "found=False\n",
        "\n",
        "for i in names:\n",
        "  if i==a:\n",
        "    found=True\n",
        "    break\n",
        "if found==True:\n",
        "    print(\"name found in list\")\n",
        "else:\n",
        "    print(\"name not found\")\n",
        "\n",
        "\n"
      ],
      "metadata": {
        "colab": {
          "base_uri": "https://localhost:8080/"
        },
        "id": "RW60f9gm0GaX",
        "outputId": "ae08b7bf-ece6-4f04-de8d-7dd43c0f1152"
      },
      "execution_count": null,
      "outputs": [
        {
          "output_type": "stream",
          "name": "stdout",
          "text": [
            "enter the name:himanshi\n",
            "name found in list\n"
          ]
        }
      ]
    },
    {
      "cell_type": "code",
      "source": [
        "import math\n",
        "math.log(10)\n",
        "math.e\n",
        "math.sin(90)\n"
      ],
      "metadata": {
        "colab": {
          "base_uri": "https://localhost:8080/"
        },
        "id": "9teuFfU_1357",
        "outputId": "6b972f24-1f64-45c5-f3b6-e6f7ab5b2a62"
      },
      "execution_count": null,
      "outputs": [
        {
          "output_type": "execute_result",
          "data": {
            "text/plain": [
              "0.8939966636005579"
            ]
          },
          "metadata": {},
          "execution_count": 27
        }
      ]
    },
    {
      "cell_type": "code",
      "source": [
        "help(math.sin)"
      ],
      "metadata": {
        "colab": {
          "base_uri": "https://localhost:8080/"
        },
        "id": "eHrEPO967Toq",
        "outputId": "b93d8bc1-1335-4626-b775-101daaecb5a4"
      },
      "execution_count": null,
      "outputs": [
        {
          "output_type": "stream",
          "name": "stdout",
          "text": [
            "Help on built-in function sin in module math:\n",
            "\n",
            "sin(x, /)\n",
            "    Return the sine of x (measured in radians).\n",
            "\n"
          ]
        }
      ]
    },
    {
      "cell_type": "code",
      "source": [
        "from math import log\n",
        "log(10)\n",
        "from math import log,sin\n",
        "sin(95)\n"
      ],
      "metadata": {
        "colab": {
          "base_uri": "https://localhost:8080/"
        },
        "id": "6ssimmKs8Mf6",
        "outputId": "bf2ac3f2-20b5-4299-c612-0810eecee2aa"
      },
      "execution_count": null,
      "outputs": [
        {
          "output_type": "execute_result",
          "data": {
            "text/plain": [
              "0.683261714736121"
            ]
          },
          "metadata": {},
          "execution_count": 31
        }
      ]
    },
    {
      "cell_type": "code",
      "source": [
        "import math as m\n",
        "import pandas as pd\n",
        "import matplotlib.pyplot as plt\n",
        "\n"
      ],
      "metadata": {
        "id": "wMVusfeO9uVw"
      },
      "execution_count": null,
      "outputs": []
    },
    {
      "cell_type": "code",
      "source": [
        "from coll import counter\n"
      ],
      "metadata": {
        "id": "TY-msMof-tnn"
      },
      "execution_count": null,
      "outputs": []
    },
    {
      "cell_type": "code",
      "source": [
        "def addition(*a):\n",
        " print(\"the addition is\",a)\n",
        " print (type(a))\n",
        " return a\n"
      ],
      "metadata": {
        "id": "xBWiNNBiRL-6"
      },
      "execution_count": null,
      "outputs": []
    },
    {
      "cell_type": "code",
      "source": [
        "def addition (a ,b=0):\n",
        "  return a+b\n"
      ],
      "metadata": {
        "id": "MOoWwOwcXoBc"
      },
      "execution_count": null,
      "outputs": []
    },
    {
      "cell_type": "code",
      "source": [
        "x=addition(2,1,6)\n"
      ],
      "metadata": {
        "colab": {
          "base_uri": "https://localhost:8080/"
        },
        "id": "kUKX8Z8EUbNk",
        "outputId": "d8cf8d06-09e9-47e2-aa6b-2c4965c55301"
      },
      "execution_count": null,
      "outputs": [
        {
          "output_type": "stream",
          "name": "stdout",
          "text": [
            "the addition is (2, 1, 6)\n",
            "<class 'tuple'>\n"
          ]
        }
      ]
    },
    {
      "cell_type": "code",
      "source": [
        "print(\"Hello World\",'At IIT',sep='_')"
      ],
      "metadata": {
        "colab": {
          "base_uri": "https://localhost:8080/"
        },
        "id": "JMT6AHhuUbKO",
        "outputId": "963a96b2-66aa-420b-85e9-020283b83d56"
      },
      "execution_count": null,
      "outputs": [
        {
          "output_type": "stream",
          "name": "stdout",
          "text": [
            "Hello World_At IIT\n"
          ]
        }
      ]
    },
    {
      "cell_type": "code",
      "source": [
        "def addition (*a):\n",
        "  sum=0\n",
        "  for i in a:\n",
        "    sum=sum+i\n",
        "    return sum\n",
        "\n"
      ],
      "metadata": {
        "id": "fN84lfogYBfy"
      },
      "execution_count": null,
      "outputs": []
    },
    {
      "cell_type": "code",
      "source": [
        "i=addition(2,3,4,5,6)\n",
        "print(i)"
      ],
      "metadata": {
        "colab": {
          "base_uri": "https://localhost:8080/"
        },
        "id": "puXET7l1Yzwn",
        "outputId": "2406264d-6796-4211-e24a-1f5a543f9c03"
      },
      "execution_count": null,
      "outputs": [
        {
          "output_type": "stream",
          "name": "stdout",
          "text": [
            "2\n"
          ]
        }
      ]
    },
    {
      "cell_type": "code",
      "source": [
        "def insert_data(**a):\n",
        "  print(a)"
      ],
      "metadata": {
        "id": "OaJWcDjdZ97U"
      },
      "execution_count": null,
      "outputs": []
    },
    {
      "cell_type": "code",
      "source": [
        "insert_data(name='himanshi',surname='kawade',place='nagpur',age=18)"
      ],
      "metadata": {
        "colab": {
          "base_uri": "https://localhost:8080/"
        },
        "id": "l8YssZf3aMC4",
        "outputId": "f1b7dcce-6250-4eb2-9439-6498ee4604cd"
      },
      "execution_count": null,
      "outputs": [
        {
          "output_type": "stream",
          "name": "stdout",
          "text": [
            "{'name': 'himanshi', 'surname': 'kawade', 'place': 'nagpur', 'age': 18}\n"
          ]
        }
      ]
    },
    {
      "cell_type": "code",
      "source": [
        "#oop"
      ],
      "metadata": {
        "id": "NBc1aih8bngD"
      },
      "execution_count": null,
      "outputs": []
    },
    {
      "cell_type": "code",
      "source": [
        "def print_menu():\n",
        "  print('select an option')\n",
        "  print('1      insert/add a guests')\n",
        "  print('2       remove a guests')\n",
        "  print('3      search a guests')\n",
        "\n",
        "  print_menu()\n",
        "  choice=input(\"enter your choice\")\n",
        "\n",
        "\n",
        "if choice=='1':\n",
        "   name=input('enter a name to add in list')\n",
        "   print(\"a guests will be added:\")\n",
        "\n",
        "\n",
        "elif choice=='2':\n",
        "    names=input('enter a name to delete:')\n",
        "    print('a guests will be deleted')\n",
        "\n",
        "\n",
        "else:\n",
        "  name-input('enter a name to search')\n",
        "  print('a guest is searched')\n",
        "\n",
        "\n",
        "\n"
      ],
      "metadata": {
        "colab": {
          "base_uri": "https://localhost:8080/",
          "height": 235
        },
        "id": "6UQm0DvCewoK",
        "outputId": "2fc1d40b-8f77-48f9-bde2-88ebf37a0e8a"
      },
      "execution_count": null,
      "outputs": [
        {
          "output_type": "error",
          "ename": "NameError",
          "evalue": "ignored",
          "traceback": [
            "\u001b[0;31m---------------------------------------------------------------------------\u001b[0m",
            "\u001b[0;31mNameError\u001b[0m                                 Traceback (most recent call last)",
            "\u001b[0;32m<ipython-input-78-a1143a05e78c>\u001b[0m in \u001b[0;36m<module>\u001b[0;34m\u001b[0m\n\u001b[1;32m      9\u001b[0m \u001b[0;34m\u001b[0m\u001b[0m\n\u001b[1;32m     10\u001b[0m \u001b[0;34m\u001b[0m\u001b[0m\n\u001b[0;32m---> 11\u001b[0;31m \u001b[0;32mif\u001b[0m \u001b[0mchoice\u001b[0m\u001b[0;34m==\u001b[0m\u001b[0;34m'1'\u001b[0m\u001b[0;34m:\u001b[0m\u001b[0;34m\u001b[0m\u001b[0;34m\u001b[0m\u001b[0m\n\u001b[0m\u001b[1;32m     12\u001b[0m    \u001b[0mname\u001b[0m\u001b[0;34m=\u001b[0m\u001b[0minput\u001b[0m\u001b[0;34m(\u001b[0m\u001b[0;34m'enter a name to add in list'\u001b[0m\u001b[0;34m)\u001b[0m\u001b[0;34m\u001b[0m\u001b[0;34m\u001b[0m\u001b[0m\n\u001b[1;32m     13\u001b[0m    \u001b[0mprint\u001b[0m\u001b[0;34m(\u001b[0m\u001b[0;34m\"a guests will be added:\"\u001b[0m\u001b[0;34m)\u001b[0m\u001b[0;34m\u001b[0m\u001b[0;34m\u001b[0m\u001b[0m\n",
            "\u001b[0;31mNameError\u001b[0m: name 'choice' is not defined"
          ]
        }
      ]
    },
    {
      "cell_type": "code",
      "source": [
        "guests=['himanshi','divyani','tanishka','pravjya','sumit','tejas','vaishnavi']\n"
      ],
      "metadata": {
        "id": "n7hNnAepbqnz"
      },
      "execution_count": null,
      "outputs": []
    },
    {
      "cell_type": "code",
      "source": [
        "def insert(*a):\n",
        "  insert('mehvish','shally','maheshwari')"
      ],
      "metadata": {
        "id": "b80ho5J_cVPS"
      },
      "execution_count": null,
      "outputs": []
    },
    {
      "cell_type": "code",
      "source": [
        "def remove(*a):\n",
        "  remove('mehvish')"
      ],
      "metadata": {
        "id": "AgA6tQ59cXKA"
      },
      "execution_count": null,
      "outputs": []
    },
    {
      "cell_type": "code",
      "source": [
        "def search(*a):\n",
        "  search('himanshi')\n",
        ""
      ],
      "metadata": {
        "id": "LGippzaAcYx9"
      },
      "execution_count": null,
      "outputs": []
    },
    {
      "cell_type": "code",
      "source": [
        "guests.append('mehvish')\n",
        "guests.remove('mehvish')\n",
        "print(guests)\n"
      ],
      "metadata": {
        "colab": {
          "base_uri": "https://localhost:8080/"
        },
        "id": "2qeLOBUldzQn",
        "outputId": "0bd3d875-83ba-4778-e5b8-9ce9fad8236f"
      },
      "execution_count": null,
      "outputs": [
        {
          "output_type": "stream",
          "name": "stdout",
          "text": [
            "['himanshi', 'divyani', 'tanishka', 'pravjya', 'sumit', 'tejas', 'vaishnavi']\n"
          ]
        }
      ]
    },
    {
      "cell_type": "code",
      "source": [
        "print (guests)"
      ],
      "metadata": {
        "colab": {
          "base_uri": "https://localhost:8080/"
        },
        "id": "fL3PcciadAN-",
        "outputId": "55e7f245-9460-4bd2-c187-d7f14eeb23b7"
      },
      "execution_count": null,
      "outputs": [
        {
          "output_type": "stream",
          "name": "stdout",
          "text": [
            "['himanshi', 'divyani', 'tanishka', 'pravjya', 'sumit', 'tejas', 'vaishnavi']\n"
          ]
        }
      ]
    },
    {
      "cell_type": "code",
      "source": [
        " himanshi\n",
        " divuyani\n",
        " pravjya\n",
        " tanishka\n",
        " sumit\n",
        " tejas\n",
        " vaishnavi\n",
        "\n",
        "with open('name.txt')as f:\n",
        "  x=f.read()\n",
        "  print(x)\n",
        "with open('name.txt',w)as f:\n",
        "  x=f.write()\n",
        "  print(x)\n",
        "with open ('name.txt',a)as f:\n",
        "  x=f.append()\n",
        "  print(x)"
      ],
      "metadata": {
        "id": "3n5pAOMAc9e-"
      },
      "execution_count": null,
      "outputs": []
    },
    {
      "cell_type": "code",
      "source": [
        "with open('name.txt')as f:\n",
        "  x=f.read()\n",
        "  print(x)"
      ],
      "metadata": {
        "id": "tYWT0-M1mAXr"
      },
      "execution_count": null,
      "outputs": []
    },
    {
      "cell_type": "code",
      "source": [
        "with open('name.txt',w)as f:\n",
        "  x=f.write()\n",
        "  print(x)"
      ],
      "metadata": {
        "id": "CyQ8jeAVmC-A"
      },
      "execution_count": null,
      "outputs": []
    },
    {
      "cell_type": "code",
      "source": [
        "with open ('name.txt',a)as f:\n",
        "  x=f.append()\n",
        "  print(x)"
      ],
      "metadata": {
        "id": "kH_KKbC4mFPo"
      },
      "execution_count": null,
      "outputs": []
    },
    {
      "cell_type": "code",
      "source": [],
      "metadata": {
        "id": "eW-fgerbTXqs"
      },
      "execution_count": null,
      "outputs": []
    },
    {
      "cell_type": "code",
      "source": [],
      "metadata": {
        "id": "bK-l5WK8heAv"
      },
      "execution_count": null,
      "outputs": []
    }
  ]
}