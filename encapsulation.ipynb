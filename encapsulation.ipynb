{
 "cells": [
  {
   "cell_type": "code",
   "execution_count": 1,
   "id": "95c0a16c-8519-4433-92ab-c7c1d622613f",
   "metadata": {},
   "outputs": [],
   "source": [
    "class test:\n",
    "    def __init__(self,name,roll,phone):\n",
    "        self.name=name\n",
    "        self.roll=roll\n",
    "        self.phone=phone\n",
    "        \n",
    "        "
   ]
  },
  {
   "cell_type": "code",
   "execution_count": 2,
   "id": "5ef31ad5-43c3-4f87-9423-0741c9a6d2ae",
   "metadata": {},
   "outputs": [],
   "source": [
    "t=test(\"hk\",45,987456321)"
   ]
  },
  {
   "cell_type": "code",
   "execution_count": 3,
   "id": "fc9b2187-b286-4103-8dbd-e792b2a6bc0a",
   "metadata": {},
   "outputs": [
    {
     "data": {
      "text/plain": [
       "'hk'"
      ]
     },
     "execution_count": 3,
     "metadata": {},
     "output_type": "execute_result"
    }
   ],
   "source": [
    "t.name"
   ]
  },
  {
   "cell_type": "code",
   "execution_count": 4,
   "id": "76339c04-fd3a-45cc-8bf6-308bd4e90626",
   "metadata": {},
   "outputs": [
    {
     "data": {
      "text/plain": [
       "45"
      ]
     },
     "execution_count": 4,
     "metadata": {},
     "output_type": "execute_result"
    }
   ],
   "source": [
    "t.roll"
   ]
  },
  {
   "cell_type": "code",
   "execution_count": 5,
   "id": "e6f28c0b-24c3-4279-bfa7-140542ddb71e",
   "metadata": {},
   "outputs": [
    {
     "data": {
      "text/plain": [
       "987456321"
      ]
     },
     "execution_count": 5,
     "metadata": {},
     "output_type": "execute_result"
    }
   ],
   "source": [
    "t.phone"
   ]
  },
  {
   "cell_type": "code",
   "execution_count": 6,
   "id": "124e3979-b54d-4773-841b-6af6347ecec1",
   "metadata": {},
   "outputs": [],
   "source": [
    "t.name=\"himanshi\""
   ]
  },
  {
   "cell_type": "code",
   "execution_count": 7,
   "id": "427a3cdf-89cf-4773-b7bd-d40e1c356e16",
   "metadata": {},
   "outputs": [
    {
     "data": {
      "text/plain": [
       "'himanshi'"
      ]
     },
     "execution_count": 7,
     "metadata": {},
     "output_type": "execute_result"
    }
   ],
   "source": [
    "t.name"
   ]
  },
  {
   "cell_type": "code",
   "execution_count": 28,
   "id": "17bf55df-8ea4-4bdc-bf46-917b857c1457",
   "metadata": {},
   "outputs": [],
   "source": [
    "class car:\n",
    "    \n",
    "    def __init__(self,year,make,model,speed):\n",
    "        self.__year=year\n",
    "        self.__make=make\n",
    "        self.__model=model\n",
    "        self.__speed=0\n",
    "        \n",
    "    def set_speed(self,speed):\n",
    "        self.__speed=0 if speed<0 else speed\n",
    "        \n",
    "        \n",
    "    def get_speed(self):\n",
    "        return self.__speed"
   ]
  },
  {
   "cell_type": "code",
   "execution_count": 29,
   "id": "45b97d25-97bf-427e-8418-563d27a2c98f",
   "metadata": {},
   "outputs": [],
   "source": [
    "obj=car(2021,\"toyota\",\"innova\",120)"
   ]
  },
  {
   "cell_type": "code",
   "execution_count": 30,
   "id": "79e80fa6-19fe-4a45-9860-34795d64d54a",
   "metadata": {},
   "outputs": [],
   "source": [
    "obj._car__year=2023"
   ]
  },
  {
   "cell_type": "code",
   "execution_count": 31,
   "id": "d6167bad-b4bc-46a7-abae-b4735aa94954",
   "metadata": {},
   "outputs": [
    {
     "data": {
      "text/plain": [
       "2023"
      ]
     },
     "execution_count": 31,
     "metadata": {},
     "output_type": "execute_result"
    }
   ],
   "source": [
    "obj._car__year"
   ]
  },
  {
   "cell_type": "code",
   "execution_count": 32,
   "id": "4de7d9dc-4a10-4748-8ec1-014470722b56",
   "metadata": {},
   "outputs": [],
   "source": [
    "obj.set_speed(1568)"
   ]
  },
  {
   "cell_type": "code",
   "execution_count": 27,
   "id": "fbc45ad4-e494-42b4-8a55-694dcb4b207f",
   "metadata": {},
   "outputs": [
    {
     "data": {
      "text/plain": [
       "1568"
      ]
     },
     "execution_count": 27,
     "metadata": {},
     "output_type": "execute_result"
    }
   ],
   "source": [
    "obj._car__speed"
   ]
  },
  {
   "cell_type": "code",
   "execution_count": 33,
   "id": "92034cc7-b9fb-4506-ae63-a50af27be329",
   "metadata": {},
   "outputs": [
    {
     "data": {
      "text/plain": [
       "1568"
      ]
     },
     "execution_count": 33,
     "metadata": {},
     "output_type": "execute_result"
    }
   ],
   "source": [
    "obj.get_speed()"
   ]
  },
  {
   "cell_type": "code",
   "execution_count": 41,
   "id": "e887cd46-0d97-472d-b557-c13904881f76",
   "metadata": {},
   "outputs": [],
   "source": [
    "class bankac:\n",
    "    def __init__(self,balance):\n",
    "        self.__balance=balance     \n",
    "    def deposit(self,amount):\n",
    "        self.__balance=self.__balance+amount\n",
    "        \n",
    "    def withdraw(self,amount):\n",
    "        if self.__balance>=amount:\n",
    "            self.__balance=self.__balance-amount  \n",
    "            return True\n",
    "        else:\n",
    "            return False\n",
    "    def get_balance(self):\n",
    "        return self.__balance\n",
    "    \n",
    "        \n",
    "      "
   ]
  },
  {
   "cell_type": "code",
   "execution_count": 42,
   "id": "72160506-9803-471c-9344-52518f40849e",
   "metadata": {},
   "outputs": [],
   "source": [
    "obj_bank=bankac(5000)"
   ]
  },
  {
   "cell_type": "code",
   "execution_count": 43,
   "id": "a40fa8f9-d7bf-4cdb-ba81-c35030cf9102",
   "metadata": {},
   "outputs": [],
   "source": [
    "obj_bank.deposit(6000)"
   ]
  },
  {
   "cell_type": "code",
   "execution_count": 44,
   "id": "e62ccb8a-7820-4bb4-bb4d-b7bbfbbfdfe7",
   "metadata": {},
   "outputs": [
    {
     "data": {
      "text/plain": [
       "True"
      ]
     },
     "execution_count": 44,
     "metadata": {},
     "output_type": "execute_result"
    }
   ],
   "source": [
    "obj_bank.withdraw(500)"
   ]
  },
  {
   "cell_type": "code",
   "execution_count": 45,
   "id": "a03931b5-5685-4ab5-bf72-181a4113aea6",
   "metadata": {},
   "outputs": [
    {
     "data": {
      "text/plain": [
       "10500"
      ]
     },
     "execution_count": 45,
     "metadata": {},
     "output_type": "execute_result"
    }
   ],
   "source": [
    "obj_bank.get_balance()"
   ]
  },
  {
   "cell_type": "code",
   "execution_count": null,
   "id": "92eac04c-41ea-4628-abc7-19d020333cd9",
   "metadata": {},
   "outputs": [],
   "source": []
  }
 ],
 "metadata": {
  "kernelspec": {
   "display_name": "Python 3 (ipykernel)",
   "language": "python",
   "name": "python3"
  },
  "language_info": {
   "codemirror_mode": {
    "name": "ipython",
    "version": 3
   },
   "file_extension": ".py",
   "mimetype": "text/x-python",
   "name": "python",
   "nbconvert_exporter": "python",
   "pygments_lexer": "ipython3",
   "version": "3.10.8"
  }
 },
 "nbformat": 4,
 "nbformat_minor": 5
}
