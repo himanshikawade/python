{
 "cells": [
  {
   "cell_type": "code",
   "execution_count": 1,
   "id": "b2462b6a-e7ac-46f8-9ba2-b035ac70f9fb",
   "metadata": {},
   "outputs": [
    {
     "name": "stdout",
     "output_type": "stream",
     "text": [
      "this is my print statement\n"
     ]
    }
   ],
   "source": [
    "print(\"this is my print statement\")"
   ]
  },
  {
   "cell_type": "code",
   "execution_count": null,
   "id": "783f2f88-baa3-4d65-b9a0-6a93b6dc2c60",
   "metadata": {},
   "outputs": [],
   "source": [
    "import logging"
   ]
  },
  {
   "cell_type": "code",
   "execution_count": 3,
   "id": "de7b2d53-7be3-4c5a-b473-a28e7b55c0de",
   "metadata": {},
   "outputs": [],
   "source": [
    "logging.basicConfig(filename=\"test6.lpg\",level=logging.INFO)"
   ]
  },
  {
   "cell_type": "code",
   "execution_count": 15,
   "id": "11a5d2c2-e724-4dd5-a0cf-934ae69152e1",
   "metadata": {},
   "outputs": [],
   "source": [
    "logging.info(\"THIS IS MY LOG FILE\")"
   ]
  },
  {
   "cell_type": "code",
   "execution_count": 16,
   "id": "8475e743-d36c-4f1b-9771-4200a38e8eb2",
   "metadata": {},
   "outputs": [],
   "source": [
    "logging.critical(\"THIS IS MY CRITICAL\")"
   ]
  },
  {
   "cell_type": "code",
   "execution_count": 17,
   "id": "cbdb2bf1-7691-48a6-9cdb-e8a381b69ff4",
   "metadata": {},
   "outputs": [],
   "source": [
    "logging.error(\"THIS IS MY LOG ERROR\")"
   ]
  },
  {
   "cell_type": "code",
   "execution_count": 18,
   "id": "e0d8ad1a-d5fa-48f1-ad9c-f1b42c5128d1",
   "metadata": {},
   "outputs": [],
   "source": [
    "logging.warning(\"THIS  IS MY WARNING\")"
   ]
  },
  {
   "cell_type": "code",
   "execution_count": 19,
   "id": "db38267e-0b25-45e9-a533-73d521b2ff89",
   "metadata": {},
   "outputs": [],
   "source": [
    "logging.debug(\" THIS IS MY INFO RELATED TO DEBUG\")"
   ]
  },
  {
   "cell_type": "code",
   "execution_count": 20,
   "id": "d526fde3-be93-46af-878f-61195afeba64",
   "metadata": {},
   "outputs": [],
   "source": [
    "logging.shutdown()"
   ]
  },
  {
   "cell_type": "code",
   "execution_count": 3,
   "id": "0137816d-f01c-4047-af5e-3e8790a0c371",
   "metadata": {},
   "outputs": [],
   "source": [
    "logging.basicConfig(filename=\"test7.log\",level=logging.DEBUG,format='%(asctime)s %(message)s')"
   ]
  },
  {
   "cell_type": "code",
   "execution_count": 4,
   "id": "04f5a8b6-1a18-436b-aca3-b8c1026d6064",
   "metadata": {},
   "outputs": [],
   "source": [
    "logging.info(\"THIS IS MY LOG FILE\")"
   ]
  },
  {
   "cell_type": "code",
   "execution_count": 5,
   "id": "db4ce65f-d7e1-4061-a7f7-78e18d8c5e50",
   "metadata": {},
   "outputs": [],
   "source": [
    "logging.warning(\"THIS  IS MY WARNING\")"
   ]
  },
  {
   "cell_type": "code",
   "execution_count": 6,
   "id": "9d2cc552-372e-449e-9362-5d951cac95ea",
   "metadata": {},
   "outputs": [],
   "source": [
    "logging.error(\"THIS IS MY LOG ERROR\")"
   ]
  },
  {
   "cell_type": "code",
   "execution_count": 7,
   "id": "dfec70b8-8a97-4e6f-b1ee-1f59083ae8d5",
   "metadata": {},
   "outputs": [],
   "source": [
    "logging.critical(\"THIS IS MY CRITICAL\")"
   ]
  },
  {
   "cell_type": "code",
   "execution_count": 8,
   "id": "38d506b2-1ebb-44be-88eb-b8be42b5e3a9",
   "metadata": {},
   "outputs": [],
   "source": [
    "logging.debug(\" THIS IS MY INFO RELATED TO DEBUG\")"
   ]
  },
  {
   "cell_type": "code",
   "execution_count": 9,
   "id": "4da0c607-16a8-438d-9dab-48c208b3c010",
   "metadata": {},
   "outputs": [],
   "source": [
    "logging.shutdown()"
   ]
  },
  {
   "cell_type": "code",
   "execution_count": null,
   "id": "762cc07a-9f47-4f40-b15c-c766101fddc0",
   "metadata": {},
   "outputs": [],
   "source": [
    "logging.basicConfig(filename=\"test9.log\",level=logging.DEBUG,format='%(asctime)s %(name)s %(message)s')"
   ]
  },
  {
   "cell_type": "code",
   "execution_count": null,
   "id": "875046aa-566f-4d13-8d7d-91827a944073",
   "metadata": {},
   "outputs": [],
   "source": [
    "logging.info(\"THIS IS MY LOG FILE\")"
   ]
  },
  {
   "cell_type": "code",
   "execution_count": null,
   "id": "fc02f6df-54c0-4cde-9ab6-ed89e6d1f887",
   "metadata": {},
   "outputs": [],
   "source": [
    "logging.warning(\"THIS  IS MY WARNING\")"
   ]
  },
  {
   "cell_type": "code",
   "execution_count": null,
   "id": "a7bbc7d7-b1c2-4d40-b2fa-830c69bed5be",
   "metadata": {},
   "outputs": [],
   "source": [
    "logging.error(\"THIS IS MY LOG ERROR\")"
   ]
  },
  {
   "cell_type": "code",
   "execution_count": null,
   "id": "83294df5-002d-4a2f-9076-e2f261703956",
   "metadata": {},
   "outputs": [],
   "source": [
    "logging.critical(\"THIS IS MY CRITICAL\")"
   ]
  },
  {
   "cell_type": "code",
   "execution_count": null,
   "id": "33788e31-6134-4f4c-bc90-cad7bc4b5477",
   "metadata": {},
   "outputs": [],
   "source": []
  },
  {
   "cell_type": "code",
   "execution_count": null,
   "id": "7a91346e-4da5-4b7b-8e8e-7bb49f4d7bc0",
   "metadata": {},
   "outputs": [],
   "source": [
    "l=[1,2,3,4,5,[6,7,8,9,10],\"Himanshi\",\"kawade\"]"
   ]
  },
  {
   "cell_type": "code",
   "execution_count": null,
   "id": "b8df22fc-e1d4-401f-9016-78e0454923f8",
   "metadata": {},
   "outputs": [],
   "source": [
    "l1_int=[]\n",
    "l2_str=[]\n",
    "\n",
    "for i in l:\n",
    "    logging.info(\"this is the start of my first for loop{}\".format(1))\n",
    "    logging.info(\"this is my value of i am logging {}\".format(i))\n",
    "    if type(i)==list:\n",
    "        for j in i:\n",
    "            logging.info(\"this is my value of j {} and i {}\".format(i=i,j=j)\n",
    "            if type(j)==int:\n",
    "                l1_int.append(j)\n",
    "    elif type(i)==int:\n",
    "        l1_int.append(i)\n",
    "        \n",
    "    else:\n",
    "        if type(i)==str:\n",
    "            l2_str.append(i)\n",
    "logging.info(\"this is my final result with all int {l1},with all string{l2}\".format(l1=l1_int,l2=l2_str))"
   ]
  },
  {
   "cell_type": "code",
   "execution_count": null,
   "id": "731cb58a-6625-4926-a348-dc1e9e328046",
   "metadata": {},
   "outputs": [],
   "source": [
    "l1_int"
   ]
  },
  {
   "cell_type": "code",
   "execution_count": null,
   "id": "2be14c6b-4a43-4598-8942-144f3e363934",
   "metadata": {},
   "outputs": [],
   "source": [
    "l2_str"
   ]
  },
  {
   "cell_type": "code",
   "execution_count": null,
   "id": "c5ac8064-f9bd-47da-a97a-f9269928170d",
   "metadata": {},
   "outputs": [],
   "source": []
  }
 ],
 "metadata": {
  "kernelspec": {
   "display_name": "Python 3 (ipykernel)",
   "language": "python",
   "name": "python3"
  },
  "language_info": {
   "codemirror_mode": {
    "name": "ipython",
    "version": 3
   },
   "file_extension": ".py",
   "mimetype": "text/x-python",
   "name": "python",
   "nbconvert_exporter": "python",
   "pygments_lexer": "ipython3",
   "version": "3.10.8"
  }
 },
 "nbformat": 4,
 "nbformat_minor": 5
}
