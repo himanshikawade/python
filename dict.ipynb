{
 "cells": [
  {
   "cell_type": "code",
   "execution_count": 1,
   "id": "c2797697-7899-4269-86cc-c299562ff5a5",
   "metadata": {},
   "outputs": [],
   "source": [
    "d={}"
   ]
  },
  {
   "cell_type": "code",
   "execution_count": 2,
   "id": "6969b46b-d108-4b08-a73d-c7685bb1b626",
   "metadata": {},
   "outputs": [
    {
     "data": {
      "text/plain": [
       "dict"
      ]
     },
     "execution_count": 2,
     "metadata": {},
     "output_type": "execute_result"
    }
   ],
   "source": [
    "type(d)"
   ]
  },
  {
   "cell_type": "code",
   "execution_count": 3,
   "id": "fc3d0a77-f58a-4673-be8d-758e4f344cc9",
   "metadata": {},
   "outputs": [
    {
     "data": {
      "text/plain": [
       "{'name': 'himanshi', 'email': 'hk@gmail.com', 'no': 98745632}"
      ]
     },
     "execution_count": 3,
     "metadata": {},
     "output_type": "execute_result"
    }
   ],
   "source": [
    "d1={\"name\":\"himanshi\",\"email\":\"hk@gmail.com\",\"no\":98745632}\n",
    "d1"
   ]
  },
  {
   "cell_type": "code",
   "execution_count": 4,
   "id": "adcb2d54-52ca-4705-9a98-db782f33c2dc",
   "metadata": {},
   "outputs": [
    {
     "data": {
      "text/plain": [
       "{'name': 'himanshi'}"
      ]
     },
     "execution_count": 4,
     "metadata": {},
     "output_type": "execute_result"
    }
   ],
   "source": [
    "d2={\"name\":\"himu\",\"name\":\"himanshi\"}\n",
    "d2"
   ]
  },
  {
   "cell_type": "code",
   "execution_count": 9,
   "id": "ee0104a4-ca81-4a36-987c-7ef4c914be2d",
   "metadata": {},
   "outputs": [
    {
     "data": {
      "text/plain": [
       "{12365: 'abc'}"
      ]
     },
     "execution_count": 9,
     "metadata": {},
     "output_type": "execute_result"
    }
   ],
   "source": [
    "d3={12365:\"abc\"}\n",
    "d3"
   ]
  },
  {
   "cell_type": "code",
   "execution_count": 10,
   "id": "412fa79b-31ae-4f0c-86d4-fd258e1d32db",
   "metadata": {},
   "outputs": [],
   "source": [
    "d4={True:'hk'}"
   ]
  },
  {
   "cell_type": "code",
   "execution_count": 11,
   "id": "29ae2cad-bbda-435d-82b5-3eabee4f6881",
   "metadata": {},
   "outputs": [
    {
     "data": {
      "text/plain": [
       "{True: 'hk'}"
      ]
     },
     "execution_count": 11,
     "metadata": {},
     "output_type": "execute_result"
    }
   ],
   "source": [
    "d4"
   ]
  },
  {
   "cell_type": "code",
   "execution_count": 12,
   "id": "72962201-c6c8-4b5a-9c47-e8279a86e426",
   "metadata": {},
   "outputs": [
    {
     "data": {
      "text/plain": [
       "{True: 8965}"
      ]
     },
     "execution_count": 12,
     "metadata": {},
     "output_type": "execute_result"
    }
   ],
   "source": [
    "d5={True:8965}\n",
    "d5"
   ]
  },
  {
   "cell_type": "code",
   "execution_count": 13,
   "id": "4df7bc00-7f4a-45dd-8e2f-00b1e3c6bfb9",
   "metadata": {},
   "outputs": [
    {
     "data": {
      "text/plain": [
       "{(1, 2, 3, 4, 5): 456}"
      ]
     },
     "execution_count": 13,
     "metadata": {},
     "output_type": "execute_result"
    }
   ],
   "source": [
    "d6={(1,2,3,4,5,):456}\n",
    "d6"
   ]
  },
  {
   "cell_type": "code",
   "execution_count": 14,
   "id": "ac000728-b4d7-4bea-a81d-3bde83d9880b",
   "metadata": {},
   "outputs": [
    {
     "data": {
      "text/plain": [
       "{'Coursename': ['data science', 'web dev', 'java']}"
      ]
     },
     "execution_count": 14,
     "metadata": {},
     "output_type": "execute_result"
    }
   ],
   "source": [
    "d7={\"Coursename\":[\"data science\",\"web dev\",\"java\"]}\n",
    "d7"
   ]
  },
  {
   "cell_type": "code",
   "execution_count": 15,
   "id": "ec7f3286-4d84-490c-bfa6-d905fe7e3b68",
   "metadata": {},
   "outputs": [
    {
     "data": {
      "text/plain": [
       "{'key': {1, 2, 3, 4, 5}}"
      ]
     },
     "execution_count": 15,
     "metadata": {},
     "output_type": "execute_result"
    }
   ],
   "source": [
    "d8={\"key\":{1,2,3,4,5}}\n",
    "d8"
   ]
  },
  {
   "cell_type": "code",
   "execution_count": 16,
   "id": "45837696-c2d5-4294-a453-3e4009ec5079",
   "metadata": {},
   "outputs": [
    {
     "data": {
      "text/plain": [
       "{'key': (1, 2, 3, 3)}"
      ]
     },
     "execution_count": 16,
     "metadata": {},
     "output_type": "execute_result"
    }
   ],
   "source": [
    "d9={\"key\":(1,2,3,3)}\n",
    "d9"
   ]
  },
  {
   "cell_type": "code",
   "execution_count": 17,
   "id": "628f45dc-02e2-4ef5-a64d-d1e5dcdd82f3",
   "metadata": {},
   "outputs": [
    {
     "data": {
      "text/plain": [
       "{'key': {'name': 'himanshi', 'class': 'third'}}"
      ]
     },
     "execution_count": 17,
     "metadata": {},
     "output_type": "execute_result"
    }
   ],
   "source": [
    "d10={\"key\":{\"name\":\"himanshi\",\"class\":'third'}}\n",
    "d10"
   ]
  },
  {
   "cell_type": "code",
   "execution_count": 3,
   "id": "1b02d622-53ed-407b-baf0-7321c126b930",
   "metadata": {},
   "outputs": [
    {
     "data": {
      "text/plain": [
       "{'batchname': ['data science', 'web dev', 'java', 'salseforce'],\n",
       " 'date': (15, 26, 25, 78, 96),\n",
       " 'mentor': {'anurag', 'krish', 'navin', 'sudanshu'}}"
      ]
     },
     "execution_count": 3,
     "metadata": {},
     "output_type": "execute_result"
    }
   ],
   "source": [
    "d11={\"batchname\":['data science','web dev','java','salseforce'],\"date\":(15,26,25,78,96),\"mentor\":{'anurag','sudanshu','krish','navin'}}\n",
    "d11"
   ]
  },
  {
   "cell_type": "code",
   "execution_count": 4,
   "id": "64c441bf-6ae0-4078-8ee2-71b2a7d2d791",
   "metadata": {},
   "outputs": [
    {
     "data": {
      "text/plain": [
       "{'batchname': ['data science', 'web dev', 'java', 'salseforce'],\n",
       " 'date': (15, 26, 25, 78, 96),\n",
       " 'mentor': {'anurag', 'krish', 'navin', 'sudanshu'},\n",
       " 'timing': (8, 9, 10, 11)}"
      ]
     },
     "execution_count": 4,
     "metadata": {},
     "output_type": "execute_result"
    }
   ],
   "source": [
    "d11['timing']=(8,9,10,11)\n",
    "d11"
   ]
  },
  {
   "cell_type": "code",
   "execution_count": 23,
   "id": "1c9c2c50-bcf3-4e3f-a475-d15611438fef",
   "metadata": {},
   "outputs": [
    {
     "data": {
      "text/plain": [
       "['data science', 'web dev', 'java', 'salseforce']"
      ]
     },
     "execution_count": 23,
     "metadata": {},
     "output_type": "execute_result"
    }
   ],
   "source": [
    "d11['batchname']"
   ]
  },
  {
   "cell_type": "code",
   "execution_count": 24,
   "id": "bc63f7eb-0c0e-4169-abed-092eb6870b8a",
   "metadata": {},
   "outputs": [
    {
     "data": {
      "text/plain": [
       "{'anurag', 'krish', 'navin', 'sudanshu'}"
      ]
     },
     "execution_count": 24,
     "metadata": {},
     "output_type": "execute_result"
    }
   ],
   "source": [
    "d11['mentor']"
   ]
  },
  {
   "cell_type": "code",
   "execution_count": 25,
   "id": "118ae140-2726-4cc5-8dd9-28482fb37f32",
   "metadata": {},
   "outputs": [
    {
     "data": {
      "text/plain": [
       "{'batchname': ['data science', 'web dev', 'java', 'salseforce'],\n",
       " 'date': (15, 26, 25, 78, 96),\n",
       " 'mentor': {'anurag', 'krish', 'navin', 'sudanshu'},\n",
       " 'timing': (8, 9, 10, 11),\n",
       " 'name': 'himanshi'}"
      ]
     },
     "execution_count": 25,
     "metadata": {},
     "output_type": "execute_result"
    }
   ],
   "source": [
    "d11['name']='himanshi'\n",
    "d11"
   ]
  },
  {
   "cell_type": "code",
   "execution_count": 29,
   "id": "777af5f8-dc8a-4a1a-bf47-37b5d28b511e",
   "metadata": {},
   "outputs": [
    {
     "data": {
      "text/plain": [
       "'HIMANSHI'"
      ]
     },
     "execution_count": 29,
     "metadata": {},
     "output_type": "execute_result"
    }
   ],
   "source": [
    "d11['name'].upper()"
   ]
  },
  {
   "cell_type": "code",
   "execution_count": 30,
   "id": "37100463-ddce-43bf-81e9-259ae5839a2a",
   "metadata": {},
   "outputs": [
    {
     "data": {
      "text/plain": [
       "{'key': {'name': 'himanshi', 'class': 'third'}}"
      ]
     },
     "execution_count": 30,
     "metadata": {},
     "output_type": "execute_result"
    }
   ],
   "source": [
    "d10"
   ]
  },
  {
   "cell_type": "code",
   "execution_count": 31,
   "id": "f802d904-0d7b-4c51-9479-cfac91ac005f",
   "metadata": {},
   "outputs": [
    {
     "data": {
      "text/plain": [
       "{'name': 'himanshi', 'class': 'third'}"
      ]
     },
     "execution_count": 31,
     "metadata": {},
     "output_type": "execute_result"
    }
   ],
   "source": [
    "d10['key']"
   ]
  },
  {
   "cell_type": "code",
   "execution_count": 32,
   "id": "80864914-34dd-4680-bc46-fd54afdbafd1",
   "metadata": {},
   "outputs": [
    {
     "data": {
      "text/plain": [
       "'third'"
      ]
     },
     "execution_count": 32,
     "metadata": {},
     "output_type": "execute_result"
    }
   ],
   "source": [
    "d10['key']['class']"
   ]
  },
  {
   "cell_type": "code",
   "execution_count": null,
   "id": "96c0e673-9bc4-47e4-9761-66a39eb78bb2",
   "metadata": {},
   "outputs": [],
   "source": [
    "del d10['name']\n",
    "d10"
   ]
  },
  {
   "cell_type": "code",
   "execution_count": 5,
   "id": "8ee90ad7-0c54-49e8-aad8-910cc08d30b3",
   "metadata": {},
   "outputs": [
    {
     "data": {
      "text/plain": [
       "dict_keys(['batchname', 'date', 'mentor', 'timing'])"
      ]
     },
     "execution_count": 5,
     "metadata": {},
     "output_type": "execute_result"
    }
   ],
   "source": [
    "d11.keys()"
   ]
  },
  {
   "cell_type": "code",
   "execution_count": 6,
   "id": "aa2eae01-eaf3-4b36-8c5c-9cfd651ff969",
   "metadata": {},
   "outputs": [
    {
     "data": {
      "text/plain": [
       "dict_values([['data science', 'web dev', 'java', 'salseforce'], (15, 26, 25, 78, 96), {'krish', 'anurag', 'navin', 'sudanshu'}, (8, 9, 10, 11)])"
      ]
     },
     "execution_count": 6,
     "metadata": {},
     "output_type": "execute_result"
    }
   ],
   "source": [
    "d11.values()"
   ]
  },
  {
   "cell_type": "code",
   "execution_count": 7,
   "id": "9330121e-e066-4383-bd07-3f137e06a492",
   "metadata": {},
   "outputs": [
    {
     "data": {
      "text/plain": [
       "['batchname', 'date', 'mentor', 'timing']"
      ]
     },
     "execution_count": 7,
     "metadata": {},
     "output_type": "execute_result"
    }
   ],
   "source": [
    "list(d11.keys())"
   ]
  },
  {
   "cell_type": "code",
   "execution_count": 8,
   "id": "6f349042-0420-46c8-8d3f-6179ee7c5033",
   "metadata": {},
   "outputs": [
    {
     "data": {
      "text/plain": [
       "[['data science', 'web dev', 'java', 'salseforce'],\n",
       " (15, 26, 25, 78, 96),\n",
       " {'anurag', 'krish', 'navin', 'sudanshu'},\n",
       " (8, 9, 10, 11)]"
      ]
     },
     "execution_count": 8,
     "metadata": {},
     "output_type": "execute_result"
    }
   ],
   "source": [
    "list(d11.values())"
   ]
  },
  {
   "cell_type": "code",
   "execution_count": 9,
   "id": "5b24c9ea-0c31-419d-8f94-26a09f6c0953",
   "metadata": {},
   "outputs": [
    {
     "data": {
      "text/plain": [
       "[('batchname', ['data science', 'web dev', 'java', 'salseforce']),\n",
       " ('date', (15, 26, 25, 78, 96)),\n",
       " ('mentor', {'anurag', 'krish', 'navin', 'sudanshu'}),\n",
       " ('timing', (8, 9, 10, 11))]"
      ]
     },
     "execution_count": 9,
     "metadata": {},
     "output_type": "execute_result"
    }
   ],
   "source": [
    "list(d11.items())"
   ]
  },
  {
   "cell_type": "code",
   "execution_count": 10,
   "id": "397c4c4a-580b-4ee5-b639-f0298a71faa0",
   "metadata": {},
   "outputs": [],
   "source": [
    "d12=d11.copy()"
   ]
  },
  {
   "cell_type": "code",
   "execution_count": 11,
   "id": "b6efc205-2c97-4a3c-91d4-7a0df5ef4c22",
   "metadata": {},
   "outputs": [
    {
     "data": {
      "text/plain": [
       "{'batchname': ['data science', 'web dev', 'java', 'salseforce'],\n",
       " 'date': (15, 26, 25, 78, 96),\n",
       " 'mentor': {'anurag', 'krish', 'navin', 'sudanshu'},\n",
       " 'timing': (8, 9, 10, 11)}"
      ]
     },
     "execution_count": 11,
     "metadata": {},
     "output_type": "execute_result"
    }
   ],
   "source": [
    "d12"
   ]
  },
  {
   "cell_type": "code",
   "execution_count": 12,
   "id": "5f60e837-9b1c-4246-ac52-f84c07965940",
   "metadata": {},
   "outputs": [
    {
     "data": {
      "text/plain": [
       "{'batchname': ['data science', 'web dev', 'java', 'salseforce'],\n",
       " 'date': (15, 26, 25, 78, 96),\n",
       " 'mentor': {'anurag', 'krish', 'navin', 'sudanshu'}}"
      ]
     },
     "execution_count": 12,
     "metadata": {},
     "output_type": "execute_result"
    }
   ],
   "source": [
    "d12.pop('timing')\n",
    "d12"
   ]
  },
  {
   "cell_type": "code",
   "execution_count": 14,
   "id": "6864be1b-1b33-4022-8d59-8e3d4dc0c720",
   "metadata": {},
   "outputs": [
    {
     "data": {
      "text/plain": [
       "{'a': (1, 2, 3, 4), 'b': (1, 2, 3, 4), 'c': (1, 2, 3, 4), 'd': (1, 2, 3, 4)}"
      ]
     },
     "execution_count": 14,
     "metadata": {},
     "output_type": "execute_result"
    }
   ],
   "source": [
    "d12.fromkeys(('a','b','c','d'),(1,2,3,4))\n"
   ]
  },
  {
   "cell_type": "code",
   "execution_count": 15,
   "id": "6cd8fdf7-bdb9-43a2-b235-2be399a29a11",
   "metadata": {},
   "outputs": [],
   "source": [
    "d13={\"Coursename\":[\"data science\",\"web dev\",\"java\"]}\n",
    "d14={\"name\":\"himanshi\",\"email\":\"hk@gmail.com\",\"no\":98745632}"
   ]
  },
  {
   "cell_type": "code",
   "execution_count": 16,
   "id": "cfdd0c42-63a5-4995-997f-4a4fa37ec1a9",
   "metadata": {},
   "outputs": [
    {
     "data": {
      "text/plain": [
       "({'Coursename': ['data science', 'web dev', 'java']},\n",
       " {'name': 'himanshi', 'email': 'hk@gmail.com', 'no': 98745632})"
      ]
     },
     "execution_count": 16,
     "metadata": {},
     "output_type": "execute_result"
    }
   ],
   "source": [
    "(d13,d14)"
   ]
  },
  {
   "cell_type": "code",
   "execution_count": 17,
   "id": "4d1dfbc0-100c-4942-989d-950875837fd3",
   "metadata": {},
   "outputs": [],
   "source": [
    "d12.update(d14)"
   ]
  },
  {
   "cell_type": "code",
   "execution_count": 19,
   "id": "8e5ca360-eb88-4d8a-95d2-ae3089fcf5d9",
   "metadata": {},
   "outputs": [
    {
     "data": {
      "text/plain": [
       "{'batchname': ['data science', 'web dev', 'java', 'salseforce'],\n",
       " 'date': (15, 26, 25, 78, 96),\n",
       " 'mentor': {'anurag', 'krish', 'navin', 'sudanshu'},\n",
       " 'name': 'himanshi',\n",
       " 'email': 'hk@gmail.com',\n",
       " 'no': 98745632}"
      ]
     },
     "execution_count": 19,
     "metadata": {},
     "output_type": "execute_result"
    }
   ],
   "source": [
    "d12"
   ]
  },
  {
   "cell_type": "code",
   "execution_count": 21,
   "id": "d06be4e7-850b-4d79-8b98-869621e364fb",
   "metadata": {},
   "outputs": [
    {
     "data": {
      "text/plain": [
       "'himanshi'"
      ]
     },
     "execution_count": 21,
     "metadata": {},
     "output_type": "execute_result"
    }
   ],
   "source": [
    "d12.get('name')"
   ]
  },
  {
   "cell_type": "code",
   "execution_count": 22,
   "id": "e50a2d5e-8a43-458a-a2ee-e5eab66a3522",
   "metadata": {},
   "outputs": [
    {
     "data": {
      "text/plain": [
       "[1, 2, 3, 4, 5, 6, 7, 8, 9, 10]"
      ]
     },
     "execution_count": 22,
     "metadata": {},
     "output_type": "execute_result"
    }
   ],
   "source": [
    "list(range(1,11))"
   ]
  },
  {
   "cell_type": "code",
   "execution_count": 23,
   "id": "13b8fd6b-bc65-49e9-8ca9-45f6bb5f55af",
   "metadata": {},
   "outputs": [
    {
     "data": {
      "text/plain": [
       "{1: 1, 2: 4, 3: 9, 4: 16, 5: 25, 6: 36, 7: 49, 8: 64, 9: 81, 10: 100}"
      ]
     },
     "execution_count": 23,
     "metadata": {},
     "output_type": "execute_result"
    }
   ],
   "source": [
    "{i: i**2for i in range (1,11)}"
   ]
  },
  {
   "cell_type": "code",
   "execution_count": 24,
   "id": "e82ba576-6c4b-4c54-a4a5-074fd9836490",
   "metadata": {},
   "outputs": [
    {
     "data": {
      "text/plain": [
       "{1: 11, 2: 12, 3: 13, 4: 14, 5: 15, 6: 16, 7: 17, 8: 18, 9: 19, 10: 20}"
      ]
     },
     "execution_count": 24,
     "metadata": {},
     "output_type": "execute_result"
    }
   ],
   "source": [
    "{i: i+10for i in range (1,11)}"
   ]
  },
  {
   "cell_type": "code",
   "execution_count": 31,
   "id": "f7179f7b-c76e-43cc-a5eb-bb95a6611f41",
   "metadata": {},
   "outputs": [
    {
     "data": {
      "text/plain": [
       "{1: 0.0,\n",
       " 2: 0.3010299956639812,\n",
       " 3: 0.47712125471966244,\n",
       " 4: 0.6020599913279624,\n",
       " 5: 0.6989700043360189,\n",
       " 6: 0.7781512503836436,\n",
       " 7: 0.8450980400142568,\n",
       " 8: 0.9030899869919435,\n",
       " 9: 0.9542425094393249,\n",
       " 10: 1.0}"
      ]
     },
     "execution_count": 31,
     "metadata": {},
     "output_type": "execute_result"
    }
   ],
   "source": [
    "import math\n",
    "d21={i: math.log10(i) for i in range (1,11)}\n",
    "d21"
   ]
  },
  {
   "cell_type": "code",
   "execution_count": 27,
   "id": "9b6978b2-7750-4f38-ab1f-0dddff1a61c5",
   "metadata": {},
   "outputs": [
    {
     "data": {
      "text/plain": [
       "{'batchname': ['data science', 'web dev', 'java', 'salseforce'],\n",
       " 'date': (15, 26, 25, 78, 96),\n",
       " 'mentor': {'anurag', 'krish', 'navin', 'sudanshu'},\n",
       " 'name': 'himanshi',\n",
       " 'email': 'hk@gmail.com',\n",
       " 'no': 98745632}"
      ]
     },
     "execution_count": 27,
     "metadata": {},
     "output_type": "execute_result"
    }
   ],
   "source": [
    "d12"
   ]
  },
  {
   "cell_type": "code",
   "execution_count": 28,
   "id": "d52e7b93-4335-40cb-8252-394d730705e4",
   "metadata": {},
   "outputs": [
    {
     "data": {
      "text/plain": [
       "True"
      ]
     },
     "execution_count": 28,
     "metadata": {},
     "output_type": "execute_result"
    }
   ],
   "source": [
    "'batchname' in d12"
   ]
  },
  {
   "cell_type": "code",
   "execution_count": 30,
   "id": "6d4e048d-20fe-4489-8b34-3da2ce91caa8",
   "metadata": {},
   "outputs": [
    {
     "data": {
      "text/plain": [
       "{1: 0.0,\n",
       " 2: 0.3010299956639812,\n",
       " 3: 0.47712125471966244,\n",
       " 4: 0.6020599913279624,\n",
       " 5: 0.6989700043360189,\n",
       " 6: 0.7781512503836436,\n",
       " 7: 0.8450980400142568,\n",
       " 8: 0.9030899869919435,\n",
       " 9: 0.9542425094393249,\n",
       " 10: 1.0}"
      ]
     },
     "execution_count": 30,
     "metadata": {},
     "output_type": "execute_result"
    }
   ],
   "source": [
    "d21"
   ]
  },
  {
   "cell_type": "code",
   "execution_count": 38,
   "id": "0f75a90e-045f-491a-baf2-214b74d9edcd",
   "metadata": {},
   "outputs": [
    {
     "name": "stdout",
     "output_type": "stream",
     "text": [
      "0.3010299956639812\n",
      "0.6020599913279624\n",
      "0.7781512503836436\n",
      "0.9030899869919435\n",
      "1.0\n"
     ]
    }
   ],
   "source": [
    "for i in d21.keys():\n",
    "    if i%2==0:\n",
    "        print(d21[i])"
   ]
  },
  {
   "cell_type": "code",
   "execution_count": null,
   "id": "94c9f1e4-15ac-43b2-a941-38fa6b3d0a1c",
   "metadata": {},
   "outputs": [],
   "source": []
  }
 ],
 "metadata": {
  "kernelspec": {
   "display_name": "Python 3 (ipykernel)",
   "language": "python",
   "name": "python3"
  },
  "language_info": {
   "codemirror_mode": {
    "name": "ipython",
    "version": 3
   },
   "file_extension": ".py",
   "mimetype": "text/x-python",
   "name": "python",
   "nbconvert_exporter": "python",
   "pygments_lexer": "ipython3",
   "version": "3.10.8"
  }
 },
 "nbformat": 4,
 "nbformat_minor": 5
}
