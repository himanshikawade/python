{
 "cells": [
  {
   "cell_type": "code",
   "execution_count": 1,
   "id": "39210e35-c3ef-4517-80e8-df57fa5cccf9",
   "metadata": {},
   "outputs": [],
   "source": [
    "class pwskills:\n",
    "    def details(self,name,email,id):\n",
    "        print(name,email,id)"
   ]
  },
  {
   "cell_type": "code",
   "execution_count": 2,
   "id": "592398f2-07ad-4b5b-9650-ee317632c877",
   "metadata": {},
   "outputs": [],
   "source": [
    "pw=pwskills()"
   ]
  },
  {
   "cell_type": "code",
   "execution_count": 3,
   "id": "0ca4fa71-cc3b-48c2-aba4-3255bd88b933",
   "metadata": {},
   "outputs": [
    {
     "name": "stdout",
     "output_type": "stream",
     "text": [
      "himanshi HK@gmail.com 45\n"
     ]
    }
   ],
   "source": [
    "pw.details(\"himanshi\",\"HK@gmail.com\",45)"
   ]
  },
  {
   "cell_type": "code",
   "execution_count": 14,
   "id": "83fa0540-6091-4f56-9fe0-634499752489",
   "metadata": {},
   "outputs": [],
   "source": [
    "class pwskills1:\n",
    "    def details(self,name,email,id):\n",
    "        print(name,email,id)\n",
    "        \n",
    "    @staticmethod\n",
    "    def mentor(list_mentor):\n",
    "        print(list_mentor)\n",
    "        \n",
    "    def mentor(self,mentor_list):\n",
    "        print(mentor_list)\n"
   ]
  },
  {
   "cell_type": "code",
   "execution_count": 15,
   "id": "6372369f-a6b0-498d-8e89-5eb8379cea8f",
   "metadata": {},
   "outputs": [
    {
     "name": "stdout",
     "output_type": "stream",
     "text": [
      "['sudh', 'krish']\n"
     ]
    }
   ],
   "source": [
    "pwskills1.mentor([\"sudh\",\"krish\"])"
   ]
  },
  {
   "cell_type": "code",
   "execution_count": 16,
   "id": "8092516c-a5dc-4fd7-a629-eac9e7ad7eeb",
   "metadata": {},
   "outputs": [],
   "source": [
    "pw1=pwskills1()"
   ]
  },
  {
   "cell_type": "code",
   "execution_count": 17,
   "id": "86517df1-db08-4723-b728-d55e28e4e8e2",
   "metadata": {},
   "outputs": [
    {
     "name": "stdout",
     "output_type": "stream",
     "text": [
      "['sudh', 'krish']\n"
     ]
    }
   ],
   "source": [
    "pw1.mentor([\"sudh\",\"krish\"])"
   ]
  },
  {
   "cell_type": "code",
   "execution_count": 24,
   "id": "04720e63-5a7f-418f-a9da-903c5a2196d8",
   "metadata": {},
   "outputs": [],
   "source": [
    "class pwskills2:\n",
    "    def details(self,name,email,nid):\n",
    "        print(name,email,nid)\n",
    "      \n",
    "    @staticmethod\n",
    "    def mentorid(nid):\n",
    "        print(nid)\n",
    "        \n",
    "        \n",
    "    @staticmethod\n",
    "    def mentor(list_mentor):\n",
    "        print(list_mentor)\n",
    "        pwskills2.mentorid([\"hk@gmail.com\",\"lk@gmail.com\"])\n",
    "        \n",
    "    @classmethod\n",
    "    def classn(cls,name):\n",
    "        cls.mentor([\"sudh\",\"krish\"])\n",
    "        \n",
    "    def mentor(self,mentor_list):\n",
    "        print(mentor_list)\n",
    "        self.mentor([\"krish\",\"sudh\"])\n"
   ]
  },
  {
   "cell_type": "code",
   "execution_count": 27,
   "id": "8278db85-d7a0-4074-b704-519da306bc5e",
   "metadata": {},
   "outputs": [],
   "source": [
    "pw1=pwskills2"
   ]
  },
  {
   "cell_type": "code",
   "execution_count": 29,
   "id": "c17944e5-119c-4c0c-b5d3-13cb6dc370fd",
   "metadata": {},
   "outputs": [
    {
     "name": "stdout",
     "output_type": "stream",
     "text": [
      "Hk@gmail.com 45 65\n"
     ]
    }
   ],
   "source": [
    "pw1.details(\"himanshi\",\"Hk@gmail.com\",\"45\",65)"
   ]
  },
  {
   "cell_type": "code",
   "execution_count": 32,
   "id": "2dbaabf5-292f-448c-90bd-e2506d1243a6",
   "metadata": {},
   "outputs": [
    {
     "name": "stdout",
     "output_type": "stream",
     "text": [
      "['hk@gmail.com', 'LK@gmail.com']\n"
     ]
    }
   ],
   "source": [
    "pw1.mentorid([\"hk@gmail.com\",\"LK@gmail.com\"])"
   ]
  },
  {
   "cell_type": "code",
   "execution_count": null,
   "id": "f00b7039-c749-462e-8e37-143a7c147418",
   "metadata": {},
   "outputs": [],
   "source": []
  }
 ],
 "metadata": {
  "kernelspec": {
   "display_name": "Python 3 (ipykernel)",
   "language": "python",
   "name": "python3"
  },
  "language_info": {
   "codemirror_mode": {
    "name": "ipython",
    "version": 3
   },
   "file_extension": ".py",
   "mimetype": "text/x-python",
   "name": "python",
   "nbconvert_exporter": "python",
   "pygments_lexer": "ipython3",
   "version": "3.10.8"
  }
 },
 "nbformat": 4,
 "nbformat_minor": 5
}
