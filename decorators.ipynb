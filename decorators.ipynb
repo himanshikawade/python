{
 "cells": [
  {
   "cell_type": "code",
   "execution_count": 3,
   "id": "6372323c-dddf-4a1b-ac8c-49b3d412c05a",
   "metadata": {},
   "outputs": [],
   "source": [
    "def test():\n",
    "    print(10+95)\n",
    "    print(\"this is my function\")"
   ]
  },
  {
   "cell_type": "code",
   "execution_count": 4,
   "id": "04e24d5e-82f9-4d95-a326-207f5241ec19",
   "metadata": {},
   "outputs": [
    {
     "name": "stdout",
     "output_type": "stream",
     "text": [
      "105\n",
      "this is my function\n"
     ]
    }
   ],
   "source": [
    "test()"
   ]
  },
  {
   "cell_type": "code",
   "execution_count": 7,
   "id": "a2342929-6388-4845-88ee-f43b8103111e",
   "metadata": {},
   "outputs": [],
   "source": [
    "def deco(func):\n",
    "    def inner_deco():\n",
    "        print(\"this is my start of function\")\n",
    "        func()\n",
    "        print(\"this is my end of  function\")\n",
    "         \n",
    "    return inner_deco()"
   ]
  },
  {
   "cell_type": "code",
   "execution_count": 9,
   "id": "1abc0544-302b-4ab7-b658-accbf6d850d0",
   "metadata": {},
   "outputs": [
    {
     "name": "stdout",
     "output_type": "stream",
     "text": [
      "this is my start of function\n",
      "98762\n",
      "this is my end of  function\n"
     ]
    }
   ],
   "source": [
    "@deco\n",
    "def test1():\n",
    "    print(200+98562)"
   ]
  },
  {
   "cell_type": "code",
   "execution_count": 2,
   "id": "3d579e3c-4f9f-47f0-ae17-53aecef6b09b",
   "metadata": {},
   "outputs": [],
   "source": [
    "import time\n",
    "def timer_test(func):\n",
    "    def timer_test_inner():\n",
    "        start=time.time()\n",
    "        func()\n",
    "        end=time.time()\n",
    "        print(end-start)\n",
    "    return timer_test_inner"
   ]
  },
  {
   "cell_type": "code",
   "execution_count": 3,
   "id": "9deec0e3-8347-4141-9d1a-b262092ce396",
   "metadata": {},
   "outputs": [],
   "source": [
    "@timer_test\n",
    "def test2():\n",
    "    print(45*2)"
   ]
  },
  {
   "cell_type": "code",
   "execution_count": 4,
   "id": "527b139d-9eeb-4834-9c25-b90d9b18003b",
   "metadata": {},
   "outputs": [
    {
     "name": "stdout",
     "output_type": "stream",
     "text": [
      "90\n",
      "5.364418029785156e-05\n"
     ]
    }
   ],
   "source": [
    "test2()"
   ]
  },
  {
   "cell_type": "code",
   "execution_count": 5,
   "id": "c7677ae8-8ba2-4e95-9cc1-2febc08f4ccd",
   "metadata": {},
   "outputs": [],
   "source": [
    "@timer_test\n",
    "def test3():\n",
    "    for i in range(1000):\n",
    "        pass\n",
    "    \n",
    "    "
   ]
  },
  {
   "cell_type": "code",
   "execution_count": 6,
   "id": "ba8434ae-b541-4214-a457-b5590cde205c",
   "metadata": {},
   "outputs": [
    {
     "name": "stdout",
     "output_type": "stream",
     "text": [
      "2.4080276489257812e-05\n"
     ]
    }
   ],
   "source": [
    "test3()"
   ]
  },
  {
   "cell_type": "code",
   "execution_count": null,
   "id": "c14bb95d-2587-48ec-85cd-dc4073996517",
   "metadata": {},
   "outputs": [],
   "source": []
  },
  {
   "cell_type": "code",
   "execution_count": null,
   "id": "baab9202-d7fa-4d9e-9ccf-6564e54484c0",
   "metadata": {},
   "outputs": [],
   "source": []
  },
  {
   "cell_type": "code",
   "execution_count": null,
   "id": "4bcd4573-efe3-46f5-bbc5-e3086442411c",
   "metadata": {},
   "outputs": [],
   "source": []
  }
 ],
 "metadata": {
  "kernelspec": {
   "display_name": "Python 3 (ipykernel)",
   "language": "python",
   "name": "python3"
  },
  "language_info": {
   "codemirror_mode": {
    "name": "ipython",
    "version": 3
   },
   "file_extension": ".py",
   "mimetype": "text/x-python",
   "name": "python",
   "nbconvert_exporter": "python",
   "pygments_lexer": "ipython3",
   "version": "3.10.8"
  }
 },
 "nbformat": 4,
 "nbformat_minor": 5
}
