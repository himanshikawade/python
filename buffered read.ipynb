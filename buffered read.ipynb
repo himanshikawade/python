{
 "cells": [
  {
   "cell_type": "code",
   "execution_count": 2,
   "id": "b0de3b50-6cba-4262-87f5-18e23087b3e4",
   "metadata": {},
   "outputs": [],
   "source": [
    "import io\n"
   ]
  },
  {
   "cell_type": "code",
   "execution_count": 6,
   "id": "699d98bb-42da-4279-bf4d-3b4777505418",
   "metadata": {},
   "outputs": [],
   "source": [
    "with open(\"test5.txt\",\"wb\") as f:\n",
    "    file=io.BufferedWriter(f)\n",
    "    file.write(b\"This is my buffer write\\n\")\n",
    "    file.write(b\"This is my second line that i am writing in binary mode\")\n",
    "    file.flush()"
   ]
  },
  {
   "cell_type": "code",
   "execution_count": 8,
   "id": "743e5e1d-53e7-4bf6-bc4b-dd47be59b4f5",
   "metadata": {},
   "outputs": [
    {
     "name": "stdout",
     "output_type": "stream",
     "text": [
      "b'This is my buffer write\\nThis is my second line that i am writing in binary mode'\n"
     ]
    }
   ],
   "source": [
    "with open (\"test5.txt\",\"rb\") as f:\n",
    "    file=io.BufferedReader(f)\n",
    "    data=file.read()\n",
    "    print(data)"
   ]
  },
  {
   "cell_type": "code",
   "execution_count": null,
   "id": "1bdfeb40-ae58-43c9-aa28-7e363c1f4831",
   "metadata": {},
   "outputs": [],
   "source": []
  }
 ],
 "metadata": {
  "kernelspec": {
   "display_name": "Python 3 (ipykernel)",
   "language": "python",
   "name": "python3"
  },
  "language_info": {
   "codemirror_mode": {
    "name": "ipython",
    "version": 3
   },
   "file_extension": ".py",
   "mimetype": "text/x-python",
   "name": "python",
   "nbconvert_exporter": "python",
   "pygments_lexer": "ipython3",
   "version": "3.10.8"
  }
 },
 "nbformat": 4,
 "nbformat_minor": 5
}
