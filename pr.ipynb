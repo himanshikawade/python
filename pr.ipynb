{
 "cells": [
  {
   "cell_type": "code",
   "execution_count": 1,
   "id": "8998a29e-5267-4e0b-a35f-2e144ddc7df3",
   "metadata": {},
   "outputs": [
    {
     "data": {
      "text/plain": [
       "dict"
      ]
     },
     "execution_count": 1,
     "metadata": {},
     "output_type": "execute_result"
    }
   ],
   "source": [
    "s={}\n",
    "type(s)"
   ]
  },
  {
   "cell_type": "code",
   "execution_count": 2,
   "id": "94829999-8aad-490e-ab36-ef8b52d18171",
   "metadata": {},
   "outputs": [
    {
     "data": {
      "text/plain": [
       "set"
      ]
     },
     "execution_count": 2,
     "metadata": {},
     "output_type": "execute_result"
    }
   ],
   "source": [
    "s1={1,2,3,4,5,6}\n",
    "type(s1)"
   ]
  },
  {
   "cell_type": "code",
   "execution_count": 3,
   "id": "32c728c2-9aff-46c1-a71c-4b1f3065b40a",
   "metadata": {},
   "outputs": [
    {
     "data": {
      "text/plain": [
       "{1, 12, 13, 14, 15, 18, 40}"
      ]
     },
     "execution_count": 3,
     "metadata": {},
     "output_type": "execute_result"
    }
   ],
   "source": [
    "s2={1,1,12,13,14,15,18,14,12,14,1,40}\n",
    "s2"
   ]
  },
  {
   "cell_type": "code",
   "execution_count": 6,
   "id": "561969fa-18cd-46ec-a05e-8ba860390ce8",
   "metadata": {},
   "outputs": [
    {
     "data": {
      "text/plain": [
       "[1, 18, 40, 12, 13, 14, 15]"
      ]
     },
     "execution_count": 6,
     "metadata": {},
     "output_type": "execute_result"
    }
   ],
   "source": [
    "list(s2)"
   ]
  },
  {
   "cell_type": "code",
   "execution_count": 7,
   "id": "9afb3857-7b44-48a8-bf06-4911a643a44f",
   "metadata": {},
   "outputs": [
    {
     "data": {
      "text/plain": [
       "set"
      ]
     },
     "execution_count": 7,
     "metadata": {},
     "output_type": "execute_result"
    }
   ],
   "source": [
    "type(s2)"
   ]
  },
  {
   "cell_type": "code",
   "execution_count": 8,
   "id": "68fdf39f-562a-466e-b1f2-e04d5b3cb144",
   "metadata": {},
   "outputs": [
    {
     "data": {
      "text/plain": [
       "(1, 18, 40, 12, 13, 14, 15)"
      ]
     },
     "execution_count": 8,
     "metadata": {},
     "output_type": "execute_result"
    }
   ],
   "source": [
    "tuple(s2)"
   ]
  },
  {
   "cell_type": "code",
   "execution_count": 10,
   "id": "590ee3de-6194-4eb7-8ba3-718ce2c8fdf0",
   "metadata": {},
   "outputs": [
    {
     "data": {
      "text/plain": [
       "{(4, 5, 6, 7, 8), 1, 2, 3, 4, 5, 6}"
      ]
     },
     "execution_count": 10,
     "metadata": {},
     "output_type": "execute_result"
    }
   ],
   "source": [
    "s3={1,2,3,4,5,6,(4,5,6,7,8)}\n",
    "s3"
   ]
  },
  {
   "cell_type": "code",
   "execution_count": 11,
   "id": "dacb8ea4-90fd-47ab-bca8-daede1eb1ad5",
   "metadata": {},
   "outputs": [
    {
     "data": {
      "text/plain": [
       "{5, 7, 8, 9, 'himanshi', 'kawade'}"
      ]
     },
     "execution_count": 11,
     "metadata": {},
     "output_type": "execute_result"
    }
   ],
   "source": [
    "s5={'himanshi','kawade',5,9,8,7}\n",
    "s5"
   ]
  },
  {
   "cell_type": "code",
   "execution_count": 13,
   "id": "73bd7a54-beaa-4f1c-a278-4c6a53b5458d",
   "metadata": {},
   "outputs": [
    {
     "name": "stdout",
     "output_type": "stream",
     "text": [
      "kawade\n",
      "5\n",
      "7\n",
      "8\n",
      "himanshi\n",
      "9\n"
     ]
    }
   ],
   "source": [
    "for i in s5:\n",
    "    print(i)"
   ]
  },
  {
   "cell_type": "code",
   "execution_count": 14,
   "id": "49236213-ad60-4d4e-a2a3-8b52325d8d46",
   "metadata": {
    "jp-MarkdownHeadingCollapsed": true,
    "tags": []
   },
   "outputs": [
    {
     "data": {
      "text/plain": [
       "{5, 58, 7, 8, 9, 'himanshi', 'kawade'}"
      ]
     },
     "execution_count": 14,
     "metadata": {},
     "output_type": "execute_result"
    }
   ],
   "source": [
    "s5.add(58)\n",
    "s5"
   ]
  },
  {
   "cell_type": "code",
   "execution_count": 17,
   "id": "5b4394c8-c95f-47f0-a2d9-4112e4b8ae8d",
   "metadata": {},
   "outputs": [
    {
     "data": {
      "text/plain": [
       "{5, 58, 9, 'himanshi', 'kawade'}"
      ]
     },
     "execution_count": 17,
     "metadata": {},
     "output_type": "execute_result"
    }
   ],
   "source": [
    "s5.remove(7)\n",
    "s5"
   ]
  },
  {
   "cell_type": "code",
   "execution_count": 18,
   "id": "5e1d04af-609f-4378-9152-f08af3fb5357",
   "metadata": {},
   "outputs": [
    {
     "data": {
      "text/plain": [
       "5"
      ]
     },
     "execution_count": 18,
     "metadata": {},
     "output_type": "execute_result"
    }
   ],
   "source": [
    "len(s5)"
   ]
  },
  {
   "cell_type": "code",
   "execution_count": 19,
   "id": "0e4a3daf-4fb6-45cb-80c9-9676893b0fec",
   "metadata": {},
   "outputs": [
    {
     "data": {
      "text/plain": [
       "{5, 58, 9, 'himanshi'}"
      ]
     },
     "execution_count": 19,
     "metadata": {},
     "output_type": "execute_result"
    }
   ],
   "source": [
    "s5.pop()\n",
    "s5"
   ]
  },
  {
   "cell_type": "code",
   "execution_count": 20,
   "id": "30e7e0b3-e70a-41cd-8b7a-e979d086bb65",
   "metadata": {},
   "outputs": [],
   "source": [
    "s5.clear()"
   ]
  },
  {
   "cell_type": "code",
   "execution_count": 21,
   "id": "40557038-954a-4fb4-8328-ac0f5f219d62",
   "metadata": {},
   "outputs": [
    {
     "data": {
      "text/plain": [
       "set()"
      ]
     },
     "execution_count": 21,
     "metadata": {},
     "output_type": "execute_result"
    }
   ],
   "source": [
    "s5"
   ]
  },
  {
   "cell_type": "code",
   "execution_count": 22,
   "id": "8cdec2b8-a1ed-4593-a9ab-66613d108a50",
   "metadata": {},
   "outputs": [],
   "source": [
    "s6={1,2,3,4}\n",
    "s7={1,2,3,5}\n"
   ]
  },
  {
   "cell_type": "code",
   "execution_count": 23,
   "id": "572177c1-d9a3-4ddb-bcf5-69bdd72c93d2",
   "metadata": {},
   "outputs": [
    {
     "data": {
      "text/plain": [
       "{4}"
      ]
     },
     "execution_count": 23,
     "metadata": {},
     "output_type": "execute_result"
    }
   ],
   "source": [
    "s6.difference(s7)"
   ]
  },
  {
   "cell_type": "code",
   "execution_count": 24,
   "id": "ad53f189-5216-49a4-b5e8-8cf9efe430f9",
   "metadata": {},
   "outputs": [
    {
     "data": {
      "text/plain": [
       "{1, 2, 3, 4, 5}"
      ]
     },
     "execution_count": 24,
     "metadata": {},
     "output_type": "execute_result"
    }
   ],
   "source": [
    "s6.union(s7)\n"
   ]
  },
  {
   "cell_type": "code",
   "execution_count": 27,
   "id": "9fad93a6-37fe-427b-b0a6-1d1d5e652215",
   "metadata": {},
   "outputs": [
    {
     "data": {
      "text/plain": [
       "{1, 2, 3}"
      ]
     },
     "execution_count": 27,
     "metadata": {},
     "output_type": "execute_result"
    }
   ],
   "source": [
    "s6.intersection(s7)"
   ]
  },
  {
   "cell_type": "code",
   "execution_count": 28,
   "id": "a742ab7b-95b7-4653-aa75-eef1fbcbaf43",
   "metadata": {},
   "outputs": [
    {
     "data": {
      "text/plain": [
       "1"
      ]
     },
     "execution_count": 28,
     "metadata": {},
     "output_type": "execute_result"
    }
   ],
   "source": [
    "10%3"
   ]
  },
  {
   "cell_type": "code",
   "execution_count": 30,
   "id": "e81148fa-af6a-4fa5-bfaa-39797c1b8cae",
   "metadata": {},
   "outputs": [
    {
     "name": "stdout",
     "output_type": "stream",
     "text": [
      "x is greater than y\n"
     ]
    }
   ],
   "source": [
    "x = 5\n",
    "\n",
    "y = 2\n",
    "\n",
    " \n",
    "\n",
    "if x > y:\n",
    "\n",
    "    print(\"x is greater than y\")\n",
    "\n",
    "elif x < y:\n",
    "\n",
    "    print(\"x is less than y\")\n",
    "\n",
    "else:\n",
    "\n",
    "    print(\"x is equal to y\")"
   ]
  },
  {
   "cell_type": "code",
   "execution_count": 33,
   "id": "d86c1f0b-d622-4dea-9da8-57ba5d33f228",
   "metadata": {},
   "outputs": [
    {
     "name": "stdout",
     "output_type": "stream",
     "text": [
      "0\n",
      "1\n",
      "3\n",
      "4\n"
     ]
    }
   ],
   "source": [
    "for i in range(5):\n",
    "    if i == 2:\n",
    "        continue\n",
    "    print(i)\n",
    "    \n",
    "    \n",
    "\n",
    "\n",
    "\n"
   ]
  },
  {
   "cell_type": "code",
   "execution_count": null,
   "id": "a89df06a-13f8-4e75-ad97-2ad862449e1a",
   "metadata": {},
   "outputs": [],
   "source": []
  }
 ],
 "metadata": {
  "kernelspec": {
   "display_name": "Python 3 (ipykernel)",
   "language": "python",
   "name": "python3"
  },
  "language_info": {
   "codemirror_mode": {
    "name": "ipython",
    "version": 3
   },
   "file_extension": ".py",
   "mimetype": "text/x-python",
   "name": "python",
   "nbconvert_exporter": "python",
   "pygments_lexer": "ipython3",
   "version": "3.10.8"
  }
 },
 "nbformat": 4,
 "nbformat_minor": 5
}
