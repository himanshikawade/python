{
 "cells": [
  {
   "cell_type": "code",
   "execution_count": 2,
   "id": "76f63b15-746e-4774-bc33-2a28e1eb9875",
   "metadata": {},
   "outputs": [
    {
     "name": "stdout",
     "output_type": "stream",
     "text": [
      "Himanshi kawade\n"
     ]
    }
   ],
   "source": [
    "print(\"Himanshi kawade\")"
   ]
  },
  {
   "cell_type": "code",
   "execution_count": 3,
   "id": "321e3578-cd8e-4942-b67f-dcd857318ab0",
   "metadata": {},
   "outputs": [],
   "source": [
    "l=[1,2,3,4,5,6]"
   ]
  },
  {
   "cell_type": "code",
   "execution_count": 4,
   "id": "5d89f81c-7f4f-48fc-9e30-cc42f4a2a274",
   "metadata": {},
   "outputs": [
    {
     "data": {
      "text/plain": [
       "6"
      ]
     },
     "execution_count": 4,
     "metadata": {},
     "output_type": "execute_result"
    }
   ],
   "source": [
    "len(l)"
   ]
  },
  {
   "cell_type": "code",
   "execution_count": 8,
   "id": "1deae465-4ebd-4b6f-bbf8-86b3dd1842d0",
   "metadata": {},
   "outputs": [
    {
     "name": "stdout",
     "output_type": "stream",
     "text": [
      "This is my very very first function\n",
      "himanshi\n"
     ]
    }
   ],
   "source": [
    "def test():\n",
    "    print(\"This is my very very first function\")\n",
    "    print(\"himanshi\")\n",
    "    \n",
    "    \n",
    "test()\n",
    "    "
   ]
  },
  {
   "cell_type": "code",
   "execution_count": 9,
   "id": "3c3e6e59-25f2-497b-8ce9-09a47b49b5d4",
   "metadata": {},
   "outputs": [
    {
     "name": "stdout",
     "output_type": "stream",
     "text": [
      "This is my very very first function\n",
      "himanshi\n"
     ]
    }
   ],
   "source": [
    "test()\n"
   ]
  },
  {
   "cell_type": "code",
   "execution_count": 10,
   "id": "57cab0c8-2539-41da-855a-cb06a7cd3b29",
   "metadata": {},
   "outputs": [],
   "source": [
    "def test1():\n",
    "    return \"This  is my function with return\"\n"
   ]
  },
  {
   "cell_type": "code",
   "execution_count": 13,
   "id": "3aebc4de-3155-4f6f-b4c4-da2e606173cc",
   "metadata": {},
   "outputs": [
    {
     "data": {
      "text/plain": [
       "'This  is my function with return Himanshi'"
      ]
     },
     "execution_count": 13,
     "metadata": {},
     "output_type": "execute_result"
    }
   ],
   "source": [
    "test1()+\" Himanshi\""
   ]
  },
  {
   "cell_type": "code",
   "execution_count": 14,
   "id": "36682ffe-b93b-4f68-b8fe-c328b8d23c5d",
   "metadata": {},
   "outputs": [
    {
     "data": {
      "text/plain": [
       "(19, 2004, 'Himanshi')"
      ]
     },
     "execution_count": 14,
     "metadata": {},
     "output_type": "execute_result"
    }
   ],
   "source": [
    "def  test2():\n",
    "    return 19,2004,\"Himanshi\"\n",
    "test2()"
   ]
  },
  {
   "cell_type": "code",
   "execution_count": 15,
   "id": "d9f38922-2b9d-4fce-a205-d48a76b6f952",
   "metadata": {},
   "outputs": [
    {
     "data": {
      "text/plain": [
       "(1, 2, 3, 4, 8, 6, 5)"
      ]
     },
     "execution_count": 15,
     "metadata": {},
     "output_type": "execute_result"
    }
   ],
   "source": [
    "a=1,2,3,4,8,6,5\n",
    "a"
   ]
  },
  {
   "cell_type": "code",
   "execution_count": 16,
   "id": "a27d3f15-69ad-4f03-833e-6f2c8b95cbee",
   "metadata": {},
   "outputs": [],
   "source": [
    "a,b,c,d=1,19,35.96,True"
   ]
  },
  {
   "cell_type": "code",
   "execution_count": 17,
   "id": "034bec1f-ef1b-4283-bfbe-acc946954a83",
   "metadata": {},
   "outputs": [
    {
     "data": {
      "text/plain": [
       "1"
      ]
     },
     "execution_count": 17,
     "metadata": {},
     "output_type": "execute_result"
    }
   ],
   "source": [
    "a"
   ]
  },
  {
   "cell_type": "code",
   "execution_count": 18,
   "id": "be9e724f-f629-4111-9e78-521f1c014493",
   "metadata": {},
   "outputs": [
    {
     "data": {
      "text/plain": [
       "19"
      ]
     },
     "execution_count": 18,
     "metadata": {},
     "output_type": "execute_result"
    }
   ],
   "source": [
    "b"
   ]
  },
  {
   "cell_type": "code",
   "execution_count": 19,
   "id": "d05d660a-03a3-47ec-9928-4d0e45d54b92",
   "metadata": {},
   "outputs": [
    {
     "data": {
      "text/plain": [
       "35.96"
      ]
     },
     "execution_count": 19,
     "metadata": {},
     "output_type": "execute_result"
    }
   ],
   "source": [
    "c"
   ]
  },
  {
   "cell_type": "code",
   "execution_count": 20,
   "id": "75ac4408-c0d5-4b99-ac6e-67cb83129672",
   "metadata": {},
   "outputs": [
    {
     "data": {
      "text/plain": [
       "True"
      ]
     },
     "execution_count": 20,
     "metadata": {},
     "output_type": "execute_result"
    }
   ],
   "source": [
    "d"
   ]
  },
  {
   "cell_type": "code",
   "execution_count": 22,
   "id": "2503913b-e0da-4874-87cd-eb1f916f006d",
   "metadata": {},
   "outputs": [
    {
     "data": {
      "text/plain": [
       "'Himanshi'"
      ]
     },
     "execution_count": 22,
     "metadata": {},
     "output_type": "execute_result"
    }
   ],
   "source": [
    "test2()[2]"
   ]
  },
  {
   "cell_type": "code",
   "execution_count": 23,
   "id": "5925b4d1-df07-4872-bb33-9219943d9fbb",
   "metadata": {},
   "outputs": [],
   "source": [
    "a,b,c=test2()"
   ]
  },
  {
   "cell_type": "code",
   "execution_count": 24,
   "id": "92d7deec-5f6f-43a4-ae1c-8a415ca7cbce",
   "metadata": {},
   "outputs": [
    {
     "data": {
      "text/plain": [
       "19"
      ]
     },
     "execution_count": 24,
     "metadata": {},
     "output_type": "execute_result"
    }
   ],
   "source": [
    "a"
   ]
  },
  {
   "cell_type": "code",
   "execution_count": 25,
   "id": "17b7c6db-e106-4be7-a6cd-c12ee7812ca3",
   "metadata": {},
   "outputs": [
    {
     "data": {
      "text/plain": [
       "2004"
      ]
     },
     "execution_count": 25,
     "metadata": {},
     "output_type": "execute_result"
    }
   ],
   "source": [
    "b"
   ]
  },
  {
   "cell_type": "code",
   "execution_count": 26,
   "id": "50d644cd-51b1-4ea1-8166-1e2a54c075f1",
   "metadata": {},
   "outputs": [
    {
     "data": {
      "text/plain": [
       "'Himanshi'"
      ]
     },
     "execution_count": 26,
     "metadata": {},
     "output_type": "execute_result"
    }
   ],
   "source": [
    "c"
   ]
  },
  {
   "cell_type": "code",
   "execution_count": 27,
   "id": "f7d7f3f9-dbd7-4bc2-82b1-bf58c607e490",
   "metadata": {},
   "outputs": [],
   "source": [
    "def test3():\n",
    "    a=3*4+5\n",
    "    return a"
   ]
  },
  {
   "cell_type": "code",
   "execution_count": 29,
   "id": "d338779a-2806-4e18-abd5-9d8f39b60ed2",
   "metadata": {},
   "outputs": [
    {
     "data": {
      "text/plain": [
       "int"
      ]
     },
     "execution_count": 29,
     "metadata": {},
     "output_type": "execute_result"
    }
   ],
   "source": [
    "type(test3())"
   ]
  },
  {
   "cell_type": "code",
   "execution_count": 30,
   "id": "bfb53155-1a44-44be-87dc-0f19ab29abe3",
   "metadata": {},
   "outputs": [
    {
     "data": {
      "text/plain": [
       "17"
      ]
     },
     "execution_count": 30,
     "metadata": {},
     "output_type": "execute_result"
    }
   ],
   "source": [
    "test3()"
   ]
  },
  {
   "cell_type": "code",
   "execution_count": 33,
   "id": "8387ccd8-aa9b-4399-b782-b07c868ee632",
   "metadata": {},
   "outputs": [
    {
     "data": {
      "text/plain": [
       "77"
      ]
     },
     "execution_count": 33,
     "metadata": {},
     "output_type": "execute_result"
    }
   ],
   "source": [
    "def test4(a,b):\n",
    "    c=a+b\n",
    "    return c\n",
    "\n",
    "test4(20,57)\n",
    "    "
   ]
  },
  {
   "cell_type": "code",
   "execution_count": 34,
   "id": "2d62804e-59ca-4d52-91e7-33dbfdcdc12d",
   "metadata": {},
   "outputs": [
    {
     "data": {
      "text/plain": [
       "'himanshikawade'"
      ]
     },
     "execution_count": 34,
     "metadata": {},
     "output_type": "execute_result"
    }
   ],
   "source": [
    "test4(\"himanshi\",\"kawade\")"
   ]
  },
  {
   "cell_type": "code",
   "execution_count": 35,
   "id": "a0219ef5-8084-447d-a5c0-d6b7a8bf036c",
   "metadata": {},
   "outputs": [
    {
     "data": {
      "text/plain": [
       "[1, 2, 3, 4, 5, 6, 7, 8, 9, 1, 0, 11, 12]"
      ]
     },
     "execution_count": 35,
     "metadata": {},
     "output_type": "execute_result"
    }
   ],
   "source": [
    "test4([1,2,3,4,5,6],[7,8,9,1,0,11,12])"
   ]
  },
  {
   "cell_type": "code",
   "execution_count": 36,
   "id": "e6354d7d-b3c2-475d-808b-81692be9dbf7",
   "metadata": {},
   "outputs": [
    {
     "data": {
      "text/plain": [
       "'kawadehimanshi'"
      ]
     },
     "execution_count": 36,
     "metadata": {},
     "output_type": "execute_result"
    }
   ],
   "source": [
    "test4(b=\"himanshi\",a=\"kawade\")"
   ]
  },
  {
   "cell_type": "code",
   "execution_count": 37,
   "id": "0762325b-9438-4341-891c-c94754baa90b",
   "metadata": {},
   "outputs": [],
   "source": [
    "l=[1,2,3,4,5,\"himanshi\",\"kawade\",[6,7,8,9,10]]"
   ]
  },
  {
   "cell_type": "code",
   "execution_count": 38,
   "id": "bd84d1cb-b1e3-410b-9142-4a32d642ebde",
   "metadata": {},
   "outputs": [],
   "source": [
    "def filter1(a):\n",
    "    n=[]\n",
    "    for i in a:\n",
    "        if type(i)==int or type(i)==float:\n",
    "            n.append(i)\n",
    "    return(n)\n",
    "\n"
   ]
  },
  {
   "cell_type": "code",
   "execution_count": 39,
   "id": "174f4dfa-c64b-44e0-b6f4-d7f19a7deb6f",
   "metadata": {},
   "outputs": [
    {
     "data": {
      "text/plain": [
       "[1, 2, 3, 4, 5]"
      ]
     },
     "execution_count": 39,
     "metadata": {},
     "output_type": "execute_result"
    }
   ],
   "source": [
    "filter1(l)"
   ]
  },
  {
   "cell_type": "code",
   "execution_count": 53,
   "id": "b2445bb2-7b01-4dd9-b370-ce08ab31a47e",
   "metadata": {},
   "outputs": [],
   "source": [
    "def filter2(a):\n",
    "    m=[]\n",
    "    for i in a:\n",
    "        if type(i)==list:\n",
    "            for j in i:\n",
    "                if type(j)==int or type(j)==float:\n",
    "                     m.append(j)         \n",
    "        else:\n",
    "            if type(i)==int or type(i)==float:\n",
    "                m.append(i)\n",
    "    return(m)\n"
   ]
  },
  {
   "cell_type": "code",
   "execution_count": 54,
   "id": "115b831e-f622-449b-ad6a-a4e6c52dae23",
   "metadata": {},
   "outputs": [
    {
     "data": {
      "text/plain": [
       "[1, 2, 3, 4, 5, 6, 7, 8, 9, 10]"
      ]
     },
     "execution_count": 54,
     "metadata": {},
     "output_type": "execute_result"
    }
   ],
   "source": [
    "filter2(l)"
   ]
  },
  {
   "cell_type": "code",
   "execution_count": 60,
   "id": "7d19ed21-e7a5-4ad7-aa54-0d2c68738231",
   "metadata": {},
   "outputs": [],
   "source": [
    "def test6(a,b,c,d,e,f):\n",
    "    pass"
   ]
  },
  {
   "cell_type": "code",
   "execution_count": 62,
   "id": "f6becc25-e8b1-480a-9875-6eb0f86cb4a9",
   "metadata": {},
   "outputs": [],
   "source": [
    "test6(1,2,3,4,5,6)"
   ]
  },
  {
   "cell_type": "code",
   "execution_count": 64,
   "id": "218a2c97-087b-43ca-bb9d-f0e91209b272",
   "metadata": {},
   "outputs": [],
   "source": [
    "def test7(*args):\n",
    "    return(args)"
   ]
  },
  {
   "cell_type": "code",
   "execution_count": 66,
   "id": "29a3a4da-0a64-4390-ae12-1413f083ff83",
   "metadata": {},
   "outputs": [
    {
     "data": {
      "text/plain": [
       "('himanshi', 'kawade', 19, 7, 2004)"
      ]
     },
     "execution_count": 66,
     "metadata": {},
     "output_type": "execute_result"
    }
   ],
   "source": [
    "test7(\"himanshi\",\"kawade\",19,7,2004)"
   ]
  },
  {
   "cell_type": "code",
   "execution_count": 67,
   "id": "afa45c9b-6c76-45d0-9aa6-74c9b944317b",
   "metadata": {},
   "outputs": [
    {
     "data": {
      "text/plain": [
       "('himanshi',\n",
       " 'kawade',\n",
       " 19,\n",
       " 7,\n",
       " 2004,\n",
       " [15, 49, 58, 7465, 68, 95],\n",
       " (1, 2, 3, 4, 5, 6, 7, 8))"
      ]
     },
     "execution_count": 67,
     "metadata": {},
     "output_type": "execute_result"
    }
   ],
   "source": [
    "test7(\"himanshi\",\"kawade\",19,7,2004,[15,49,58,7465,68,95,],(1,2,3,4,5,6,7,8))"
   ]
  },
  {
   "cell_type": "code",
   "execution_count": 69,
   "id": "da8157d0-bf50-44ab-a9be-41ff5b658f33",
   "metadata": {},
   "outputs": [],
   "source": [
    "def test8(*args,a):\n",
    "    return(args,a)"
   ]
  },
  {
   "cell_type": "code",
   "execution_count": 71,
   "id": "90bb3886-2b7f-40c2-9051-9f46df358857",
   "metadata": {},
   "outputs": [
    {
     "data": {
      "text/plain": [
       "(('himanshi', 'kawade', 19, 7, 2004), 8.34)"
      ]
     },
     "execution_count": 71,
     "metadata": {},
     "output_type": "execute_result"
    }
   ],
   "source": [
    "test8(\"himanshi\",\"kawade\",19,7,2004,a=8.34)"
   ]
  },
  {
   "cell_type": "code",
   "execution_count": 72,
   "id": "bfbe0e37-4018-4763-a31c-5d4aeb5b6528",
   "metadata": {},
   "outputs": [],
   "source": [
    "def test9(*args):\n",
    "    l=[]\n",
    "    for i in args:\n",
    "        if type(i)==list:\n",
    "            l.append(i)\n",
    "    return(l)\n",
    "        "
   ]
  },
  {
   "cell_type": "code",
   "execution_count": 73,
   "id": "a1ac151f-7b79-4b7a-9fa4-e6b99ba8d02a",
   "metadata": {},
   "outputs": [
    {
     "data": {
      "text/plain": [
       "[[15, 49, 58, 7465, 68, 95]]"
      ]
     },
     "execution_count": 73,
     "metadata": {},
     "output_type": "execute_result"
    }
   ],
   "source": [
    "test9('himanshi',\n",
    " 'kawade',\n",
    " 19,\n",
    " 7,\n",
    " 2004,\n",
    " [15, 49, 58, 7465, 68, 95],\n",
    " (1, 2, 3, 4, 5, 6, 7, 8))"
   ]
  },
  {
   "cell_type": "code",
   "execution_count": 75,
   "id": "ada15d39-358b-4d63-a1f8-2f5ac32199d3",
   "metadata": {},
   "outputs": [],
   "source": [
    "def test10(**args):\n",
    "    return(args)\n"
   ]
  },
  {
   "cell_type": "code",
   "execution_count": 77,
   "id": "dff28120-c0cf-4f75-b8a4-6ee1b588aa53",
   "metadata": {},
   "outputs": [
    {
     "data": {
      "text/plain": [
       "{'a': 34, 'b': 25, 'c': 45, 'j': 65, 'k': 'himanshi'}"
      ]
     },
     "execution_count": 77,
     "metadata": {},
     "output_type": "execute_result"
    }
   ],
   "source": [
    "test10(a=34,b=25,c=45,j=65,k=\"himanshi\")"
   ]
  },
  {
   "cell_type": "code",
   "execution_count": 78,
   "id": "9ed770b8-327c-4c0b-b9c2-e9dfaa3a467b",
   "metadata": {},
   "outputs": [],
   "source": [
    "def test11(**args):\n",
    "    for i in args.keys():\n",
    "        if type(args[i])==list:\n",
    "            return i,args[i]\n",
    "        \n",
    "    "
   ]
  },
  {
   "cell_type": "code",
   "execution_count": 79,
   "id": "d3b7c47c-8761-4ede-b482-422caefe4f38",
   "metadata": {},
   "outputs": [
    {
     "data": {
      "text/plain": [
       "('b', [1, 2, 3, 4])"
      ]
     },
     "execution_count": 79,
     "metadata": {},
     "output_type": "execute_result"
    }
   ],
   "source": [
    "test11(a=34,b=[1,2,3,4],c=45,j=65,k=\"himanshi\")"
   ]
  },
  {
   "cell_type": "code",
   "execution_count": 83,
   "id": "ce035003-2fd5-407c-9b3f-ef41ffc66684",
   "metadata": {},
   "outputs": [],
   "source": [
    "def test12(*args,**kargs):\n",
    "    return args,kargs\n",
    "    "
   ]
  },
  {
   "cell_type": "code",
   "execution_count": 84,
   "id": "b2dbd660-6658-4e83-b254-3f700de19833",
   "metadata": {},
   "outputs": [
    {
     "data": {
      "text/plain": [
       "((1, 2, 4, 5, 6), {'a': 19, 'b': 2004})"
      ]
     },
     "execution_count": 84,
     "metadata": {},
     "output_type": "execute_result"
    }
   ],
   "source": [
    "test12(1,2,4,5,6,a=19,b=2004)"
   ]
  },
  {
   "cell_type": "code",
   "execution_count": null,
   "id": "8af6ba1b-ccd2-43da-b25b-17d01d977d4f",
   "metadata": {},
   "outputs": [],
   "source": []
  }
 ],
 "metadata": {
  "kernelspec": {
   "display_name": "Python 3 (ipykernel)",
   "language": "python",
   "name": "python3"
  },
  "language_info": {
   "codemirror_mode": {
    "name": "ipython",
    "version": 3
   },
   "file_extension": ".py",
   "mimetype": "text/x-python",
   "name": "python",
   "nbconvert_exporter": "python",
   "pygments_lexer": "ipython3",
   "version": "3.10.8"
  }
 },
 "nbformat": 4,
 "nbformat_minor": 5
}
